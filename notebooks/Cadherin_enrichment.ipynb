{
 "cells": [
  {
   "cell_type": "markdown",
   "metadata": {},
   "source": [
    "Here we take the cadherin interactome data and the lysine modification data and look for enrichment of lysine acylations in the cadherin interactome"
   ]
  },
  {
   "cell_type": "code",
   "execution_count": 1,
   "metadata": {
    "collapsed": false
   },
   "outputs": [],
   "source": [
    "import os\n",
    "import collections\n",
    "\n",
    "import pandas as pd\n",
    "import numpy as np\n",
    "\n",
    "import CGAT.IOTools as IOTools\n",
    "\n",
    "%load_ext rpy2.ipython"
   ]
  },
  {
   "cell_type": "code",
   "execution_count": 2,
   "metadata": {
    "collapsed": false
   },
   "outputs": [],
   "source": [
    "results_dir = \"./results/\"\n",
    "raw_dir = \"../raw\"\n",
    "lysine_mod_inf = os.path.join(results_dir, 'lysine_modification.tsv')\n",
    "\n",
    "cadherin_inf = os.path.join(results_dir, \"cadherine_proteins.tsv\")\n",
    "cadherin_glass_inf = os.path.join(results_dir, \"ecadherin_glass.tsv\")\n",
    "cadherin_biotin_inf = os.path.join(results_dir, \"ecadherin_biotin.tsv\")\n",
    "\n",
    "paxdf_whole_inf = os.path.join(raw_dir, '10090-WHOLE_ORGANISM-integrated.txt')\n",
    "paxdf_liver_inf = os.path.join(raw_dir, '10090-LIVER-integrated.txt')\n"
   ]
  },
  {
   "cell_type": "code",
   "execution_count": 3,
   "metadata": {
    "collapsed": false
   },
   "outputs": [
    {
     "name": "stdout",
     "output_type": "stream",
     "text": [
      "  Protein  Position   Modification             Reference  ratio  p_value\n",
      "0  Q9JLT4       337  succinylation  Sadhukhan_et_al_2016   1.47     -1.0\n",
      "1  Q61425       179  succinylation  Sadhukhan_et_al_2016   1.07     -1.0\n",
      "2  Q61425       241  succinylation  Sadhukhan_et_al_2016   1.33     -1.0\n",
      "3  Q9JLZ3       179  succinylation  Sadhukhan_et_al_2016   4.70     -1.0\n",
      "4  Q9CZU6       450  succinylation  Sadhukhan_et_al_2016  57.68     -1.0\n",
      "      Protein  Position   Modification             Reference  ratio  p_value\n",
      "0      Q9JLT4       337  succinylation  Sadhukhan_et_al_2016   1.47     -1.0\n",
      "5186   Q9JLT4        64  glutarylation        Tan_et_al_2014  -1.00     -1.0\n",
      "5187   Q9JLT4       337  glutarylation        Tan_et_al_2014  -1.00     -1.0\n",
      "5188   Q9JLT4       329  glutarylation        Tan_et_al_2014  -1.00     -1.0\n",
      "5189   Q9JLT4       285  glutarylation        Tan_et_al_2014  -1.00     -1.0\n",
      "5190   Q9JLT4       137  glutarylation        Tan_et_al_2014  -1.00     -1.0\n",
      "9032   Q9JLT4       337  succinylation    Weinert_et_al_2013  -1.00     -1.0\n",
      "9033   Q9JLT4       215  succinylation    Weinert_et_al_2013  -1.00     -1.0\n",
      "9034   Q9JLT4       329  succinylation    Weinert_et_al_2013  -1.00     -1.0\n",
      "12424  Q9JLT4       215    acetylation    Weinert_et_al_2013  -1.00     -1.0\n",
      "12761  Q9JLT4       329    acetylation    Weinert_et_al_2013  -1.00     -1.0\n",
      "14057  Q9JLT4       337  succinylation       Park_et_al_2013  -1.00     -1.0\n",
      "14058  Q9JLT4       329  succinylation       Park_et_al_2013  -1.00     -1.0\n",
      "     Protein  acetylation  glutarylation  malonylation  succinylation  \\\n",
      "4180  Q9JLT4          1.0            1.0           0.0            1.0   \n",
      "\n",
      "      succinylation_SIRT5_KO  \n",
      "4180                     0.0  \n",
      "     Protein             Reference  acetylation  glutarylation  malonylation  \\\n",
      "6477  Q9JLT4       Park_et_al_2013          0.0            0.0           0.0   \n",
      "6478  Q9JLT4  Sadhukhan_et_al_2016          0.0            0.0           0.0   \n",
      "6479  Q9JLT4        Tan_et_al_2014          0.0            1.0           0.0   \n",
      "6480  Q9JLT4    Weinert_et_al_2013          1.0            0.0           0.0   \n",
      "\n",
      "      succinylation  succinylation_SIRT5_KO  \n",
      "6477            1.0                     0.0  \n",
      "6478            1.0                     0.0  \n",
      "6479            0.0                     0.0  \n",
      "6480            1.0                     0.0  \n",
      "      Protein  Position  acetylation  glutarylation  malonylation  \\\n",
      "12630  Q9JLT4        64          0.0            1.0           0.0   \n",
      "12631  Q9JLT4       137          0.0            1.0           0.0   \n",
      "12632  Q9JLT4       215          1.0            0.0           0.0   \n",
      "12633  Q9JLT4       285          0.0            1.0           0.0   \n",
      "12634  Q9JLT4       329          1.0            1.0           0.0   \n",
      "12635  Q9JLT4       337          0.0            1.0           0.0   \n",
      "\n",
      "       succinylation  succinylation_SIRT5_KO  \n",
      "12630            0.0                     0.0  \n",
      "12631            0.0                     0.0  \n",
      "12632            1.0                     0.0  \n",
      "12633            0.0                     0.0  \n",
      "12634            1.0                     0.0  \n",
      "12635            1.0                     0.0  \n"
     ]
    }
   ],
   "source": [
    "lysine_df = pd.read_table(lysine_mod_inf, sep=\"\\t\")\n",
    "print(lysine_df.head())\n",
    "print(lysine_df[lysine_df['Protein']=='Q9JLT4'])\n",
    "\n",
    "def pivotResetAndBoolify(index):\n",
    "    lysine_pivot = lysine_df.pivot_table(\n",
    "        values='ratio', index=index, columns='Modification', aggfunc=lambda x: len(x)>0)\n",
    "    lysine_pivot = lysine_pivot.fillna(0)\n",
    "    lysine_pivot.reset_index(inplace=True)\n",
    "    lysine_pivot.columns.name = None\n",
    "    \n",
    "    return lysine_pivot\n",
    "\n",
    "\n",
    "lysine_protein_df = pivotResetAndBoolify(['Protein'])\n",
    "lysine_protein_study_df = pivotResetAndBoolify(['Protein', 'Reference'])\n",
    "lysine_position_df = pivotResetAndBoolify(['Protein', 'Position'])\n",
    "\n",
    "print(lysine_protein_df[lysine_protein_df['Protein']=='Q9JLT4'])\n",
    "print(lysine_protein_study_df[lysine_protein_study_df['Protein']=='Q9JLT4'])\n",
    "print(lysine_position_df[lysine_position_df['Protein']=='Q9JLT4'])"
   ]
  },
  {
   "cell_type": "code",
   "execution_count": 4,
   "metadata": {
    "collapsed": false
   },
   "outputs": [
    {
     "name": "stdout",
     "output_type": "stream",
     "text": [
      "(119, 7)\n",
      "(50, 7)\n"
     ]
    },
    {
     "name": "stderr",
     "output_type": "stream",
     "text": [
      "/home/FILESERVER5/proteomics/tss38/anaconda3/lib/python3.5/site-packages/ipykernel/__main__.py:1: UserWarning: Boolean Series key will be reindexed to match DataFrame index.\n",
      "  if __name__ == '__main__':\n"
     ]
    }
   ],
   "source": [
    "print(lysine_position_df[lysine_df['Reference']=='Sadhukhan_et_al_2016'].shape)\n",
    "print(lysine_protein_study_df[lysine_protein_study_df['Reference']=='Sadhukhan_et_al_2016'].shape)"
   ]
  },
  {
   "cell_type": "code",
   "execution_count": 5,
   "metadata": {
    "collapsed": false
   },
   "outputs": [
    {
     "name": "stdout",
     "output_type": "stream",
     "text": [
      "  Protein  Position  acetylation  glutarylation  malonylation  succinylation  \\\n",
      "0  A0AUV1         5          1.0            0.0           0.0            0.0   \n",
      "1  A0AUV1         9          1.0            0.0           0.0            0.0   \n",
      "\n",
      "   succinylation_SIRT5_KO competitive_modifications  \n",
      "0                     0.0                     False  \n",
      "1                     0.0                     False  \n",
      "  Protein  acetylation  glutarylation  malonylation  succinylation  \\\n",
      "0  A0AUV1          1.0            0.0           0.0            0.0   \n",
      "1  A0JLP6          1.0            0.0           0.0            0.0   \n",
      "\n",
      "   succinylation_SIRT5_KO all_modifications  \n",
      "0                     0.0             False  \n",
      "1                     0.0             False  \n"
     ]
    }
   ],
   "source": [
    "lysine_position_df['competitive_modifications'] = [x==3 for x in lysine_position_df[\n",
    "        ['acetylation', 'malonylation', 'succinylation']].apply(sum, 1).tolist()]\n",
    "\n",
    "lysine_protein_df['all_modifications'] = [x == 3 for x in lysine_protein_df[\n",
    "        ['acetylation', 'malonylation', 'succinylation']].apply(sum, 1)]\n",
    "\n",
    "print(lysine_position_df.head(2))\n",
    "print(lysine_protein_df.head(2))\n",
    "\n",
    "#lysine_df_pivot.to_csv(os.path.join(results_dir, 'lysine_modification_summary.tsv'), sep='\\t')"
   ]
  },
  {
   "cell_type": "markdown",
   "metadata": {},
   "source": [
    "Next we use the localisations from the hyperlopit data\n"
   ]
  },
  {
   "cell_type": "code",
   "execution_count": 6,
   "metadata": {
    "collapsed": false
   },
   "outputs": [
    {
     "name": "stdout",
     "output_type": "stream",
     "text": [
      "Index(['uniprot.accession', 'Final.Localization.Assignment'], dtype='object')\n",
      "(4413, 2)\n",
      "  uniprot.accession Final.Localization.Assignment\n",
      "0            Q9JHU4                  unclassified\n",
      "1            Q9ERU9           Nucleus - Chromatin\n",
      "2            P26039            Actin cytoskeleton\n",
      "3            Q8BTM8                  unclassified\n",
      "4            A2ARV4                  unclassified\n"
     ]
    }
   ],
   "source": [
    "lopit_df = pd.read_table('~/WT/NML/hyperLOPIT-enrichment/R/hl_subset.tsv', sep='\\t')\n",
    "lopit_df = lopit_df[['uniprot.accession', 'Final.Localization.Assignment']]\n",
    "print(lopit_df.columns)\n",
    "print(lopit_df.shape)\n",
    "print(lopit_df.head())"
   ]
  },
  {
   "cell_type": "code",
   "execution_count": 7,
   "metadata": {
    "collapsed": false
   },
   "outputs": [
    {
     "name": "stdout",
     "output_type": "stream",
     "text": [
      "Index(['Mouse_uniprot_IDs', 'cadherin_interactome'], dtype='object')\n",
      "Index(['Mouse_uniprot_IDs', 'Human_uniprot_IDs', 'interactome_abundance',\n",
      "       'rank', 'ecadherin_glass_interactome'],\n",
      "      dtype='object')\n",
      "Index(['Mouse_uniprot_IDs', 'Human_uniprot_IDs', 'interactome_abundance',\n",
      "       'rank', 'ecadherin_biotin_interactome'],\n",
      "      dtype='object')\n",
      "                   ecadherin_glass_interactome  glass_interactome_abundance\n",
      "Mouse_uniprot_IDs                                                          \n",
      "P10126                                       1                     6.333808\n",
      "P68372                                       1                     2.546583\n",
      "P68373                                       1                     2.252746\n",
      "Q9D8N0                                       1                     1.795667\n",
      "P62827                                       1                     1.763019\n",
      "130\n",
      "4413\n",
      "76\n",
      "                      ecadherin_biotin_interactome  \\\n",
      "Mouse_uniprot_IDs                                    \n",
      "P26231;Q65CL1                                    1   \n",
      "Q02257                                           1   \n",
      "Q8CBD1                                           1   \n",
      "P62751                                           1   \n",
      "P62984;P0CG50;P62983                             1   \n",
      "\n",
      "                      biotin_interactome_abundance  biotin_rank  \n",
      "Mouse_uniprot_IDs                                                \n",
      "P26231;Q65CL1                            14.231545          1.0  \n",
      "Q02257                                   12.680877          2.0  \n",
      "Q8CBD1                                   12.531690          3.0  \n",
      "P62751                                    8.834130          4.0  \n",
      "P62984;P0CG50;P62983                      3.883620          5.0  \n",
      "                   ecadherin_glass_interactome  glass_interactome_abundance  \\\n",
      "Mouse_uniprot_IDs                                                             \n",
      "P10126                                       1                     6.333808   \n",
      "P68372                                       1                     2.546583   \n",
      "P68373                                       1                     2.252746   \n",
      "Q9D8N0                                       1                     1.795667   \n",
      "P62827                                       1                     1.763019   \n",
      "\n",
      "                   glass_rank  \n",
      "Mouse_uniprot_IDs              \n",
      "P10126                    1.0  \n",
      "P68372                    2.0  \n",
      "P68373                    3.0  \n",
      "Q9D8N0                    4.0  \n",
      "P62827                    5.5  \n"
     ]
    }
   ],
   "source": [
    "def readCadherin(infile, column_name, abundance_column=None, sep=\",\"):\n",
    "    df = pd.read_table(infile, sep=sep)\n",
    "    df[column_name] = 1\n",
    "    df = df[df['Mouse_uniprot_IDs'].notnull()]\n",
    "    print(df.columns)\n",
    "    \n",
    "    if abundance_column:\n",
    "        df = df[['Mouse_uniprot_IDs', column_name, abundance_column]]\n",
    "    else:\n",
    "        df = df[['Mouse_uniprot_IDs', column_name]]\n",
    "    df.set_index('Mouse_uniprot_IDs', inplace=True)\n",
    "\n",
    "    return df\n",
    "    \n",
    "cadherin_interactome_df  = readCadherin(\n",
    "    cadherin_inf, \"cadherin_interactome\", sep=\",\")\n",
    "ecadherin_glass_interactome_df = readCadherin(\n",
    "    cadherin_glass_inf, \"ecadherin_glass_interactome\", \"interactome_abundance\",)\n",
    "ecadherin_biotin_interactome_df = readCadherin(\n",
    "    cadherin_biotin_inf, \"ecadherin_biotin_interactome\", \"interactome_abundance\")\n",
    "\n",
    "ecadherin_glass_interactome_df.rename(\n",
    "    columns={'interactome_abundance':'glass_interactome_abundance'}, inplace=True)\n",
    "ecadherin_biotin_interactome_df.rename(\n",
    "    columns={'interactome_abundance':'biotin_interactome_abundance'}, inplace=True)\n",
    "\n",
    "print(ecadherin_glass_interactome_df.head())\n",
    "print(len(set(cadherin_interactome_df.index)))\n",
    "print(len(set(lopit_df['uniprot.accession'])))\n",
    "print(len(set(cadherin_interactome_df.index).intersection\n",
    "          (set(lopit_df['uniprot.accession']))))\n",
    "\n",
    "ecadherin_biotin_interactome_df['biotin_rank'] = ecadherin_biotin_interactome_df[\n",
    "    'biotin_interactome_abundance'].rank(ascending=False)\n",
    "ecadherin_glass_interactome_df['glass_rank'] = ecadherin_glass_interactome_df[\n",
    "    'glass_interactome_abundance'].rank(ascending=False)\n",
    "\n",
    "print(ecadherin_biotin_interactome_df.head())\n",
    "print(ecadherin_glass_interactome_df.head())"
   ]
  },
  {
   "cell_type": "markdown",
   "metadata": {},
   "source": [
    "Now we bring in the paxdb protein abundance data"
   ]
  },
  {
   "cell_type": "code",
   "execution_count": 28,
   "metadata": {
    "collapsed": false
   },
   "outputs": [
    {
     "name": "stdout",
     "output_type": "stream",
     "text": [
      "   uniprot_id  integrated_abundance  binned_abundance\n",
      "0  A0A023T778                34.000                10\n",
      "1  A0A067XG46                 0.086                 4\n",
      "2  A0A096P6K7                 0.228                 5\n",
      "3  A0A0A0MQ68               101.000                11\n",
      "4  A0A0A0MQ69                 1.810                 7\n",
      "   uniprot_id  liver_abundance  binned_abundance\n",
      "0  A0A023T778            2.280                 7\n",
      "1  A0A0A0MQ68          323.000                12\n",
      "2  A0A0A0MQ76          295.000                11\n",
      "3  A0A0A0MQ79            0.102                 5\n",
      "4  A0A0A0MQ89            0.027                 4\n",
      "   uniprot_id  heart_abundance  binned_abundance\n",
      "0  A0A023T778            2.210                 7\n",
      "1  A0A0A0MQ68           45.900                10\n",
      "2  A0A0A0MQ76           74.400                10\n",
      "3  A0A0A0MQ79            0.835                 6\n",
      "4  A0A0A0MQ89            0.000                 3\n"
     ]
    }
   ],
   "source": [
    "ensembl2Uniprot = {}\n",
    "with IOTools.openFile(\"../raw/MOUSE_10090_idmapping_selected.tab.gz\", \"r\") as inf:\n",
    "    for line in inf:\n",
    "        line = line.strip().split(\"\\t\")\n",
    "        try:\n",
    "            proteins = line[20].split(\"; \")\n",
    "            for protein in proteins:\n",
    "                if len(protein) > 0:\n",
    "                    ensembl2Uniprot[protein] = line[0]\n",
    "        except:\n",
    "            pass\n",
    "\n",
    "def parseAbundance(infile, abundance_column_name='abundance'):\n",
    "    abundance_df = pd.read_table(infile, sep=\"\\t\",comment='#', header=None, usecols=[1,2])\n",
    "\n",
    "    abundance_df.columns = [\"id\", abundance_column_name]\n",
    "    abundance_df['id'] = [x.split(\".\")[1] for x in abundance_df['id']]\n",
    "    abundance_df['uniprot_id'] = [ensembl2Uniprot[x] if x in ensembl2Uniprot else \"\" for x in abundance_df['id']]\n",
    "    abundance_df = abundance_df[[len(x) > 0 for x in abundance_df['uniprot_id']]]\n",
    "    abundance_df = pd.DataFrame(\n",
    "        abundance_df.groupby([\"uniprot_id\"])[abundance_column_name].agg(np.mean)).reset_index()\n",
    "    #abundance_df['length'] = [protein_lengths[x] if x in protein_lengths else None\n",
    "    #                      for x in abundance_df['uniprot_id']]\n",
    "    abundance_df['binned_abundance'] = np.digitize(\n",
    "        np.log10(abundance_df[abundance_column_name]+0.01), bins=np.arange(-3,4.5,0.5))\n",
    "    \n",
    "    return abundance_df\n",
    "\n",
    "full_abundance_df = parseAbundance(paxdf_whole_inf, \"integrated_abundance\")\n",
    "liver_abundance_df = parseAbundance(paxdf_liver_inf, \"liver_abundance\")\n",
    "heart_abundance_df = parseAbundance(paxdf_heart_inf, \"heart_abundance\")\n",
    "print(full_abundance_df.head())\n",
    "print(liver_abundance_df.head())\n",
    "print(heart_abundance_df.head())\n"
   ]
  },
  {
   "cell_type": "code",
   "execution_count": 13,
   "metadata": {
    "collapsed": false
   },
   "outputs": [
    {
     "name": "stdout",
     "output_type": "stream",
     "text": [
      "(4413, 2)\n",
      "(6816, 7)\n",
      "Index(['uniprot.accession', 'Final.Localization.Assignment', 'Reference',\n",
      "       'acetylation', 'glutarylation', 'malonylation', 'succinylation',\n",
      "       'succinylation_SIRT5_KO'],\n",
      "      dtype='object')\n",
      "(9793, 8)\n",
      "(130, 1)\n",
      "(9841, 9)\n",
      "(1545, 3)\n",
      "(10218, 12)\n",
      "(406, 3)\n",
      "(10326, 15)\n",
      "(19023, 2)\n",
      "(21272, 16)\n",
      "  uniprot.accession Final.Localization.Assignment           Reference  \\\n",
      "0            Q9JHU4                  unclassified   Colaka_et_al_2015   \n",
      "0            Q9JHU4                  unclassified  Nishida_et_al_2015   \n",
      "0            Q9JHU4                  unclassified      Sol_et_al_2012   \n",
      "0            Q9JHU4                  unclassified  Weinert_et_al_2013   \n",
      "1            Q9ERU9           Nucleus - Chromatin   Colaka_et_al_2015   \n",
      "\n",
      "   acetylation  glutarylation  malonylation  succinylation  \\\n",
      "0          0.0            0.0           1.0            0.0   \n",
      "0          0.0            0.0           1.0            0.0   \n",
      "0          1.0            0.0           0.0            0.0   \n",
      "0          1.0            0.0           0.0            0.0   \n",
      "1          0.0            0.0           1.0            0.0   \n",
      "\n",
      "   succinylation_SIRT5_KO  cadherin_interactome  ecadherin_glass_interactome  \\\n",
      "0                     0.0                   1.0                          1.0   \n",
      "0                     0.0                   1.0                          1.0   \n",
      "0                     0.0                   1.0                          1.0   \n",
      "0                     0.0                   1.0                          1.0   \n",
      "1                     0.0                   0.0                          0.0   \n",
      "\n",
      "   glass_interactome_abundance  glass_rank  ecadherin_biotin_interactome  \\\n",
      "0                     0.002906      1059.0                           0.0   \n",
      "0                     0.002906      1059.0                           0.0   \n",
      "0                     0.002906      1059.0                           0.0   \n",
      "0                     0.002906      1059.0                           0.0   \n",
      "1                     0.000000         0.0                           0.0   \n",
      "\n",
      "   biotin_interactome_abundance  biotin_rank  integrated_abundance  \n",
      "0                           0.0          0.0                  22.9  \n",
      "0                           0.0          0.0                  22.9  \n",
      "0                           0.0          0.0                  22.9  \n",
      "0                           0.0          0.0                  22.9  \n",
      "1                           0.0          0.0                  24.7  \n"
     ]
    }
   ],
   "source": [
    "print(lopit_df.shape)\n",
    "\n",
    "\n",
    "print(lysine_protein_study_df.shape)\n",
    "\n",
    "merged_protein_df = pd.merge(lopit_df, lysine_protein_study_df.set_index(\"Protein\"),\n",
    "                     left_on='uniprot.accession', right_index=True, how='outer')\n",
    "merged_protein_df['Final.Localization.Assignment'].fillna(\"Not in hyperLOPIT\", inplace=True)\n",
    "\n",
    "print(merged_protein_df.columns)\n",
    "print(merged_protein_df.shape)\n",
    "print(cadherin_interactome_df.shape)\n",
    "\n",
    "merged_protein_df = pd.merge(merged_protein_df, cadherin_interactome_df,\n",
    "                             left_on='uniprot.accession', right_index=True, how='outer')\n",
    "\n",
    "#print(merged_protein_df['uniprot.accession'][0:10])\n",
    "#print(ecadherin_glass_interactome_df['Mouse_uniprot_IDs'][0:10])\n",
    "#print(ecadherin_biotin_interactome_df['Mouse_uniprot_IDs'][0:10])\n",
    "print(merged_protein_df.shape)\n",
    "print(ecadherin_glass_interactome_df.shape)\n",
    "\n",
    "merged_protein_df = pd.merge(merged_protein_df, ecadherin_glass_interactome_df,\n",
    "                             left_on='uniprot.accession', right_index=True, how='outer')\n",
    "\n",
    "print(merged_protein_df.shape)\n",
    "print(ecadherin_biotin_interactome_df.shape)\n",
    "\n",
    "merged_protein_df = pd.merge(merged_protein_df, ecadherin_biotin_interactome_df,\n",
    "                             left_on='uniprot.accession', right_index=True, how='outer')\n",
    "\n",
    "#merged_protein_df['cadherin_interactome'].fillna(0, inplace=True)\n",
    "#merged_protein_df['ecadherin_glass_interactome'].fillna(0, inplace=True)\n",
    "#merged_protein_df['ecadherin_biotin_interactome'].fillna(0, inplace=True)\n",
    "merged_protein_df['Final.Localization.Assignment'].fillna(\"Not in hyperLOPIT\", inplace=True)\n",
    "merged_protein_df['Reference'].fillna(\"NA\", inplace=True)\n",
    "merged_protein_df.fillna(0, inplace=True)\n",
    "\n",
    "print(merged_protein_df.shape)\n",
    "print(full_abundance_df.shape)\n",
    "\n",
    "merged_protein_df = pd.merge(merged_protein_df, full_abundance_df.set_index(\"uniprot_id\"),\n",
    "                             left_on=\"uniprot.accession\", right_index=True,\n",
    "                             how='right')\n",
    "#merged_protein_df.drop('Protein', axis=1, inplace=True)\n",
    "print(merged_protein_df.shape)\n",
    "print(merged_protein_df.head())"
   ]
  },
  {
   "cell_type": "code",
   "execution_count": 14,
   "metadata": {
    "collapsed": true
   },
   "outputs": [],
   "source": [
    "merged_protein_df['Final.Localization.Assignment'] = merged_protein_df['Final.Localization.Assignment'].astype(str)\n",
    "merged_protein_df['Reference'] = merged_protein_df['Reference'].astype(str)\n",
    "merged_protein_df['ecadherin_biotin_interactome'].fillna(0, inplace=True)\n",
    "merged_protein_df['ecadherin_glass_interactome'].fillna(0, inplace=True)\n",
    "merged_protein_df['succinylation'].fillna(0, inplace=True)\n",
    "merged_protein_df['cadherin_interactome'].fillna(0, inplace=True)"
   ]
  },
  {
   "cell_type": "code",
   "execution_count": 15,
   "metadata": {
    "collapsed": true
   },
   "outputs": [],
   "source": [
    "def countOccurance(df, proteins):\n",
    "    return sum(df.index.isin(proteins))\n",
    "\n",
    "def getRanks(df, proteins):\n",
    "    matched_index = set()\n",
    "    \n",
    "    rank_df = df.filter(regex='rank', axis=1)\n",
    "    \n",
    "    for x in df.index:\n",
    "        for p in proteins:\n",
    "            if p in x:\n",
    "                matched_index.add(x)\n",
    "    \n",
    "    return rank_df.loc[matched_index].iloc[:,0].tolist()"
   ]
  },
  {
   "cell_type": "code",
   "execution_count": 26,
   "metadata": {
    "collapsed": false
   },
   "outputs": [
    {
     "name": "stdout",
     "output_type": "stream",
     "text": [
      "[ 0.   0.5  1.   1.5  2.   2.5  3.   3.5]\n",
      "[1 3 5 7 8 8]\n"
     ]
    }
   ],
   "source": [
    "bins = np.arange(0,4,0.5)\n",
    "print(bins)\n",
    "print(np.digitize([0,1,2,3,4,4.2], bins=bins))"
   ]
  },
  {
   "cell_type": "code",
   "execution_count": null,
   "metadata": {
    "collapsed": false
   },
   "outputs": [
    {
     "name": "stdout",
     "output_type": "stream",
     "text": [
      "\n",
      "\n",
      "succinylation\n",
      "================================\n",
      "---------Sadhukhan_et_al_2016---------\n",
      "glass: p-value: 0.981100 (189/10000), (10/47) vs 15.825500 +/- 3.128170\n",
      "---------Weinert_et_al_2013---------\n",
      "high_quality: p-value: 0.988200 (118/10000), (5/623) vs 10.281100 +/- 2.667561\n"
     ]
    }
   ],
   "source": [
    "iterations = 10000\n",
    "\n",
    "interactome2interactomeDF = {\"high_quality\": cadherin_interactome_df,\n",
    "                             \"biotin\": ecadherin_biotin_interactome_df,\n",
    "                             \"glass\": ecadherin_glass_interactome_df}\n",
    "\n",
    "short_redf2abundanceDF = {'Sol': full_abundance_df,\n",
    "                          'Weinert': liver_abundance_df,\n",
    "                          'Rardin': liver_abundance_df,\n",
    "                          'Sadhukhan': heart_abundance_df,\n",
    "                          'Park': full_abundance_df,\n",
    "                          'Nishida': liver_abundance_df,\n",
    "                          'Colaka': liver_abundance_df,\n",
    "                          'Tan': liver_abundance_df}\n",
    "\n",
    "merged_protein_df['binned_abundance'] = np.digitize(\n",
    "    np.log10(merged_protein_df['integrated_abundance']+0.01), bins=np.arange(-3,4.5,0.5))\n",
    "\n",
    "rows = []\n",
    "rows2 = []\n",
    "\n",
    "observed_column = []\n",
    "rank_column = []\n",
    "modification_column = []\n",
    "reference_column = []\n",
    "interactome_column = []\n",
    "\n",
    "for modification in [\"succinylation\", \"malonylation\", \"acetylation\", \"glutarylation\"]:\n",
    "    print(\"\\n\\n%s\\n================================\" % modification)\n",
    "    for reference in set(merged_protein_df['Reference']):\n",
    "        \n",
    "        if reference in [\"nan\", np.nan, \"NA\"]:\n",
    "            continue\n",
    "            \n",
    "        print(\"---------%s---------\" % reference)\n",
    "        \n",
    "        ref_short = reference.split(\"_\")[0]\n",
    "        abundance_df = short_redf2abundanceDF[ref_short]\n",
    "        for interactome in [\"high_quality\", \"biotin\", \"glass\"]:\n",
    "            add_ranks = False\n",
    "            tmp_df = merged_protein_df[merged_protein_df['Reference']==reference]\n",
    "            tmp_df = tmp_df[tmp_df[modification]>0]\n",
    "            abundance_dist = tmp_df['binned_abundance'].value_counts()\n",
    "            # how many m\n",
    "            reference_counts = countOccurance(interactome2interactomeDF[interactome],\n",
    "                                              tmp_df['uniprot.accession'])\n",
    "            \n",
    "            if reference_counts > 0: # at least one observed case\n",
    "                \n",
    "                if interactome != 'high_quality': # no ranks for high_quality (binary)\n",
    "                    reference_ranks = getRanks(interactome2interactomeDF[interactome],\n",
    "                                               tmp_df['uniprot.accession'])\n",
    "                    if len(reference_ranks) > 10: # check there are at least 10 observed cases for observed dist.\n",
    "                        add_ranks = True\n",
    "                        rank_column.extend(reference_ranks)\n",
    "                        modification_column.extend((modification,)*len(reference_ranks))\n",
    "                        reference_column.extend((ref_short,)*len(reference_ranks))\n",
    "                        interactome_column.extend((interactome,)*len(reference_ranks))\n",
    "                        observed_column.extend((\"observed\",)*len(reference_ranks))\n",
    "                    \n",
    "                null_counts = []\n",
    "                for iteration in range(0, iterations): # derive null expectation from n iterations\n",
    "                    \n",
    "                    null_proteins = []\n",
    "                    \n",
    "                    for abundance_bin, count in abundance_dist.items():\n",
    "                        # all proteins in bin\n",
    "                        proteins = abundance_df[\n",
    "                            abundance_df['binned_abundance']==abundance_bin]['uniprot_id'].tolist()\n",
    "                        # randomly choose proteins\n",
    "                        chosen_proteins = np.random.choice(proteins, count, replace=False)\n",
    "                        null_proteins.extend(chosen_proteins)\n",
    "                    \n",
    "                    # how many null proteins in interactome?\n",
    "                    null_count = countOccurance(interactome2interactomeDF[interactome], null_proteins)\n",
    "                    \n",
    "                    null_counts.append(null_count)\n",
    "                    rows2.append((modification, ref_short, interactome, reference_counts, null_count))\n",
    "                    \n",
    "                    # only add null ranks when observed ranks added\n",
    "                    if add_ranks:\n",
    "                        null_ranks = getRanks(interactome2interactomeDF[interactome], null_proteins)\n",
    "\n",
    "                        rank_column.extend(null_ranks)\n",
    "                        modification_column.extend((modification,)*len(null_ranks))\n",
    "                        reference_column.extend((ref_short,)*len(null_ranks))\n",
    "                        interactome_column.extend((interactome,)*len(null_ranks))\n",
    "                        observed_column.extend((\"null\",)*len(null_ranks))\n",
    "                            \n",
    "                observed_more_than_null = len([x for x in null_counts if reference_counts > x])\n",
    "                p = 1 - (observed_more_than_null/iterations)\n",
    "                print(\"%s: p-value: %f (%i/%i), (%i/%i) vs %f +/- %f\" %  (\n",
    "                        interactome, p, observed_more_than_null, iterations, reference_counts,\n",
    "                        len(tmp_df), np.mean(null_counts), np.std(null_counts)))\n",
    "                rows.append((modification, ref_short, interactome,\n",
    "                             p, iterations, reference_counts,\n",
    "                             len(tmp_df), np.mean(null_counts), np.std(null_counts)))\n",
    "            else:\n",
    "                pass # no observed cases\n"
   ]
  },
  {
   "cell_type": "code",
   "execution_count": null,
   "metadata": {
    "collapsed": false
   },
   "outputs": [],
   "source": [
    "header = [\"modification\", \"reference\", \"interactome\", \"p-value\", \"iterations\",\n",
    "          \"observations\", \"cases\", \"null_mean\", \"null_std\"]\n",
    "empirical_p_df = pd.DataFrame.from_records(rows, columns=header)\n",
    "\n",
    "header = [\"modification\", \"reference\", \"interactome\", \"observed\", \"null\"]\n",
    "iterations_df = pd.DataFrame.from_records(rows2, columns=header)\n",
    "print(empirical_p_df.head())\n",
    "print(iterations_df.head())\n",
    "\n",
    "\n",
    "ranks_df = pd.DataFrame({\"observed\": observed_column,\n",
    "                         \"rank\":rank_column,\n",
    "                         \"modification\":modification_column,\n",
    "                         \"interactome\":interactome_column,\n",
    "                         \"reference\": reference_column})\n",
    "print(ranks_df.head())"
   ]
  },
  {
   "cell_type": "code",
   "execution_count": null,
   "metadata": {
    "collapsed": false
   },
   "outputs": [],
   "source": [
    "tmp_df = iterations_df[iterations_df['modification']=='succinylation']\n",
    "tmp_df = tmp_df[tmp_df['reference']==\"Park\"]\n",
    "tmp_df = tmp_df[tmp_df['interactome']==\"biotin\"]\n",
    "print(tmp_df.head())"
   ]
  },
  {
   "cell_type": "code",
   "execution_count": null,
   "metadata": {
    "collapsed": false
   },
   "outputs": [],
   "source": [
    "%%R -i empirical_p_df\n",
    "empirical_p_df['fdr'] <- p.adjust(empirical_p_df$p.value, method=\"BH\")\n",
    "empirical_p_df['enrichment'] = empirical_p_df['observations'] / empirical_p_df['null_mean']\n",
    "print(empirical_p_df[empirical_p_df$fdr<0.1,])"
   ]
  },
  {
   "cell_type": "code",
   "execution_count": null,
   "metadata": {
    "collapsed": false
   },
   "outputs": [],
   "source": [
    "%%R -i tmp_df\n",
    "library(ggplot2)\n",
    "\n",
    "print(head(tmp_df))\n",
    "p = ggplot(tmp_df, aes(null)) + geom_density() + theme_bw() +\n",
    "geom_vline(xintercept = tmp_df$observed[1], color='red', size=1)\n",
    "\n",
    "\n",
    "print(p)\n"
   ]
  },
  {
   "cell_type": "code",
   "execution_count": null,
   "metadata": {
    "collapsed": false
   },
   "outputs": [],
   "source": [
    "%%R -i ranks_df \n",
    "print(colnames(ranks_df))\n",
    "\n",
    "run_ks_test = function(foreground, background, plotfile='', title=''){\n",
    "\n",
    "ks = ks.test(foreground,background,alternative=\"greater\")\n",
    "print(ks)    \n",
    "    \n",
    "sample1 <- foreground\n",
    "sample2 <- background\n",
    "group <- c(rep(\"sample1\", length(sample1)), rep(\"sample2\", length(sample2)))\n",
    "dat <- data.frame(KSD = c(sample1,sample2), group = group)\n",
    "\n",
    "cdf1 <- ecdf(sample1) \n",
    "cdf2 <- ecdf(sample2) \n",
    "\n",
    "minMax <- seq(min(sample1, sample2), max(sample1, sample2), length.out=length(sample1)) \n",
    "x0 <- minMax[which( abs(cdf1(minMax) - cdf2(minMax)) == max(abs(cdf1(minMax) - cdf2(minMax))) )] \n",
    "y0 <- cdf1(x0) \n",
    "y1 <- cdf2(x0) \n",
    "\n",
    "p = ggplot(dat, aes(x = KSD, group = group, color = group))+\n",
    "  stat_ecdf(size=1) +\n",
    "    theme_bw(base_size = 20) +\n",
    "    theme(legend.position =\"right\") +\n",
    "    xlab(\"Protein rank\") +\n",
    "    ylab(\"ECDF\") +\n",
    "    #geom_line(size=1) +\n",
    "    geom_segment(aes(x = x0[1], y = y0[1], xend = x0[1], yend = y1[1]),\n",
    "        linetype = \"dashed\", color = \"black\") +\n",
    "    geom_point(aes(x = x0[1] , y= y0[1]), color=\"black\", size=2) +\n",
    "    geom_point(aes(x = x0[1] , y= y1[1]), color=\"black\", size=2) +\n",
    "    ggtitle(paste0(title, \":\\nK-S Test. D:\", round(ks$statistic, 2),\n",
    "                   ' p-value: ', round(ks$p.value, 5)))+\n",
    "    theme(legend.title=element_blank(), aspect.ratio=1) +\n",
    "    scale_colour_discrete(labels=c('modified', 'unmodified'))\n",
    "\n",
    "ggsave(plotfile)\n",
    "    \n",
    "if(ks$p.value<0.05){\n",
    "plot(p)\n",
    "p = ggplot(dat, aes(x = KSD, group = group, color = group))+\n",
    "    geom_density(size=1) +\n",
    "    theme_bw(base_size = 20) +\n",
    "    theme(legend.position =\"right\") +\n",
    "    xlab(\"Protein rank\") +\n",
    "    ylab(\"Density\") +\n",
    "    ggtitle(paste0(title, \":\\nK-S Test. D:\", round(ks$statistic, 2),\n",
    "                   ' p-value: ', round(ks$p.value, 5)))+\n",
    "    theme(legend.title=element_blank(), aspect.ratio=1) +\n",
    "    scale_colour_discrete(labels=c('modified', 'unmodified'))\n",
    "\n",
    "plot(p)\n",
    "    \n",
    "}\n",
    "\n",
    "}\n",
    "\n",
    "for (modification in unique(ranks_df$modification)){\n",
    "    tmp_df <- ranks_df[ranks_df['modification']==modification,]\n",
    "    \n",
    "    for (reference in unique(tmp_df$reference)){\n",
    "        tmp_df2 <- tmp_df[tmp_df['reference']==reference,]\n",
    "            \n",
    "        for (interactome in unique(tmp_df2$interactome)){\n",
    "            tmp_df3 <- tmp_df2[tmp_df2['interactome']==interactome,]\n",
    "            \n",
    "            observed = tmp_df3[tmp_df3['observed']==\"observed\",\"rank\"]\n",
    "            null = tmp_df3[tmp_df3['observed']==\"null\",\"rank\"]\n",
    "\n",
    "            title = paste(reference, modification, interactome, sep=\"-\")\n",
    "            \n",
    "            run_ks_test(observed, null,\n",
    "                        paste0(\"../plots.dir/ECDF_abundance_controlled_\", title, \".png\"),\n",
    "                        title)\n",
    "        }\n",
    "    }\n",
    "}\n"
   ]
  }
 ],
 "metadata": {
  "anaconda-cloud": {},
  "kernelspec": {
   "display_name": "Python [conda root]",
   "language": "python",
   "name": "conda-root-py"
  },
  "language_info": {
   "codemirror_mode": {
    "name": "ipython",
    "version": 3
   },
   "file_extension": ".py",
   "mimetype": "text/x-python",
   "name": "python",
   "nbconvert_exporter": "python",
   "pygments_lexer": "ipython3",
   "version": "3.5.2"
  }
 },
 "nbformat": 4,
 "nbformat_minor": 1
}
