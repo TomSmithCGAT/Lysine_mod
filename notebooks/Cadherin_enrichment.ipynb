{
 "cells": [
  {
   "cell_type": "markdown",
   "metadata": {},
   "source": [
    "Here we take the cadherin interactome data and the lysine modification data and look for enrichment of lysine acylations in the cadherin interactome"
   ]
  },
  {
   "cell_type": "code",
   "execution_count": 210,
   "metadata": {
    "collapsed": false
   },
   "outputs": [],
   "source": [
    "import os\n",
    "import collections\n",
    "\n",
    "import pandas as pd\n",
    "import numpy as np\n",
    "\n",
    "import CGAT.IOTools as IOTools\n",
    "\n",
    "%load_ext rpy2.ipython"
   ]
  },
  {
   "cell_type": "code",
   "execution_count": 178,
   "metadata": {
    "collapsed": false
   },
   "outputs": [],
   "source": [
    "results_dir = \"./results/\"\n",
    "raw_dir = \"../raw\"\n",
    "lysine_mod_inf = os.path.join(results_dir, 'lysine_modification.tsv')\n",
    "\n",
    "cadherin_inf = os.path.join(results_dir, \"cadherine_proteins.tsv\")\n",
    "cadherin_glass_inf = os.path.join(results_dir, \"ecadherin_glass.tsv\")\n",
    "cadherin_biotin_inf = os.path.join(results_dir, \"ecadherin_biotin.tsv\")\n",
    "\n",
    "paxdf_inf = os.path.join(raw_dir, '10090-WHOLE_ORGANISM-integrated.txt')"
   ]
  },
  {
   "cell_type": "code",
   "execution_count": 58,
   "metadata": {
    "collapsed": false
   },
   "outputs": [
    {
     "name": "stdout",
     "output_type": "stream",
     "text": [
      "  Protein  Position   Modification             Reference  ratio  p_value\n",
      "0  Q9JLT4       337  succinylation  Sadhukhan_et_al_2016   1.47     -1.0\n",
      "1  Q61425       179  succinylation  Sadhukhan_et_al_2016   1.07     -1.0\n",
      "2  Q61425       241  succinylation  Sadhukhan_et_al_2016   1.33     -1.0\n",
      "3  Q9JLZ3       179  succinylation  Sadhukhan_et_al_2016   4.70     -1.0\n",
      "4  Q9CZU6       450  succinylation  Sadhukhan_et_al_2016  57.68     -1.0\n",
      "      Protein  Position   Modification             Reference  ratio  p_value\n",
      "0      Q9JLT4       337  succinylation  Sadhukhan_et_al_2016   1.47     -1.0\n",
      "5186   Q9JLT4        64  glutarylation        Tan_et_al_2014  -1.00     -1.0\n",
      "5187   Q9JLT4       337  glutarylation        Tan_et_al_2014  -1.00     -1.0\n",
      "5188   Q9JLT4       329  glutarylation        Tan_et_al_2014  -1.00     -1.0\n",
      "5189   Q9JLT4       285  glutarylation        Tan_et_al_2014  -1.00     -1.0\n",
      "5190   Q9JLT4       137  glutarylation        Tan_et_al_2014  -1.00     -1.0\n",
      "9032   Q9JLT4       337  succinylation    Weinert_et_al_2013  -1.00     -1.0\n",
      "9033   Q9JLT4       215  succinylation    Weinert_et_al_2013  -1.00     -1.0\n",
      "9034   Q9JLT4       329  succinylation    Weinert_et_al_2013  -1.00     -1.0\n",
      "12424  Q9JLT4       215    acetylation    Weinert_et_al_2013  -1.00     -1.0\n",
      "12761  Q9JLT4       329    acetylation    Weinert_et_al_2013  -1.00     -1.0\n",
      "14057  Q9JLT4       337  succinylation       Park_et_al_2013  -1.00     -1.0\n",
      "14058  Q9JLT4       329  succinylation       Park_et_al_2013  -1.00     -1.0\n",
      "     Protein  acetylation  glutarylation  malonylation  succinylation  \\\n",
      "4180  Q9JLT4          1.0            1.0           0.0            1.0   \n",
      "\n",
      "      succinylation_SIRT5_KO  \n",
      "4180                     0.0  \n",
      "     Protein             Reference  acetylation  glutarylation  malonylation  \\\n",
      "6477  Q9JLT4       Park_et_al_2013          0.0            0.0           0.0   \n",
      "6478  Q9JLT4  Sadhukhan_et_al_2016          0.0            0.0           0.0   \n",
      "6479  Q9JLT4        Tan_et_al_2014          0.0            1.0           0.0   \n",
      "6480  Q9JLT4    Weinert_et_al_2013          1.0            0.0           0.0   \n",
      "\n",
      "      succinylation  succinylation_SIRT5_KO  \n",
      "6477            1.0                     0.0  \n",
      "6478            1.0                     0.0  \n",
      "6479            0.0                     0.0  \n",
      "6480            1.0                     0.0  \n",
      "      Protein  Position  acetylation  glutarylation  malonylation  \\\n",
      "12630  Q9JLT4        64          0.0            1.0           0.0   \n",
      "12631  Q9JLT4       137          0.0            1.0           0.0   \n",
      "12632  Q9JLT4       215          1.0            0.0           0.0   \n",
      "12633  Q9JLT4       285          0.0            1.0           0.0   \n",
      "12634  Q9JLT4       329          1.0            1.0           0.0   \n",
      "12635  Q9JLT4       337          0.0            1.0           0.0   \n",
      "\n",
      "       succinylation  succinylation_SIRT5_KO  \n",
      "12630            0.0                     0.0  \n",
      "12631            0.0                     0.0  \n",
      "12632            1.0                     0.0  \n",
      "12633            0.0                     0.0  \n",
      "12634            1.0                     0.0  \n",
      "12635            1.0                     0.0  \n"
     ]
    }
   ],
   "source": [
    "lysine_df = pd.read_table(lysine_mod_inf, sep=\"\\t\")\n",
    "print(lysine_df.head())\n",
    "print(lysine_df[lysine_df['Protein']=='Q9JLT4'])\n",
    "\n",
    "def pivotResetAndBoolify(index):\n",
    "    lysine_pivot = lysine_df.pivot_table(\n",
    "        values='ratio', index=index, columns='Modification', aggfunc=lambda x: len(x)>0)\n",
    "    lysine_pivot = lysine_pivot.fillna(0)\n",
    "    lysine_pivot.reset_index(inplace=True)\n",
    "    lysine_pivot.columns.name = None\n",
    "    \n",
    "    return lysine_pivot\n",
    "\n",
    "\n",
    "lysine_protein_df = pivotResetAndBoolify(['Protein'])\n",
    "lysine_protein_study_df = pivotResetAndBoolify(['Protein', 'Reference'])\n",
    "lysine_position_df = pivotResetAndBoolify(['Protein', 'Position'])\n",
    "\n",
    "print(lysine_protein_df[lysine_protein_df['Protein']=='Q9JLT4'])\n",
    "print(lysine_protein_study_df[lysine_protein_study_df['Protein']=='Q9JLT4'])\n",
    "print(lysine_position_df[lysine_position_df['Protein']=='Q9JLT4'])"
   ]
  },
  {
   "cell_type": "code",
   "execution_count": 64,
   "metadata": {
    "collapsed": false
   },
   "outputs": [
    {
     "name": "stdout",
     "output_type": "stream",
     "text": [
      "  Protein  Position  acetylation  glutarylation  malonylation  succinylation  \\\n",
      "0  A0AUV1         5          1.0            0.0           0.0            0.0   \n",
      "1  A0AUV1         9          1.0            0.0           0.0            0.0   \n",
      "\n",
      "   succinylation_SIRT5_KO competitive_modifications  \n",
      "0                     0.0                     False  \n",
      "1                     0.0                     False  \n",
      "  Protein  acetylation  glutarylation  malonylation  succinylation  \\\n",
      "0  A0AUV1          1.0            0.0           0.0            0.0   \n",
      "1  A0JLP6          1.0            0.0           0.0            0.0   \n",
      "\n",
      "   succinylation_SIRT5_KO all_modifications  \n",
      "0                     0.0             False  \n",
      "1                     0.0             False  \n"
     ]
    }
   ],
   "source": [
    "lysine_position_df['competitive_modifications'] = [x==3 for x in lysine_position_df[\n",
    "        ['acetylation', 'malonylation', 'succinylation']].apply(sum, 1).tolist()]\n",
    "\n",
    "lysine_protein_df['all_modifications'] = [x == 3 for x in lysine_protein_df[\n",
    "        ['acetylation', 'malonylation', 'succinylation']].apply(sum, 1)]\n",
    "\n",
    "print(lysine_position_df.head(2))\n",
    "print(lysine_protein_df.head(2))\n",
    "\n",
    "lysine_df_pivot.to_csv(os.path.join(results_dir, 'lysine_modification_summary.tsv'), sep='\\t')"
   ]
  },
  {
   "cell_type": "markdown",
   "metadata": {},
   "source": [
    "Next we use the localisations from the hyperlopit data\n"
   ]
  },
  {
   "cell_type": "code",
   "execution_count": 72,
   "metadata": {
    "collapsed": false
   },
   "outputs": [
    {
     "name": "stdout",
     "output_type": "stream",
     "text": [
      "Index(['uniprot.accession', 'Final.Localization.Assignment'], dtype='object')\n",
      "(4413, 2)\n",
      "  uniprot.accession Final.Localization.Assignment\n",
      "0            Q9JHU4                  unclassified\n",
      "1            Q9ERU9           Nucleus - Chromatin\n",
      "2            P26039            Actin cytoskeleton\n",
      "3            Q8BTM8                  unclassified\n",
      "4            A2ARV4                  unclassified\n"
     ]
    }
   ],
   "source": [
    "lopit_df = pd.read_table('~/WT/NML/hyperLOPIT-enrichment/R/hl_subset.tsv', sep='\\t')\n",
    "lopit_df = lopit_df[['uniprot.accession', 'Final.Localization.Assignment']]\n",
    "print(lopit_df.columns)\n",
    "print(lopit_df.shape)\n",
    "print(lopit_df.head())"
   ]
  },
  {
   "cell_type": "markdown",
   "metadata": {},
   "source": [
    "Then we add the cadherin data"
   ]
  },
  {
   "cell_type": "code",
   "execution_count": 97,
   "metadata": {
    "collapsed": false
   },
   "outputs": [
    {
     "name": "stdout",
     "output_type": "stream",
     "text": [
      "False\n",
      "False\n",
      "False\n",
      "False\n"
     ]
    }
   ],
   "source": [
    "print(\"P26231\" in lopit_df['uniprot.accession'])\n",
    "print(\"Q65CL1\" in lopit_df['uniprot.accession'])\n",
    "print(\"P26231\" in lysine_protein_df['Protein'])\n",
    "print(\"Q65CL1\" in lysine_protein_df['Protein'])"
   ]
  },
  {
   "cell_type": "code",
   "execution_count": 173,
   "metadata": {
    "collapsed": false
   },
   "outputs": [
    {
     "name": "stdout",
     "output_type": "stream",
     "text": [
      "Index(['Mouse_uniprot_IDs', 'cadherin_interactome'], dtype='object')\n",
      "Index(['Mouse_uniprot_IDs', 'Human_uniprot_IDs', 'interactome_abundance',\n",
      "       'rank', 'ecadherin_glass_interactome'],\n",
      "      dtype='object')\n",
      "Index(['Mouse_uniprot_IDs', 'Human_uniprot_IDs', 'interactome_abundance',\n",
      "       'rank', 'ecadherin_biotin_interactome'],\n",
      "      dtype='object')\n",
      "                   ecadherin_glass_interactome  glass_interactome_abundance\n",
      "Mouse_uniprot_IDs                                                          \n",
      "P10126                                       1                     6.333808\n",
      "P68372                                       1                     2.546583\n",
      "P68373                                       1                     2.252746\n",
      "Q9D8N0                                       1                     1.795667\n",
      "P62827                                       1                     1.763019\n",
      "130\n",
      "4413\n",
      "76\n"
     ]
    }
   ],
   "source": [
    "def readCadherin(infile, column_name, abundance_column=None, sep=\",\"):\n",
    "    df = pd.read_table(infile, sep=sep)\n",
    "    df[column_name] = 1\n",
    "    df = df[df['Mouse_uniprot_IDs'].notnull()]\n",
    "    print(df.columns)\n",
    "    \n",
    "    if abundance_column:\n",
    "        df = df[['Mouse_uniprot_IDs', column_name, abundance_column]]\n",
    "    else:\n",
    "        df = df[['Mouse_uniprot_IDs', column_name]]\n",
    "    df.set_index('Mouse_uniprot_IDs', inplace=True)\n",
    "\n",
    "    return df\n",
    "    \n",
    "cadherin_interactome_df  = readCadherin(\n",
    "    cadherin_inf, \"cadherin_interactome\", sep=\",\")\n",
    "ecadherin_glass_interactome_df = readCadherin(\n",
    "    cadherin_glass_inf, \"ecadherin_glass_interactome\", \"interactome_abundance\",)\n",
    "ecadherin_biotin_interactome_df = readCadherin(\n",
    "    cadherin_biotin_inf, \"ecadherin_biotin_interactome\", \"interactome_abundance\")\n",
    "\n",
    "ecadherin_glass_interactome_df.rename(\n",
    "    columns={'interactome_abundance':'glass_interactome_abundance'}, inplace=True)\n",
    "ecadherin_biotin_interactome_df.rename(\n",
    "    columns={'interactome_abundance':'biotin_interactome_abundance'}, inplace=True)\n",
    "\n",
    "print(ecadherin_glass_interactome_df.head())\n",
    "print(len(set(cadherin_interactome_df.index)))\n",
    "print(len(set(lopit_df['uniprot.accession'])))\n",
    "print(len(set(cadherin_interactome_df.index).intersection\n",
    "          (set(lopit_df['uniprot.accession']))))\n"
   ]
  },
  {
   "cell_type": "markdown",
   "metadata": {},
   "source": [
    "Now we bring in the paxdb protein abundance data"
   ]
  },
  {
   "cell_type": "code",
   "execution_count": 207,
   "metadata": {
    "collapsed": false
   },
   "outputs": [
    {
     "name": "stdout",
     "output_type": "stream",
     "text": [
      "   uniprot_id  integrated_abundance\n",
      "0  A0A023T778                34.000\n",
      "1  A0A067XG46                 0.086\n",
      "2  A0A096P6K7                 0.228\n",
      "3  A0A0A0MQ68               101.000\n",
      "4  A0A0A0MQ69                 1.810\n",
      "5062\n"
     ]
    }
   ],
   "source": [
    "ensembl2Uniprot = {}\n",
    "with IOTools.openFile(\"../raw/MOUSE_10090_idmapping_selected.tab.gz\", \"r\") as inf:\n",
    "    for line in inf:\n",
    "        line = line.strip().split(\"\\t\")\n",
    "        try:\n",
    "            proteins = line[20].split(\"; \")\n",
    "            for protein in proteins:\n",
    "                if len(protein) > 0:\n",
    "                    ensembl2Uniprot[protein] = line[0]\n",
    "        except:\n",
    "            pass\n",
    "\n",
    "def parseAbundance(infile, abundance_column_name='abundance'):\n",
    "    abundance_df = pd.read_table(infile, sep=\"\\t\",comment='#', header=None, usecols=[1,2])\n",
    "\n",
    "    abundance_df.columns = [\"id\", abundance_column_name]\n",
    "    abundance_df['id'] = [x.split(\".\")[1] for x in abundance_df['id']]\n",
    "    abundance_df['uniprot_id'] = [ensembl2Uniprot[x] if x in ensembl2Uniprot else \"\" for x in abundance_df['id']]\n",
    "    abundance_df = abundance_df[[len(x) > 0 for x in abundance_df['uniprot_id']]]\n",
    "    abundance_df = pd.DataFrame(\n",
    "        abundance_df.groupby([\"uniprot_id\"])[abundance_column_name].agg(np.mean)).reset_index()\n",
    "    #abundance_df['length'] = [protein_lengths[x] if x in protein_lengths else None\n",
    "    #                      for x in abundance_df['uniprot_id']]\n",
    "    return abundance_df\n",
    "\n",
    "full_abundance_df = parseAbundance(paxdf_inf, \"integrated_abundance\")\n",
    "print(full_abundance_df.head())\n",
    "print(len(set(merged_protein_df['uniprot.accession'])))\n"
   ]
  },
  {
   "cell_type": "code",
   "execution_count": 278,
   "metadata": {
    "collapsed": false
   },
   "outputs": [
    {
     "name": "stdout",
     "output_type": "stream",
     "text": [
      "(4413, 2)\n",
      "(6816, 7)\n",
      "Index(['uniprot.accession', 'Final.Localization.Assignment', 'Reference',\n",
      "       'acetylation', 'glutarylation', 'malonylation', 'succinylation',\n",
      "       'succinylation_SIRT5_KO'],\n",
      "      dtype='object')\n",
      "(9793, 8)\n",
      "(130, 1)\n",
      "(9841, 9)\n",
      "(1545, 2)\n",
      "(10218, 11)\n",
      "(406, 2)\n",
      "(10326, 13)\n",
      "(19023, 2)\n",
      "(21272, 14)\n",
      "  uniprot.accession Final.Localization.Assignment           Reference  \\\n",
      "0            Q9JHU4                  unclassified   Colaka_et_al_2015   \n",
      "0            Q9JHU4                  unclassified  Nishida_et_al_2015   \n",
      "0            Q9JHU4                  unclassified      Sol_et_al_2012   \n",
      "0            Q9JHU4                  unclassified  Weinert_et_al_2013   \n",
      "1            Q9ERU9           Nucleus - Chromatin   Colaka_et_al_2015   \n",
      "\n",
      "   acetylation  glutarylation  malonylation  succinylation  \\\n",
      "0          0.0            0.0           1.0            0.0   \n",
      "0          0.0            0.0           1.0            0.0   \n",
      "0          1.0            0.0           0.0            0.0   \n",
      "0          1.0            0.0           0.0            0.0   \n",
      "1          0.0            0.0           1.0            0.0   \n",
      "\n",
      "   succinylation_SIRT5_KO  cadherin_interactome  ecadherin_glass_interactome  \\\n",
      "0                     0.0                   1.0                          1.0   \n",
      "0                     0.0                   1.0                          1.0   \n",
      "0                     0.0                   1.0                          1.0   \n",
      "0                     0.0                   1.0                          1.0   \n",
      "1                     0.0                   0.0                          0.0   \n",
      "\n",
      "   glass_interactome_abundance  ecadherin_biotin_interactome  \\\n",
      "0                     0.002906                           0.0   \n",
      "0                     0.002906                           0.0   \n",
      "0                     0.002906                           0.0   \n",
      "0                     0.002906                           0.0   \n",
      "1                     0.000000                           0.0   \n",
      "\n",
      "   biotin_interactome_abundance  integrated_abundance  \n",
      "0                           0.0                  22.9  \n",
      "0                           0.0                  22.9  \n",
      "0                           0.0                  22.9  \n",
      "0                           0.0                  22.9  \n",
      "1                           0.0                  24.7  \n"
     ]
    }
   ],
   "source": [
    "print(lopit_df.shape)\n",
    "\n",
    "\n",
    "print(lysine_protein_study_df.shape)\n",
    "\n",
    "merged_protein_df = pd.merge(lopit_df, lysine_protein_study_df.set_index(\"Protein\"),\n",
    "                     left_on='uniprot.accession', right_index=True, how='outer')\n",
    "merged_protein_df['Final.Localization.Assignment'].fillna(\"Not in hyperLOPIT\", inplace=True)\n",
    "\n",
    "print(merged_protein_df.columns)\n",
    "print(merged_protein_df.shape)\n",
    "print(cadherin_interactome_df.shape)\n",
    "\n",
    "merged_protein_df = pd.merge(merged_protein_df, cadherin_interactome_df,\n",
    "                             left_on='uniprot.accession', right_index=True, how='outer')\n",
    "\n",
    "#print(merged_protein_df['uniprot.accession'][0:10])\n",
    "#print(ecadherin_glass_interactome_df['Mouse_uniprot_IDs'][0:10])\n",
    "#print(ecadherin_biotin_interactome_df['Mouse_uniprot_IDs'][0:10])\n",
    "print(merged_protein_df.shape)\n",
    "print(ecadherin_glass_interactome_df.shape)\n",
    "\n",
    "merged_protein_df = pd.merge(merged_protein_df, ecadherin_glass_interactome_df,\n",
    "                             left_on='uniprot.accession', right_index=True, how='outer')\n",
    "\n",
    "print(merged_protein_df.shape)\n",
    "print(ecadherin_biotin_interactome_df.shape)\n",
    "\n",
    "merged_protein_df = pd.merge(merged_protein_df, ecadherin_biotin_interactome_df,\n",
    "                             left_on='uniprot.accession', right_index=True, how='outer')\n",
    "\n",
    "#merged_protein_df['cadherin_interactome'].fillna(0, inplace=True)\n",
    "#merged_protein_df['ecadherin_glass_interactome'].fillna(0, inplace=True)\n",
    "#merged_protein_df['ecadherin_biotin_interactome'].fillna(0, inplace=True)\n",
    "merged_protein_df['Final.Localization.Assignment'].fillna(\"Not in hyperLOPIT\", inplace=True)\n",
    "merged_protein_df['Reference'].fillna(\"NA\", inplace=True)\n",
    "merged_protein_df.fillna(0, inplace=True)\n",
    "\n",
    "print(merged_protein_df.shape)\n",
    "print(full_abundance_df.shape)\n",
    "\n",
    "merged_protein_df = pd.merge(merged_protein_df, full_abundance_df.set_index(\"uniprot_id\"),\n",
    "                             left_on=\"uniprot.accession\", right_index=True,\n",
    "                             how='right')\n",
    "#merged_protein_df.drop('Protein', axis=1, inplace=True)\n",
    "print(merged_protein_df.shape)\n",
    "print(merged_protein_df.head())"
   ]
  },
  {
   "cell_type": "code",
   "execution_count": 267,
   "metadata": {
    "collapsed": false
   },
   "outputs": [
    {
     "name": "stdout",
     "output_type": "stream",
     "text": [
      "  uniprot.accession Final.Localization.Assignment           Reference  \\\n",
      "0            Q9JHU4                  unclassified   Colaka_et_al_2015   \n",
      "0            Q9JHU4                  unclassified  Nishida_et_al_2015   \n",
      "0            Q9JHU4                  unclassified      Sol_et_al_2012   \n",
      "0            Q9JHU4                  unclassified  Weinert_et_al_2013   \n",
      "1            Q9ERU9           Nucleus - Chromatin   Colaka_et_al_2015   \n",
      "\n",
      "   acetylation  glutarylation  malonylation  succinylation  \\\n",
      "0          0.0            0.0           1.0            0.0   \n",
      "0          0.0            0.0           1.0            0.0   \n",
      "0          1.0            0.0           0.0            0.0   \n",
      "0          1.0            0.0           0.0            0.0   \n",
      "1          0.0            0.0           1.0            0.0   \n",
      "\n",
      "   succinylation_SIRT5_KO  cadherin_interactome  ecadherin_glass_interactome  \\\n",
      "0                     0.0                   1.0                          1.0   \n",
      "0                     0.0                   1.0                          1.0   \n",
      "0                     0.0                   1.0                          1.0   \n",
      "0                     0.0                   1.0                          1.0   \n",
      "1                     0.0                   0.0                          0.0   \n",
      "\n",
      "   glass_interactome_abundance  ecadherin_biotin_interactome  \\\n",
      "0                     0.002906                           0.0   \n",
      "0                     0.002906                           0.0   \n",
      "0                     0.002906                           0.0   \n",
      "0                     0.002906                           0.0   \n",
      "1                          NaN                           0.0   \n",
      "\n",
      "   biotin_interactome_abundance  integrated_abundance  \n",
      "0                           NaN                  22.9  \n",
      "0                           NaN                  22.9  \n",
      "0                           NaN                  22.9  \n",
      "0                           NaN                  22.9  \n",
      "1                           NaN                  24.7  \n",
      "Empty DataFrame\n",
      "Columns: [uniprot.accession, Final.Localization.Assignment, Reference, acetylation, glutarylation, malonylation, succinylation, succinylation_SIRT5_KO, cadherin_interactome, ecadherin_glass_interactome, glass_interactome_abundance, ecadherin_biotin_interactome, biotin_interactome_abundance, integrated_abundance]\n",
      "Index: []\n"
     ]
    }
   ],
   "source": [
    "\n",
    "#merged_protein_df['test'] = (merged_protein_df['uniprot.accession'].fillna(\"\") +\n",
    "#                             merged_protein_df.Protein.fillna(\"\"))\n",
    "print(merged_protein_df.head())\n",
    "print(merged_protein_df[merged_protein_df['uniprot.accession'].isnull()].head(2))\n"
   ]
  },
  {
   "cell_type": "code",
   "execution_count": 272,
   "metadata": {
    "collapsed": false
   },
   "outputs": [
    {
     "data": {
      "text/plain": [
       "[1] 10326    14\n",
       "  uniprot.accession Final.Localization.Assignment          Reference\n",
       "1            Q9JHU4                  unclassified  Colaka_et_al_2015\n",
       "2            Q9JHU4                  unclassified Nishida_et_al_2015\n",
       "3            Q9JHU4                  unclassified     Sol_et_al_2012\n",
       "4            Q9JHU4                  unclassified Weinert_et_al_2013\n",
       "5            Q9ERU9           Nucleus - Chromatin  Colaka_et_al_2015\n",
       "6            Q9ERU9           Nucleus - Chromatin     Sol_et_al_2012\n",
       "  acetylation glutarylation malonylation succinylation succinylation_SIRT5_KO\n",
       "1           0             0            1             0                      0\n",
       "2           0             0            1             0                      0\n",
       "3           1             0            0             0                      0\n",
       "4           1             0            0             0                      0\n",
       "5           0             0            1             0                      0\n",
       "6           1             0            0             0                      0\n",
       "  cadherin_interactome ecadherin_glass_interactome glass_interactome_abundance\n",
       "1                    1                           1                 0.002905716\n",
       "2                    1                           1                 0.002905716\n",
       "3                    1                           1                 0.002905716\n",
       "4                    1                           1                 0.002905716\n",
       "5                    0                           0                 0.000000000\n",
       "6                    0                           0                 0.000000000\n",
       "  ecadherin_biotin_interactome biotin_interactome_abundance\n",
       "1                            0                            0\n",
       "2                            0                            0\n",
       "3                            0                            0\n",
       "4                            0                            0\n",
       "5                            0                            0\n",
       "6                            0                            0\n",
       "  integrated_abundance\n",
       "1                 22.9\n",
       "2                 22.9\n",
       "3                 22.9\n",
       "4                 22.9\n",
       "5                 24.7\n",
       "6                 24.7\n"
      ]
     },
     "metadata": {},
     "output_type": "display_data"
    }
   ],
   "source": [
    "%%R -i merged_protein_df\n",
    "library(ggplot2)\n",
    "print(dim(merged_protein_df))\n",
    "print(head(merged_protein_df))"
   ]
  },
  {
   "cell_type": "code",
   "execution_count": 275,
   "metadata": {
    "collapsed": false
   },
   "outputs": [
    {
     "data": {
      "image/png": "[encoded data removed]"
     },
     "metadata": {},
     "output_type": "display_data"
    },
    {
     "data": {
      "image/png": "[encoded data removed]"
     },
     "metadata": {},
     "output_type": "display_data"
    }
   ],
   "source": [
    "%%R\n",
    "p = ggplot(merged_protein_df, aes(x=log(integrated_abundance,10),\n",
    "                                  col=glass_interactome_abundance>0)) +\n",
    "geom_density() +\n",
    "theme_bw()\n",
    "\n",
    "print(p)\n",
    "\n",
    "p = ggplot(merged_protein_df, aes(x=log(integrated_abundance,10), col=factor(succinylation))) +\n",
    "geom_density() +\n",
    "theme_bw()\n",
    "\n",
    "print(p)"
   ]
  }
 ],
 "metadata": {
  "anaconda-cloud": {},
  "kernelspec": {
   "display_name": "Python [conda root]",
   "language": "python",
   "name": "conda-root-py"
  },
  "language_info": {
   "codemirror_mode": {
    "name": "ipython",
    "version": 3
   },
   "file_extension": ".py",
   "mimetype": "text/x-python",
   "name": "python",
   "nbconvert_exporter": "python",
   "pygments_lexer": "ipython3",
   "version": "3.5.2"
  }
 },
 "nbformat": 4,
 "nbformat_minor": 1
}
