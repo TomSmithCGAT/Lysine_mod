{
 "cells": [
  {
   "cell_type": "markdown",
   "metadata": {
    "collapsed": true
   },
   "source": [
    "Test code to generate a multifasta"
   ]
  },
  {
   "cell_type": "code",
   "execution_count": 1,
   "metadata": {
    "collapsed": false
   },
   "outputs": [],
   "source": [
    "import proteomics.sequence as sequence\n",
    "import urllib3\n",
    "import json\n",
    "import numpy as np\n",
    "import collections\n",
    "import CGAT.IOTools as IOTools\n",
    "import CGAT.FastaIterator as FA\n",
    "\n",
    "import pandas as pd\n",
    "import os\n",
    "\n",
    "import subprocess\n",
    "\n",
    "from ete3 import NCBITaxa, TreeStyle\n",
    "import sys\n",
    "\n",
    "import string\n",
    "\n",
    "%load_ext rpy2.ipython"
   ]
  },
  {
   "cell_type": "code",
   "execution_count": 2,
   "metadata": {
    "collapsed": false
   },
   "outputs": [
    {
     "name": "stderr",
     "output_type": "stream",
     "text": [
      "Downloading taxdump.tar.gz from NCBI FTP site...\n",
      "Done. Parsing...\n"
     ]
    },
    {
     "name": "stdout",
     "output_type": "stream",
     "text": [
      "Loading node names...\n",
      "1584560 names loaded.\n",
      "186700 synonyms loaded.\n",
      "Loading nodes...\n",
      "1584560 nodes loaded.\n",
      "Linking nodes...\n",
      "Tree is loaded.\n",
      "Updating database: /home/FILESERVER5/proteomics/tss38/.etetoolkit/taxa.sqlite ...\n",
      " 1584000 generating entries... \n",
      "Uploading to /home/FILESERVER5/proteomics/tss38/.etetoolkit/taxa.sqlite\n"
     ]
    },
    {
     "name": "stderr",
     "output_type": "stream",
     "text": [
      "Inserting synonyms:      20000 "
     ]
    },
    {
     "name": "stdout",
     "output_type": "stream",
     "text": [
      "\n"
     ]
    },
    {
     "name": "stderr",
     "output_type": "stream",
     "text": [
      "Inserting synonyms:      185000 "
     ]
    },
    {
     "name": "stdout",
     "output_type": "stream",
     "text": [
      "\n"
     ]
    },
    {
     "name": "stderr",
     "output_type": "stream",
     "text": [
      "Inserting taxids:       20000 "
     ]
    },
    {
     "name": "stdout",
     "output_type": "stream",
     "text": [
      "\n"
     ]
    },
    {
     "name": "stderr",
     "output_type": "stream",
     "text": [
      "Inserting taxids:       1580000 "
     ]
    },
    {
     "name": "stdout",
     "output_type": "stream",
     "text": [
      "\n"
     ]
    }
   ],
   "source": [
    "ncbi = NCBITaxa()\n",
    "ncbi.update_taxonomy_database()"
   ]
  },
  {
   "cell_type": "code",
   "execution_count": 3,
   "metadata": {
    "collapsed": true
   },
   "outputs": [],
   "source": [
    "tetrapod_tax_id = 32523\n",
    "vertebrate_tax_id = 7742\n",
    "mammals_tax_id = 40674\n",
    "placentals_tax_id = 9347\n",
    "rodent_tax_id = 9989\n",
    "eukaryote_tax_id = 2759\n",
    "\n",
    "mouse_tax_id = 10090"
   ]
  },
  {
   "cell_type": "code",
   "execution_count": 4,
   "metadata": {
    "collapsed": false
   },
   "outputs": [
    {
     "name": "stdout",
     "output_type": "stream",
     "text": [
      "{10090: 'house mouse'}\n"
     ]
    }
   ],
   "source": [
    "print(ncbi.get_common_names([10090]))"
   ]
  },
  {
   "cell_type": "code",
   "execution_count": 5,
   "metadata": {
    "collapsed": true
   },
   "outputs": [],
   "source": [
    "OGs_inf = \"../raw/odb9v1_OGs_corrected.tab\"\n",
    "OG2genes_inf = \"../raw/odb9v1_OG2genes.tab.gz\"\n",
    "genes_inf = \"../raw/odb9v1_genes.tab\"\n"
   ]
  },
  {
   "cell_type": "code",
   "execution_count": 6,
   "metadata": {
    "collapsed": true
   },
   "outputs": [],
   "source": [
    "uniprot_ids = []\n",
    "outfile = \"./results/multifasta.fa\"\n",
    "outfile_aligned = \"./results/multifasta_clustalo.fa\"\n"
   ]
  },
  {
   "cell_type": "code",
   "execution_count": 7,
   "metadata": {
    "collapsed": false
   },
   "outputs": [
    {
     "name": "stdout",
     "output_type": "stream",
     "text": [
      "37682\n"
     ]
    }
   ],
   "source": [
    "tax_id = vertebrate_tax_id\n",
    "#tax_id = eukaryote_tax_id\n",
    "\n",
    "groups = set()\n",
    "with IOTools.openFile(OGs_inf, \"r\") as inf:\n",
    "    for line in inf:\n",
    "        group, tax_level = line.strip().split(\"\\t\")[0:2]\n",
    "        if tax_level == str(tax_id):\n",
    "            groups.add(group)\n",
    "        \n",
    "print(len(groups))\n",
    "\n",
    "      \n",
    "    "
   ]
  },
  {
   "cell_type": "code",
   "execution_count": 8,
   "metadata": {
    "collapsed": false
   },
   "outputs": [
    {
     "name": "stdout",
     "output_type": "stream",
     "text": [
      "VOG090F000Z\t282063:000001\n",
      "\n",
      "37682\n",
      "2885566\n"
     ]
    }
   ],
   "source": [
    "first_group = list(groups)\n",
    "\n",
    "[0]\n",
    "\n",
    "group2genes = collections.defaultdict(list)\n",
    "gene2groups = collections.defaultdict(list)\n",
    "\n",
    "with IOTools.openFile(OG2genes_inf, \"r\") as inf:\n",
    "    for line in inf:\n",
    "        group, gene = line.strip().split(\"\\t\")\n",
    "        if group in groups:\n",
    "            group2genes[group].append(gene)\n",
    "            gene2groups[gene].append(group)\n",
    "            \n",
    "\n",
    "print(line)\n",
    "print(len(group2genes))\n",
    "print(len(gene2groups))"
   ]
  },
  {
   "cell_type": "code",
   "execution_count": 9,
   "metadata": {
    "collapsed": false
   },
   "outputs": [
    {
     "name": "stdout",
     "output_type": "stream",
     "text": [
      "2885566\n",
      "849831\n"
     ]
    }
   ],
   "source": [
    "gene2uniprot = {}\n",
    "uniprot2gene = collections.defaultdict(list)\n",
    "with IOTools.openFile(genes_inf) as inf:\n",
    "    for line in inf:\n",
    "        gene, uniprot = line.strip().split(\"\\t\")[2:4]\n",
    "        if gene not in gene2groups:\n",
    "            continue\n",
    "        if gene in gene2uniprot:\n",
    "            print(gene, uniprot, gene2uniprot[gene])\n",
    "            break\n",
    "        gene2uniprot[gene] = uniprot\n",
    "        uniprot2gene[uniprot].append(gene)\n",
    "\n",
    "print(len(gene2uniprot))\n",
    "print(len(uniprot2gene))"
   ]
  },
  {
   "cell_type": "code",
   "execution_count": 10,
   "metadata": {
    "collapsed": false
   },
   "outputs": [
    {
     "name": "stdout",
     "output_type": "stream",
     "text": [
      "(12884, 11)\n",
      "(12884, 11)\n",
      "Counter({'acetylation': 4789, 'malonylation': 4363, 'succinylation': 3644, 'succinylation_SIRT5_KO': 88})\n",
      "(8007, 11)\n",
      "(2844, 11)\n",
      "      uniprot_id  position   modification             reference       ratio  \\\n",
      "7359      Q8BMS1       407  succinylation  Sadhukhan_et_al_2016  522.600000   \n",
      "11344     Q9DB20        97  succinylation     Rardin_et_al_2013  395.260000   \n",
      "7736      Q8C196      1486  succinylation     Rardin_et_al_2013  305.430000   \n",
      "7601      Q8BWT1       214  succinylation     Rardin_et_al_2013  179.460000   \n",
      "9072      Q91VA0       534  succinylation     Rardin_et_al_2013  178.100000   \n",
      "962       P08249       239  succinylation     Rardin_et_al_2013  157.590000   \n",
      "3298      P42125       283  succinylation     Rardin_et_al_2013  141.330000   \n",
      "5889      Q3V3R1       595  succinylation       Park_et_al_2013  118.765772   \n",
      "3633      P48962       147  succinylation       Park_et_al_2013  110.686120   \n",
      "8446      Q8QZT1       172  succinylation  Sadhukhan_et_al_2016  107.120000   \n",
      "8483      Q8QZT1       265  succinylation       Park_et_al_2013  103.930675   \n",
      "12586     Q9WUR2        60  succinylation       Park_et_al_2013   96.349626   \n",
      "8481      Q8QZT1       260  succinylation     Rardin_et_al_2013   94.260000   \n",
      "2630      P26443       480  succinylation     Rardin_et_al_2013   92.040000   \n",
      "7404      Q8BMS1       644  succinylation     Rardin_et_al_2013   89.400000   \n",
      "3881      P51881        43  succinylation     Rardin_et_al_2013   82.670000   \n",
      "6308      Q61425        81  succinylation       Park_et_al_2013   73.860385   \n",
      "6510      Q64433        56  succinylation       Park_et_al_2013   72.259868   \n",
      "11548     Q9DBT9       861  succinylation     Rardin_et_al_2013   68.030000   \n",
      "3842      P51881       147  succinylation       Park_et_al_2013   64.151658   \n",
      "12562     Q9WUM5        94  succinylation     Rardin_et_al_2013   61.590000   \n",
      "10762     Q9CZU6       451  succinylation  Sadhukhan_et_al_2016   57.680000   \n",
      "4122      P54869       350  succinylation     Rardin_et_al_2013   56.870000   \n",
      "9068      Q91VA0       527  succinylation     Rardin_et_al_2013   55.920000   \n",
      "2664      P26443        90  succinylation     Rardin_et_al_2013   54.880000   \n",
      "4241      P56382        44  succinylation     Rardin_et_al_2013   50.250000   \n",
      "3297      P42125       275  succinylation     Rardin_et_al_2013   48.520000   \n",
      "4154      P54869        83  succinylation     Rardin_et_al_2013   39.780000   \n",
      "7324      Q8BMS1       166  succinylation     Rardin_et_al_2013   37.880000   \n",
      "4304      P56480       522  succinylation     Rardin_et_al_2013   37.700000   \n",
      "\n",
      "            p_value in_idr in_nls in_krepeats  len_repeats in_elm  \n",
      "7359  -1.000000e+00  False  False       False            1    NaN  \n",
      "11344  1.100000e-06  False  False        True            2    NaN  \n",
      "7736   1.700000e-04  False  False       False            1    NaN  \n",
      "7601   9.000000e-07  False  False       False            1    NaN  \n",
      "9072   7.400000e-07  False  False       False            1    NaN  \n",
      "962    1.500000e-07  False  False       False            1    NaN  \n",
      "3298   1.500000e-04  False  False       False            1    NaN  \n",
      "5889  -1.000000e+00  False  False       False            1    NaN  \n",
      "3633  -1.000000e+00  False  False       False            1    NaN  \n",
      "8446  -1.000000e+00  False  False       False            1    NaN  \n",
      "8483  -1.000000e+00  False  False       False            1    NaN  \n",
      "12586 -1.000000e+00  False  False       False            1    NaN  \n",
      "8481   1.600000e-06  False  False       False            1    NaN  \n",
      "2630   6.100000e-08  False  False       False            1    NaN  \n",
      "7404   1.800000e-09  False  False       False            1    NaN  \n",
      "3881   3.300000e-06  False  False       False            1    NaN  \n",
      "6308  -1.000000e+00  False  False        True            3    NaN  \n",
      "6510  -1.000000e+00  False  False       False            1    NaN  \n",
      "11548  1.500000e-06   True  False       False            1    NaN  \n",
      "3842  -1.000000e+00  False  False       False            1    NaN  \n",
      "12562  4.100000e-06  False  False       False            1    NaN  \n",
      "10762 -1.000000e+00  False  False       False            1    NaN  \n",
      "4122   1.000000e-07  False  False       False            1    NaN  \n",
      "9068   3.300000e-04  False  False       False            1    NaN  \n",
      "2664   9.900000e-07  False  False       False            1    NaN  \n",
      "4241   9.200000e-09   True  False       False            1    NaN  \n",
      "3297   1.500000e-06  False  False       False            1    NaN  \n",
      "4154   4.400000e-08  False  False       False            1    NaN  \n",
      "7324   1.100000e-06  False  False        True            2    NaN  \n",
      "4304   5.400000e-07  False  False       False            1    NaN  \n",
      "{'Q8C196', 'Q9WUR2', 'P54869', 'P51881', 'P42125', 'Q9DBT9', 'Q9WUM5', 'P48962', 'Q8BMS1', 'P56382', 'Q3V3R1', 'Q8BWT1', 'P08249', 'P56480', 'Q8QZT1', 'Q9DB20', 'Q91VA0', 'Q64433', 'P26443', 'Q61425', 'Q9CZU6'}\n"
     ]
    }
   ],
   "source": [
    "ratio_df = pd.read_table(\"./results/ratio_df.tsv\", sep=\"\\t\")\n",
    "print(ratio_df.shape)\n",
    "#ratio_df =  ratio_df[ratio_df['reference']=='Park_et_al_2013']\n",
    "print(ratio_df.shape)\n",
    "print(collections.Counter(ratio_df['modification']))\n",
    "ratio_df = ratio_df[ratio_df['modification'].isin(['succinylation', 'malonylation'])]\n",
    "print(ratio_df.shape)\n",
    "ratio_df = ratio_df[ratio_df['ratio']!=-1]\n",
    "print(ratio_df.shape)\n",
    "\n",
    "print(ratio_df.sort_values('ratio', ascending=False).head(30))\n",
    "uniprot_ids = set(ratio_df.sort_values('ratio', ascending=False).head(30)['uniprot_id'])\n",
    "print(uniprot_ids)"
   ]
  },
  {
   "cell_type": "code",
   "execution_count": 11,
   "metadata": {
    "collapsed": false
   },
   "outputs": [
    {
     "name": "stdout",
     "output_type": "stream",
     "text": [
      "685\n"
     ]
    }
   ],
   "source": [
    "uniprot_ids = set(ratio_df['uniprot_id'])\n",
    "print(len(uniprot_ids))"
   ]
  },
  {
   "cell_type": "code",
   "execution_count": 12,
   "metadata": {
    "collapsed": false
   },
   "outputs": [
    {
     "name": "stdout",
     "output_type": "stream",
     "text": [
      "685\n",
      "completed 0 proteins\n",
      "no groups\n",
      "no groups\n",
      "no groups\n",
      "no groups\n",
      "no groups\n",
      "completed 50 proteins\n",
      "no groups\n",
      "no groups\n",
      "no groups\n",
      "no groups\n",
      "no groups\n",
      "no groups\n",
      "no groups\n",
      "no groups\n",
      "no groups\n",
      "no groups\n",
      "no groups\n",
      "completed 100 proteins\n",
      "no groups\n",
      "no groups\n",
      "no groups\n",
      "no groups\n",
      "no groups\n",
      "no groups\n",
      "no groups\n",
      "no groups\n",
      "no groups\n",
      "no groups\n",
      "completed 150 proteins\n",
      "no groups\n",
      "no groups\n",
      "no groups\n",
      "completed 200 proteins\n",
      "no groups\n",
      "no groups\n",
      "no groups\n",
      "no groups\n",
      "no groups\n",
      "completed 250 proteins\n",
      "no groups\n",
      "no groups\n",
      "no groups\n",
      "no groups\n",
      "no groups\n",
      "no groups\n",
      "no groups\n",
      "no groups\n",
      "no groups\n",
      "completed 300 proteins\n",
      "no groups\n",
      "no groups\n",
      "no groups\n",
      "no groups\n",
      "no groups\n",
      "no groups\n",
      "completed 350 proteins\n",
      "no groups\n",
      "no groups\n",
      "no groups\n",
      "no groups\n",
      "no groups\n",
      "no groups\n",
      "completed 400 proteins\n",
      "no groups\n",
      "no groups\n",
      "no groups\n",
      "no groups\n",
      "no groups\n",
      "no groups\n",
      "no groups\n",
      "no groups\n",
      "no groups\n",
      "completed 450 proteins\n",
      "no groups\n",
      "no groups\n",
      "no groups\n",
      "no groups\n",
      "no groups\n",
      "no groups\n",
      "no groups\n",
      "completed 500 proteins\n",
      "no groups\n",
      "no groups\n",
      "no groups\n",
      "no groups\n",
      "no groups\n",
      "no groups\n",
      "no groups\n",
      "no groups\n",
      "no groups\n",
      "completed 550 proteins\n",
      "no groups\n",
      "no groups\n",
      "no groups\n",
      "no groups\n",
      "no groups\n",
      "no groups\n",
      "no groups\n",
      "no groups\n",
      "no groups\n",
      "no groups\n",
      "no groups\n",
      "no groups\n",
      "no groups\n",
      "completed 600 proteins\n",
      "no groups\n",
      "no groups\n",
      "no groups\n",
      "no groups\n",
      "no groups\n",
      "no groups\n",
      "no groups\n",
      "completed 650 proteins\n",
      "no groups\n",
      "no groups\n",
      "no groups\n",
      "no groups\n",
      "no groups\n",
      "no groups\n",
      "completed 685 proteins\n"
     ]
    }
   ],
   "source": [
    "split_at = 60\n",
    "\n",
    "uniprot_ids = set(ratio_df['uniprot_id'])\n",
    "print(len(uniprot_ids))\n",
    "n = 0\n",
    "for uniprot_id in uniprot_ids:\n",
    "    \n",
    "    if n % 50 ==0:\n",
    "        print(\"completed %i proteins\" % n)\n",
    "    n+=1\n",
    "    \n",
    "    #print(\"\\n\", uniprot_id)\n",
    "    genes = uniprot2gene[uniprot_id]\n",
    "    if len(genes) == 0:\n",
    "        print(\"no groups\")\n",
    "        continue\n",
    "        \n",
    "    groups = gene2groups[genes[0]]\n",
    "    group_genes = group2genes[groups[0]]\n",
    "    group_uniprot_ids = [gene2uniprot[x] for x in group_genes]\n",
    "    \n",
    "\n",
    "    fasta_entries = []\n",
    "    for values in sequence.getSequences([x for x in group_uniprot_ids if x!=\"\\\\N\"]):\n",
    "        fasta_entries.append(values)\n",
    "\n",
    "    mouse_ix = None\n",
    "    group_fasta_outfile = \"./results/conservation/fasta/%s_multifasta.fa\" % uniprot_id\n",
    "    \n",
    "    tax_ids = set()\n",
    "    with IOTools.openFile(group_fasta_outfile, \"w\") as outf:\n",
    "        for ix, entry in enumerate(fasta_entries):\n",
    "            acc, taxid, seq, ebi_api = entry\n",
    "            tax_ids.add(taxid)\n",
    "            if taxid == int(mouse_tax_id) and acc == uniprot_id:\n",
    "                split_seq = [seq[i:i+split_at] for i in range(0, len(seq), split_at)]\n",
    "                outf.write(\">%s_%s\\n%s\\n\" % (acc, taxid, \"\\n\".join(split_seq)))\n",
    "                mouse_ix = ix\n",
    "\n",
    "        assert mouse_ix is not None, \"mouse protein not found! %i %i %s!\" % (\n",
    "            10090 in tax_ids, len(group_uniprot_ids), uniprot_id)\n",
    "\n",
    "        for ix, entry in enumerate(fasta_entries):\n",
    "            acc, taxid, seq, ebi_api = entry\n",
    "            if ix != mouse_ix:\n",
    "                try:\n",
    "                    split_seq = [seq[i:i+split_at] for i in range(0, len(seq), split_at)]\n",
    "                    outf.write(\">%s_%s\\n%s\\n\" % (acc, taxid, \"\\n\".join(split_seq)))\n",
    "                except:\n",
    "                    pass\n",
    "\n",
    "                #print(entry)\n",
    "print(\"completed %i proteins\" % n)"
   ]
  },
  {
   "cell_type": "code",
   "execution_count": 13,
   "metadata": {
    "collapsed": false
   },
   "outputs": [
    {
     "name": "stdout",
     "output_type": "stream",
     "text": [
      "167\n"
     ]
    }
   ],
   "source": [
    "print(len(group_uniprot_ids))\n",
    "fasta_entries = []\n",
    "for values in sequence.getSequences([x for x in group_uniprot_ids if x!=\"\\\\N\"]):\n",
    "    fasta_entries.append(values)"
   ]
  },
  {
   "cell_type": "code",
   "execution_count": 14,
   "metadata": {
    "collapsed": false
   },
   "outputs": [
    {
     "name": "stdout",
     "output_type": "stream",
     "text": [
      "['A', 'C', 'D', 'E', 'F', 'G', 'H', 'I', 'K', 'L', 'M', 'N', 'P', 'Q', 'R', 'S', 'T', 'V', 'W', 'X', 'Y', 'Z', '-']\n"
     ]
    }
   ],
   "source": [
    "aas = [x for x in string.ascii_uppercase if x not in [\"O\", \"J\", \"U\", \"B\"]]\n",
    "aas.append(\"-\")\n",
    "print(aas)"
   ]
  },
  {
   "cell_type": "code",
   "execution_count": 15,
   "metadata": {
    "collapsed": false
   },
   "outputs": [
    {
     "ename": "NameError",
     "evalue": "name 'tmp_df' is not defined",
     "output_type": "error",
     "traceback": [
      "\u001b[0;31m---------------------------------------------------------------------------\u001b[0m",
      "\u001b[0;31mNameError\u001b[0m                                 Traceback (most recent call last)",
      "\u001b[0;32m<ipython-input-15-c6c01660a93c>\u001b[0m in \u001b[0;36m<module>\u001b[0;34m()\u001b[0m\n\u001b[1;32m     47\u001b[0m \u001b[0;34m\u001b[0m\u001b[0m\n\u001b[1;32m     48\u001b[0m \u001b[0;34m\u001b[0m\u001b[0m\n\u001b[0;32m---> 49\u001b[0;31m         \u001b[0mpositions\u001b[0m \u001b[0;34m=\u001b[0m \u001b[0mset\u001b[0m\u001b[0;34m(\u001b[0m\u001b[0mtmp_df\u001b[0m\u001b[0;34m[\u001b[0m\u001b[0mtmp_df\u001b[0m\u001b[0;34m[\u001b[0m\u001b[0;34m'uniprot_id'\u001b[0m\u001b[0;34m]\u001b[0m\u001b[0;34m==\u001b[0m\u001b[0muniprot_id\u001b[0m\u001b[0;34m]\u001b[0m\u001b[0;34m[\u001b[0m\u001b[0;34m'position'\u001b[0m\u001b[0;34m]\u001b[0m\u001b[0;34m.\u001b[0m\u001b[0mtolist\u001b[0m\u001b[0;34m(\u001b[0m\u001b[0;34m)\u001b[0m\u001b[0;34m)\u001b[0m\u001b[0;34m\u001b[0m\u001b[0m\n\u001b[0m\u001b[1;32m     50\u001b[0m \u001b[0;34m\u001b[0m\u001b[0m\n\u001b[1;32m     51\u001b[0m         \u001b[0;32mfor\u001b[0m \u001b[0mposition\u001b[0m \u001b[0;32min\u001b[0m \u001b[0mpositions\u001b[0m\u001b[0;34m:\u001b[0m\u001b[0;34m\u001b[0m\u001b[0m\n",
      "\u001b[0;31mNameError\u001b[0m: name 'tmp_df' is not defined"
     ]
    }
   ],
   "source": [
    "amino_acids_at_K = collections.defaultdict(lambda: collections.defaultdict(lambda: collections.defaultdict(set)))\n",
    "alignments = collections.defaultdict(lambda: collections.defaultdict(str))\n",
    "seqs = collections.defaultdict(str)\n",
    "#tmp_df = ratio_df[ratio_df['reference']!='Sadhukhan_et_al_2016']\n",
    "uniprot2_121_orthologs = collections.defaultdict(set)\n",
    "\n",
    "species = set()\n",
    "rows = []\n",
    "completed = set()\n",
    "\n",
    "for uniprot_id in set(uniprot_ids):\n",
    "    outfile_aligned = \"./results/conservation/fasta/%s_clustalo.fa\" % uniprot_id\n",
    "    if os.path.exists(outfile_aligned):\n",
    "        \n",
    "        possible_alignments = collections.defaultdict(set)\n",
    "        mouse_seq = None\n",
    "        \n",
    "        for ix, fasta in enumerate(FA.iterate(IOTools.openFile(outfile_aligned, \"r\"))):\n",
    "            tax_id_uniprot_id, tax_id = fasta.title.split(\"_\")\n",
    "            tax_id = int(tax_id.replace(\";\", \"\"))\n",
    "            species.add(tax_id)\n",
    "            \n",
    "            if tax_id == 10090:\n",
    "                if tax_id_uniprot_id == uniprot_id:\n",
    "                    mouse_seq = fasta.sequence\n",
    "                else:\n",
    "                    continue\n",
    "            else:\n",
    "                possible_alignments[tax_id].add((fasta.sequence, tax_id_uniprot_id))\n",
    "\n",
    "        assert mouse_seq is not None\n",
    "        \n",
    "            \n",
    "            \n",
    "        for tax_id in possible_alignments:\n",
    "            top_distance = len(mouse_seq)\n",
    "            top_seq = \"\"\n",
    "            top_id = \"\"\n",
    "            for seq, tax_id_uniprot_id in possible_alignments[tax_id]:\n",
    "                distance = sum([x!=y for x, y in zip(seq, mouse_seq)])\n",
    "                if distance < top_distance:\n",
    "                    top_distance = distance\n",
    "                    top_seq = seq\n",
    "                    top_id = tax_id_uniprot_id\n",
    "\n",
    "            uniprot2_121_orthologs[uniprot_id].add(top_id)\n",
    "      \n",
    "        \n",
    "        positions = set(tmp_df[tmp_df['uniprot_id']==uniprot_id]['position'].tolist())\n",
    "        \n",
    "        for position in positions:\n",
    "            possible_alignments = collections.defaultdict(set)\n",
    "            amino_acids = []\n",
    "            row = [uniprot_id, position]\n",
    "            gaps = 0\n",
    "            for fasta in FA.iterate(IOTools.openFile(outfile_aligned, \"r\")):\n",
    "                tax_id_uniprot_id, tax_id = fasta.title.split(\"_\")\n",
    "                tax_id = int(tax_id.replace(\";\", \"\"))\n",
    "\n",
    "                if tax_id == 10090:\n",
    "                    if tax_id_uniprot_id == uniprot_id:\n",
    "                        seq_n = 0\n",
    "                        align_n = 0\n",
    "                        for align_position in fasta.sequence.replace(\" \", \"\"):\n",
    "\n",
    "                            if align_position != \"-\":\n",
    "                                seq_n+=1\n",
    "                                if seq_n == position:\n",
    "                                    break\n",
    "                            else:\n",
    "                                gaps += 1\n",
    "                            align_n += 1\n",
    "\n",
    "                        mouse_seq = fasta.sequence[align_n-11:align_n+11]\n",
    "                        alignments[uniprot_id][position] += \">%s\\n%s\\n\" % (tax_id,mouse_seq)\n",
    "                        amino_acids.append(fasta.sequence[align_n])\n",
    "                        amino_acids_at_K[uniprot_id][position][fasta.sequence[align_n]].add(tax_id)\n",
    "                        \n",
    "                elif tax_id_uniprot_id in uniprot2_121_orthologs[uniprot_id]:\n",
    "                    top_seq = fasta.sequence[align_n-11:align_n+11]\n",
    "                    alignments[uniprot_id][position] += \">%s\\n%s\\n\" % (\n",
    "                        tax_id, top_seq)\n",
    "                    amino_acids_at_K[uniprot_id][position][top_seq[10]].add(tax_id)\n",
    "                    amino_acids.append(top_seq[10])\n",
    "\n",
    "            #remove the final newlines from alignments\n",
    "            alignments[uniprot_id][position] = alignments[uniprot_id][position].strip()\n",
    "\n",
    "            row.append(len(amino_acids))\n",
    "            for aa in aas:\n",
    "                row.append(amino_acids.count(aa))\n",
    "\n",
    "            rows.append(row)\n",
    "\n",
    "            alignment_tax_ids = collections.Counter()\n",
    "\n",
    "            for line in alignments[uniprot_id][position].split(\"\\n\"):\n",
    "                if line.startswith(\">\"):\n",
    "                    alignment_tax_ids[int(line[1:])] += 1\n",
    "                "
   ]
  },
  {
   "cell_type": "code",
   "execution_count": null,
   "metadata": {
    "collapsed": false
   },
   "outputs": [],
   "source": [
    "print(len(alignments))\n",
    "print(len(species))"
   ]
  },
  {
   "cell_type": "code",
   "execution_count": null,
   "metadata": {
    "collapsed": false
   },
   "outputs": [],
   "source": [
    "header = [\"uniprot_id\", \"position\", \"total\"]\n",
    "header.extend(aas)\n",
    "header[-1] = \"missing\"\n",
    "base_counts_df = pd.DataFrame.from_records(rows, columns=header)\n",
    "\n",
    "base_counts_df = pd.merge(base_counts_df, ratio_df,\n",
    "                          left_on=[\"uniprot_id\", \"position\"],\n",
    "                          right_on=[\"uniprot_id\", \"position\"],\n",
    "                          how='left')\n",
    "\n",
    "print(base_counts_df.head())\n",
    "print(base_counts_df.shape)\n",
    "base_counts_df.drop(\"in_elm\", inplace=True, axis=1)"
   ]
  },
  {
   "cell_type": "code",
   "execution_count": null,
   "metadata": {
    "collapsed": true
   },
   "outputs": [],
   "source": []
  },
  {
   "cell_type": "code",
   "execution_count": null,
   "metadata": {
    "collapsed": false
   },
   "outputs": [],
   "source": [
    "%%R\n",
    "library(ggbeeswarm)"
   ]
  },
  {
   "cell_type": "code",
   "execution_count": null,
   "metadata": {
    "collapsed": false
   },
   "outputs": [],
   "source": [
    "%%R -i base_counts_df\n",
    "library(ggplot2)\n",
    "\n",
    "base_counts_df$ratio <- as.numeric(as.character(base_counts_df$ratio))\n",
    "\n",
    "base_counts_df$K_conservation = (100*base_counts_df$K) / (base_counts_df$total - base_counts_df$missing)\n",
    "base_counts_df$R_conversion = (100*base_counts_df$R) / (base_counts_df$total - base_counts_df$missing)\n",
    "base_counts_df$DE_conversion = (100*(base_counts_df$D + base_counts_df$E) /\n",
    "                 (base_counts_df$total - base_counts_df$missing))\n",
    "base_counts_df$binned_K_conservation <- .bincode(base_counts_df$K_conservation, breaks = seq(0,100,20))\n",
    "base_counts_df$binned_DE_conservation <- .bincode(base_counts_df$DE_conversion, breaks = seq(0,100,20))\n",
    "base_counts_df$binned_R_conservation <- .bincode(base_counts_df$R_conversion, breaks = seq(0,100,20))\n",
    "\n",
    "print(head(base_counts_df))\n",
    "\n",
    "m_txt <- element_text(size=20)\n",
    "my_theme <- theme(\n",
    "    text=m_txt,\n",
    "    axis.text.x=element_text(angle=90, vjust=0.5, hjust=1))\n",
    "\n",
    "p <- ggplot(base_counts_df, aes(K_conservation, log(ratio,2))) +\n",
    "geom_point() +\n",
    "facet_grid(reference~in_idr) +\n",
    "theme_bw() +\n",
    "xlab(\"Conserved Lysines (%)\") +\n",
    "ylab(\"Ratio SIRT5 -/- vs WT\") +\n",
    "scale_x_continuous(breaks=seq(0,100,25), limits=c(0,100)) +\n",
    "my_theme\n",
    "\n",
    "print(p)\n",
    "\n",
    "p <- ggplot(base_counts_df, aes(R_conversion, log(ratio,2))) +\n",
    "geom_point() +\n",
    "facet_grid(reference~in_idr, scales='free') +\n",
    "theme_bw() +\n",
    "xlab(\"Rs (%)\") +\n",
    "ylab(\"Ratio SIRT5 -/- vs WT\") +\n",
    "#scale_x_continuous(breaks=seq(0,100,25), limits=c(0,100)) +\n",
    "my_theme\n",
    "\n",
    "print(p)\n",
    "\n",
    "p <- ggplot(base_counts_df, aes(DE_conversion, log(ratio,2))) +\n",
    "geom_point() +\n",
    "facet_grid(reference~in_idr, scales='free') +\n",
    "theme_bw() +\n",
    "xlab(\"D/Es (%)\") +\n",
    "ylab(\"Ratio SIRT5 -/- vs WT\") +\n",
    "#scale_x_continuous(breaks=seq(0,100,25), limits=c(0,100)) +\n",
    "my_theme\n",
    "\n",
    "print(p)\n",
    "\n",
    "p <- ggplot(base_counts_df, aes(factor(binned_K_conservation), log(ratio,2))) +\n",
    "geom_boxplot(notch=TRUE) +\n",
    "facet_grid(reference~in_idr) +\n",
    "theme_bw() +\n",
    "xlab(\"Conserved Lysines (%)\") +\n",
    "ylab(\"Ratio SIRT5 -/- vs WT\") +\n",
    "#scale_x_continuous(breaks=seq(0,100,25), limits=c(0,100)) +\n",
    "my_theme\n",
    "\n",
    "print(p)\n",
    "\n",
    "p <- ggplot(base_counts_df, aes(factor(binned_R_conservation), log(ratio,2))) +\n",
    "geom_boxplot(notch=TRUE) +\n",
    "facet_grid(reference~in_idr) +\n",
    "theme_bw() +\n",
    "xlab(\"Rs (%)\") +\n",
    "ylab(\"Ratio SIRT5 -/- vs WT\") +\n",
    "#scale_x_continuous(breaks=seq(0,100,25), limits=c(0,100)) +\n",
    "my_theme\n",
    "\n",
    "print(p)\n",
    "p <- ggplot(base_counts_df, aes(factor(binned_DE_conservation), log(ratio,2))) +\n",
    "geom_boxplot(notch=TRUE) +\n",
    "facet_grid(reference~in_idr) +\n",
    "theme_bw() +\n",
    "xlab(\"D/Es (%)\") +\n",
    "ylab(\"Ratio SIRT5 -/- vs WT\") +\n",
    "#scale_x_continuous(breaks=seq(0,100,25), limits=c(0,100)) +\n",
    "my_theme\n",
    "\n",
    "print(p)\n",
    "\n",
    "plot(density(base_counts_df$total, bw=1))\n",
    "plot(density(base_counts_df$K, bw=0.1))\n",
    "plot(density(base_counts_df$Q, bw=0.1))\n",
    "plot(density(base_counts_df$R, bw=0.1))\n",
    "plot(density(base_counts_df$E, bw=0.1))\n",
    "plot(density(base_counts_df$D, bw=0.1))\n",
    "plot(density(base_counts_df$H, bw=0.1))\n",
    "plot(density(base_counts_df$S, bw=0.1))"
   ]
  },
  {
   "cell_type": "code",
   "execution_count": null,
   "metadata": {
    "collapsed": false
   },
   "outputs": [],
   "source": [
    "def isInGroup(tax_id, group):\n",
    "    '''unfortunately yhe ncbi.get_descendant function from ete doesn't\n",
    "    retrieve all descendants. For example 9606 (homo sapien) is not in vertebrates!\n",
    "    \n",
    "    This function tests if the group is in the tax_id lineage'''\n",
    "    return group in ncbi.get_lineage(tax_id)\n",
    "\n",
    "print(isInGroup(9606, vertebrate_tax_id))\n",
    "print(isInGroup(9606, mammals_tax_id))\n",
    "print(isInGroup(9606, placentals_tax_id))\n",
    "print(isInGroup(28377, vertebrate_tax_id)) #green Anole\n",
    "print(isInGroup(28377, mammals_tax_id)) #green Anole\n",
    "print(isInGroup(28377, placentals_tax_id)) #green Anole"
   ]
  },
  {
   "cell_type": "code",
   "execution_count": null,
   "metadata": {
    "collapsed": false
   },
   "outputs": [],
   "source": [
    "mammal_ids = set()\n",
    "non_mammal_ids = set()\n",
    "\n",
    "placental_ids = set()\n",
    "non_placental_ids = set()\n",
    "\n",
    "rodent_rabit_ids = set()\n",
    "non_rodent_rabit_ids = set()\n",
    "print(10090 in species)\n",
    "print(9601 in species)\n",
    "for organism in species:\n",
    "    \n",
    "    if isInGroup(organism, mammals_tax_id):\n",
    "        mammal_ids.add(organism)\n",
    "    else:\n",
    "        non_mammal_ids.add(organism)\n",
    "    \n",
    "    if isInGroup(organism, placentals_tax_id):\n",
    "        placental_ids.add(organism)\n",
    "    else:\n",
    "        non_placental_ids.add(organism)\n",
    "        \n",
    "    if isInGroup(organism, rodent_tax_id):\n",
    "        rodent_rabit_ids.add(organism)\n",
    "    else:\n",
    "        non_rodent_rabit_ids.add(organism)\n",
    "        \n",
    "        \n",
    "print(\"10090\" in mammal_ids)\n",
    "print(\"10090\" in non_mammal_ids)\n",
    "\n",
    "print(\"9601\" in mammal_ids)\n",
    "print(\"9601\" in non_mammal_ids)\n"
   ]
  },
  {
   "cell_type": "code",
   "execution_count": null,
   "metadata": {
    "collapsed": false
   },
   "outputs": [],
   "source": [
    "n = 0 \n",
    "\n",
    "rows = []\n",
    "\n",
    "for uniprot_id in alignments.keys():\n",
    "    positions_covered = set()\n",
    "    #if n>=5:\n",
    "    #    break\n",
    "    #print(uniprot_id)\n",
    "    for position in alignments[uniprot_id]:\n",
    "\n",
    "        tmp_alignments = alignments[uniprot_id][position].split(\"\\n\")\n",
    "        \n",
    "        tmp_alignment_tax_ids = [x[1:] for x in tmp_alignments[::2]]\n",
    "        tmp_alignment_tax_seq = [x[1:] for x in tmp_alignments[1::2]]\n",
    "        tmp_alignments_dict = {int(x):y for x, y in zip(tmp_alignment_tax_ids, tmp_alignment_tax_seq)}\n",
    "        \n",
    "        seq_ix = -11\n",
    "        for ix, base in enumerate(tmp_alignments_dict[10090], -10):\n",
    "            if not base == \"-\":\n",
    "                seq_ix += 1\n",
    "            if base == \"K\":\n",
    "                if position+ix not in positions_covered:\n",
    "                    positions_covered.add(position+ix)\n",
    "\n",
    "                    k_mammals = 0\n",
    "                    k_non_mammals = 0\n",
    "                    non_k_mammals = 0\n",
    "                    non_k_non_mammals = 0\n",
    "                    de_mammals = 0\n",
    "                    de_non_mammals = 0\n",
    "                    non_de_mammals = 0\n",
    "                    non_de_non_mammals = 0\n",
    "                    r_all = 0\n",
    "                    total = 0\n",
    "\n",
    "                    #print(tmp_alignments_dict)\n",
    "                    for tax_id in tmp_alignments_dict:\n",
    "\n",
    "                        seq = tmp_alignments_dict[tax_id]\n",
    "                        mammal = tax_id in mammal_ids\n",
    "                        \n",
    "                        tax_id_base = seq[ix + 10]\n",
    "\n",
    "                        try:\n",
    "                            if tax_id_base == \"-\":\n",
    "                                pass\n",
    "                            else:\n",
    "                                total += 1\n",
    "                                if tax_id_base == \"K\":\n",
    "                                    if mammal:\n",
    "                                        k_mammals += 1\n",
    "                                        non_de_mammals += 1\n",
    "                                    else:\n",
    "                                        k_non_mammals += 1\n",
    "                                        non_de_non_mammals += 1\n",
    "\n",
    "                                elif tax_id_base == \"D\" or tax_id_base == \"E\":\n",
    "                                    if mammal:\n",
    "                                        de_mammals += 1\n",
    "                                        non_k_mammals += 1\n",
    "                                    else:\n",
    "\n",
    "                                        de_non_mammals += 1\n",
    "                                        non_k_non_mammals += 1\n",
    "\n",
    "                                elif tax_id_base == \"R\":\n",
    "                                    r_all += 1\n",
    "\n",
    "                                else:\n",
    "                                    if mammal:\n",
    "                                        non_k_mammals += 1\n",
    "                                        non_de_mammals += 1\n",
    "                                    else:\n",
    "                                        non_k_non_mammals += 1\n",
    "                                        non_de_non_mammals += 1\n",
    "                        except:\n",
    "                            print(tmp_alignments_dict)\n",
    "                            print(seq, tax_id, position+ix)\n",
    "                            print(k_mammals, k_non_mammals)\n",
    "                            print(uniprot_id)\n",
    "                            print(alignments[uniprot_id][position])\n",
    "                            raise ValueError()\n",
    "\n",
    "                    rows.append((uniprot_id, position+seq_ix,\n",
    "                                 position+seq_ix in alignments[uniprot_id],\n",
    "                                 k_mammals, k_non_mammals,\n",
    "                                 non_k_mammals, non_k_non_mammals,\n",
    "                                 de_mammals, non_de_mammals,\n",
    "                                 de_non_mammals, non_de_non_mammals,\n",
    "                                 r_all, total))\n"
   ]
  },
  {
   "cell_type": "code",
   "execution_count": null,
   "metadata": {
    "collapsed": false
   },
   "outputs": [],
   "source": [
    "header = (\"uniprot_id\", \"position\", \"succ.lysine\",\n",
    "          \"k_mammals\",\"k_non_mammals\",\n",
    "          \"non_k_mammals\", \"non_k_non_mammals\",\n",
    "          \"de_mammals\", \"non_de_mammals\",\n",
    "          \"de_non_mammals\", \"non_de_non_mammals\",\n",
    "          \"r_all\", \"total\")\n",
    "\n",
    "df = pd.DataFrame.from_records(rows, columns=header)\n",
    "df = pd.merge(df, ratio_df, left_on=[\"uniprot_id\", \"position\"], right_on=[\"uniprot_id\", \"position\"],\n",
    "              how='left')\n",
    "\n",
    "df['fraction_k_mammals'] = df['k_mammals'] / (df['k_mammals'] + df['non_k_mammals'])\n",
    "df['fraction_k_non_mammals'] = df['k_non_mammals'] / (df['k_non_mammals'] + df['non_k_non_mammals'])\n",
    "df['fraction_de_non_mammals'] = df['de_non_mammals'] / (df['de_non_mammals'] + df['non_de_non_mammals'])\n",
    "\n",
    "df['fraction_de'] = ((df['de_mammals'] + df['de_non_mammals']) / df['total'])\n",
    "df['fraction_k'] = ((df['k_mammals'] + df['k_non_mammals']) / df['total'])\n",
    "df['fraction_r'] = df['r_all'] / df['total']\n",
    "\n",
    "df['K_DE'] = ((df['fraction_de_non_mammals'] >= 0.6) & (df['fraction_k_mammals'] >= 0.8))\n",
    "df.drop([\"in_elm\", \"in_idr\", \"in_nls\", \"in_krepeats\"], axis=1, inplace=True)\n",
    "for column in [\"modification\", \"reference\"]:\n",
    "    df[column] = df[column].astype(str)\n",
    "\n",
    "print(df[df['uniprot_id']=='Q9D0K2'].head())\n",
    "#\n",
    "#print(df[df['uniprot_id']=='Q9EQ20'])\n",
    "print(df.shape)\n",
    "#df = df[df['fraction_k_non_mammals'].notnull()]\n",
    "print(collections.Counter(df['de_non_mammals']))\n",
    "\n",
    "print(df['succ.lysine'].value_counts())\n",
    "df_kde = df[df['K_DE']==True]\n",
    "print(df_kde['succ.lysine'].value_counts())\n",
    "\n",
    "print(df_kde.shape)\n"
   ]
  },
  {
   "cell_type": "code",
   "execution_count": null,
   "metadata": {
    "collapsed": false
   },
   "outputs": [],
   "source": [
    "%%R -i df -w 700 -h 700\n",
    "print(head(df))\n",
    "p = ggplot(df, aes(fraction_r, log2(ratio))) + geom_point() + facet_wrap(~succ.lysine)\n",
    "print(p)\n",
    "\n",
    "p = ggplot(df, aes(fraction_de, log2(ratio))) + geom_point() + facet_wrap(~succ.lysine)\n",
    "print(p)"
   ]
  },
  {
   "cell_type": "code",
   "execution_count": null,
   "metadata": {
    "collapsed": false
   },
   "outputs": [],
   "source": [
    "%%R -i df -w 700 -h 700\n",
    "print(head(df))\n",
    "\n",
    "my_theme = theme(aspect.ratio=1)\n",
    "\n",
    "p = ggplot(df, aes(col=ratio>6, x=fraction_de))\n",
    "\n",
    "p2 = p + geom_density() + coord_cartesian(xlim=c(0.05, 1), ylim=c(0,0.5)) + facet_wrap(~succ.lysine) +\n",
    "theme_bw() + my_theme\n",
    "                \n",
    "print(p2)\n",
    "\n",
    "p = ggplot(df, aes(col=ratio>6, x=fraction_r))\n",
    "\n",
    "p2 = p + geom_density() + coord_cartesian(xlim=c(0.05, 1), ylim=c(0,0.5)) + facet_wrap(~succ.lysine) +\n",
    "theme_bw() + my_theme\n",
    "                \n",
    "                \n",
    "print(p2)\n",
    "\n",
    "\n",
    "p = ggplot(df, aes(col=succ.lysine, x=fraction_k))\n",
    "\n",
    "p2 = p + geom_density()  +\n",
    "theme_bw() + my_theme\n",
    "                \n",
    "print(p2)"
   ]
  },
  {
   "cell_type": "code",
   "execution_count": null,
   "metadata": {
    "collapsed": false
   },
   "outputs": [],
   "source": [
    "#for uniprot_id in set(df['uniprot_id']):\n",
    "print(outfile_aligned)\n",
    "for uniprot_id in [\"Q91V76\"]:\n",
    "    print(\"\\n\", uniprot_id)\n",
    "    retained_uniprot_ids = uniprot2_121_orthologs[uniprot_id]\n",
    "    \n",
    "    outfile_aligned = \"./results/conservation/fasta/%s_clustalo.fa\" % uniprot_id\n",
    "    print(outfile_aligned)\n",
    "    \n",
    "    for fasta in FA.iterate(IOTools.openFile(outfile_aligned, \"r\")):\n",
    "        tax_id_uniprot_id, tax_id = fasta.title.split(\"_\")\n",
    "        tax_id = int(tax_id.replace(\";\", \"\"))\n",
    "        if tax_id_uniprot_id == uniprot_id:\n",
    "            mouse_seq = fasta.sequence\n",
    "            bases_array_mammals = np.zeros((len(aas), len(fasta.sequence)))\n",
    "            bases_array_non_mammals = np.zeros((len(aas), len(fasta.sequence)))\n",
    "\n",
    "        if tax_id in mammal_ids:\n",
    "            for ix, base in enumerate(fasta.sequence):\n",
    "                bases_array_mammals[(aas.index(base), ix)] += 1\n",
    "        else:\n",
    "            for ix, base in enumerate(fasta.sequence):\n",
    "                bases_array_non_mammals[(aas.index(base), ix)] += 1\n",
    "\n",
    "    seq_n = 0\n",
    "\n",
    "    for ix, base in enumerate(mouse_seq):\n",
    "        if base != \"-\":\n",
    "            seq_n += 1\n",
    "\n",
    "        fraction_k_non_mammals = (bases_array_non_mammals[aas.index(\"K\"),ix] /\n",
    "                      (sum(bases_array_non_mammals[:,ix]) - bases_array_non_mammals[aas.index(\"-\"),ix]))\n",
    "        fraction_de_non_mammals = ((bases_array_non_mammals[aas.index(\"D\"),ix] +\n",
    "                                    bases_array_non_mammals[aas.index(\"E\"),ix])/\n",
    "                      (sum(bases_array_non_mammals[:,ix]) - bases_array_non_mammals[aas.index(\"-\"),ix]))\n",
    "\n",
    "        fraction_k_mammals = (bases_array_mammals[aas.index(\"K\"),ix] /\n",
    "                      (sum(bases_array_mammals[:,ix]) - bases_array_mammals[aas.index(\"-\"),ix]))\n",
    "        fraction_de_mammals = ((bases_array_mammals[aas.index(\"D\"),ix] + bases_array_mammals[aas.index(\"E\"),ix])/\n",
    "                      (sum(bases_array_mammals[:,ix]) - bases_array_mammals[aas.index(\"-\"),ix]))\n",
    "\n",
    "        #print(ix, base, fraction_k, fraction_de)\n",
    "\n",
    "        if ((fraction_de_mammals > 0.5 and fraction_de_non_mammals < 0.2) and\n",
    "            (sum(bases_array_mammals[:,ix]) - bases_array_mammals[aas.index(\"-\"),ix]) >= 10 and\n",
    "            (sum(bases_array_non_mammals[:,ix]) - bases_array_non_mammals[aas.index(\"-\"),ix]) >= 5):\n",
    "            \n",
    "            pass\n",
    "\n",
    "            print(fraction_de_mammals > 0.5, fraction_de_non_mammals < 0.5)\n",
    "            print(ix, seq_n, base, fraction_de_mammals, fraction_de_non_mammals)\n",
    "            print(bases_array_mammals[aas.index(\"D\"),ix], bases_array_non_mammals[aas.index(\"D\"),ix])\n",
    "            print(bases_array_mammals[aas.index(\"E\"),ix], bases_array_non_mammals[aas.index(\"E\"),ix])\n",
    "            print(print(bases_array_mammals[aas.index(\"E\"),ix], bases_array_non_mammals[aas.index(\"E\"),ix]))\n",
    "            \n",
    "\n",
    "            species = set()\n",
    "            tmp_alignments = \"\"\n",
    "            for fasta in FA.iterate(IOTools.openFile(outfile_aligned, \"r\")):\n",
    "                tax_id_uniprot_id, tax_id = fasta.title.split(\"_\")\n",
    "                tax_id = int(tax_id.replace(\";\", \"\"))\n",
    "                if tax_id_uniprot_id in retained_uniprot_ids or tax_id_uniprot_id == uniprot_id:\n",
    "                    species.add(tax_id)\n",
    "                    tmp_alignments += \">%i\\n%s\\n\" % (tax_id, fasta.sequence[ix-10: ix+10])\n",
    "\n",
    "            tree = ncbi.get_topology(species, intermediate_nodes=False)\n",
    "            tree.link_to_alignment(tmp_alignments)\n",
    "            \n",
    "            #tree.show()\n",
    "                \n",
    "            \n",
    "            "
   ]
  },
  {
   "cell_type": "code",
   "execution_count": null,
   "metadata": {
    "collapsed": false
   },
   "outputs": [],
   "source": [
    "n = 0 \n",
    "\n",
    "mammal_ids = set()\n",
    "non_mammal_ids = set()\n",
    "\n",
    "rows = []\n",
    "\n",
    "for uniprot_id in alignments.keys():\n",
    "\n",
    "    for position in alignments[uniprot_id]:\n",
    "   \n",
    "        k_organisms = amino_acids_at_K[uniprot_id][position][\"K\"]\n",
    "        r_organisms = amino_acids_at_K[uniprot_id][position][\"R\"]\n",
    "        de_organisms = amino_acids_at_K[uniprot_id][position][\"D\"]\n",
    "        de_organisms.update(amino_acids_at_K[uniprot_id][position][\"E\"])\n",
    "        organisms = set()\n",
    "        for aa in aas:\n",
    "            if aa != \"-\":\n",
    "                organisms.update(amino_acids_at_K[uniprot_id][position][aa])\n",
    "        non_k_organisms = organisms.difference(k_organisms)\n",
    "        non_de_organisms = organisms.difference(de_organisms)\n",
    "        non_r_organisms = organisms.difference(r_organisms)\n",
    "\n",
    "        k_mammals = []\n",
    "        k_non_mammals = []\n",
    "        for x in k_organisms:\n",
    "            if x in mammal_ids:\n",
    "                k_mammals.append(x)\n",
    "            elif x in non_mammal_ids:\n",
    "                k_non_mammals.append(x)\n",
    "            else:\n",
    "                if isInGroup(x, mammals_tax_id):\n",
    "                    k_mammals.append(x)\n",
    "                    mammal_ids.add(x)\n",
    "                else:\n",
    "                    k_non_mammals.append(x)\n",
    "                    non_mammal_ids.add(x)\n",
    "\n",
    "        non_k_mammals = []\n",
    "        non_k_non_mammals = []\n",
    "        for x in non_k_organisms:\n",
    "            if x in mammal_ids:\n",
    "                non_k_mammals.append(x)\n",
    "            elif x in non_mammal_ids:\n",
    "                non_k_non_mammals.append(x)\n",
    "            else:\n",
    "                if isInGroup(x, mammals_tax_id):\n",
    "                    k_mammals.append(x)\n",
    "                    mammal_ids.add(x)\n",
    "                else:\n",
    "                    k_non_mammals.append(x)\n",
    "                    non_mammal_ids.add(x)   \n",
    "  \n",
    "        de_mammals = []\n",
    "        de_non_mammals = []\n",
    "        for x in de_organisms:\n",
    "            if x in mammal_ids:\n",
    "                de_mammals.append(x)\n",
    "            elif x in non_mammal_ids:\n",
    "                de_non_mammals.append(x)\n",
    "            else:\n",
    "                raise ValueError(\"shouldn't reach here!\")\n",
    "        \n",
    "        r_mammals = []\n",
    "        r_non_mammals = []\n",
    "        for x in r_organisms:\n",
    "            if x in mammal_ids:\n",
    "                r_mammals.append(x)\n",
    "            elif x in non_mammal_ids:\n",
    "                r_non_mammals.append(x)\n",
    "            else:\n",
    "                raise ValueError(\"shouldn't reach here!\")\n",
    "                \n",
    "        non_k_mammals = []\n",
    "        non_k_non_mammals = []\n",
    "        for x in non_k_organisms:\n",
    "            if x in mammal_ids:\n",
    "                non_k_mammals.append(x)\n",
    "            elif x in non_mammal_ids:\n",
    "                non_k_non_mammals.append(x)\n",
    "            else:\n",
    "                raise ValueError(\"shouldn't reach here!\")\n",
    "\n",
    "        non_de_mammals = []\n",
    "        non_de_non_mammals = []\n",
    "        for x in non_de_organisms:\n",
    "            if x in mammal_ids:\n",
    "                non_de_mammals.append(x)\n",
    "            elif x in non_mammal_ids:\n",
    "                non_de_non_mammals.append(x)\n",
    "            else:\n",
    "                raise ValueError(\"shouldn't reach here2!\")\n",
    "\n",
    "        non_r_mammals = []\n",
    "        non_r_non_mammals = []\n",
    "        for x in non_r_organisms:\n",
    "            if x in mammal_ids:\n",
    "                non_r_mammals.append(x)\n",
    "            elif x in non_mammal_ids:\n",
    "                non_r_non_mammals.append(x)\n",
    "            else:\n",
    "                raise ValueError(\"shouldn't reach here2!\")\n",
    "                \n",
    "        if (len(k_non_mammals) + len(non_k_non_mammals)) == 0:\n",
    "            print(\"No non mammals!\", uniprot_id, position)\n",
    "            continue\n",
    "\n",
    "        fraction_k_mammal = (len(k_mammals) / ( len(non_k_mammals) + len(k_mammals)))\n",
    "        fraction_k_non_mammal = (len(k_non_mammals) / ( len(non_k_non_mammals) + len(k_non_mammals)))\n",
    "\n",
    "        fraction_de_mammal = (len(de_mammals) / ( len(non_de_mammals) + len(de_mammals)))\n",
    "        fraction_de_non_mammal = (len(de_non_mammals) / ( len(non_de_non_mammals) + len(de_non_mammals)))\n",
    "\n",
    "        fraction_r_mammal = (len(r_mammals) / ( len(non_r_mammals) + len(r_mammals)))\n",
    "        fraction_r_non_mammal = (len(r_non_mammals) / ( len(non_r_non_mammals) + len(r_non_mammals)))\n",
    "        \n",
    "        row = [uniprot_id, position,\n",
    "               fraction_k_mammal, fraction_k_non_mammal,\n",
    "               fraction_de_mammal, fraction_de_non_mammal,\n",
    "               fraction_r_mammal, fraction_r_non_mammal]\n",
    "        \n",
    "        tree = ncbi.get_topology(organisms, intermediate_nodes=False)\n",
    "        tree.link_to_alignment(alignments[uniprot_id][position])\n",
    "        #tree.show()\n",
    "            \n",
    "        if fraction_k_mammal > 0.8 and fraction_de_non_mammal > 0.4:\n",
    "            row.append(1)\n",
    "            print(uniprot_id, position)\n",
    "            print(fraction_k_mammal)\n",
    "            print(fraction_de_non_mammal)\n",
    "            \n",
    "            try:\n",
    "                tree = ncbi.get_topology(k_organisms, intermediate_nodes=False)\n",
    "\n",
    "                #print(dir(tree))\n",
    "                #print(type(tree))\n",
    "                print(tree.taxid)\n",
    "                print(ncbi.translate_to_names([tree.taxid]))\n",
    "                print(ncbi.get_common_names([tree.taxid]))\n",
    "                ##print(tree.get_ascii(attributes=[\"sci_name\", \"rank\"]))\n",
    "            except:\n",
    "                pass\n",
    "\n",
    "            tree = ncbi.get_topology(organisms, intermediate_nodes=False)\n",
    "            tree.link_to_alignment(alignments[uniprot_id][position])\n",
    "            #tree.show()\n",
    "            n+=1\n",
    "            #tree.render(\"./results/conservation/plots/%s_%s.png\" % (uniprot_id, position))\n",
    "            #raise ValueError()\n",
    "        else:\n",
    "            row.append(0)\n",
    "            \n",
    "        if fraction_k_mammal > 0.8 and fraction_k_non_mammal < 0.2:\n",
    "            row.append(1)\n",
    "        else:\n",
    "            row.append(0)\n",
    "\n",
    "        rows.append(row)"
   ]
  },
  {
   "cell_type": "code",
   "execution_count": null,
   "metadata": {
    "collapsed": false
   },
   "outputs": [],
   "source": [
    "header = [\"uniprot_id\", \"position\",\n",
    "          \"fraction_k_mammal\", \"fraction_k_non_mammal\",\n",
    "          \"fraction_de_mammal\", \"fraction_de_non_mammal\",\n",
    "          \"fraction_r_mammal\", \"fraction_r_non_mammal\",\n",
    "          'succ._dep._charge', 'mammal_specific_k']\n",
    "\n",
    "conservation_changes_df = pd.DataFrame.from_records(rows, columns = header)\n",
    "conservation_changes_df = pd.merge(\n",
    "    conservation_changes_df, ratio_df,\n",
    "    left_on=[\"uniprot_id\", \"position\"], right_on=[\"uniprot_id\", \"position\"],\n",
    "    how='left')\n",
    "conservation_changes_df.drop('in_elm', axis=1, inplace=True)\n",
    "print(conservation_changes_df.head())\n",
    "conservation_changes_df.to_csv(\"./results/conservation/change_df.tsv\",sep=\"\\t\", index=False)"
   ]
  },
  {
   "cell_type": "code",
   "execution_count": null,
   "metadata": {
    "collapsed": false,
    "scrolled": true
   },
   "outputs": [],
   "source": [
    "%%R -i conservation_changes_df\n",
    "library(ggplot2)\n",
    "\n",
    "df <- conservation_changes_df[order(-conservation_changes_df$succ._dep._charge),]\n",
    "\n",
    "p = ggplot(df, aes(factor(succ._dep._charge), log(ratio, 2))) +\n",
    "facet_grid(.~reference)\n",
    "\n",
    "p2 = p + geom_boxplot(notch=T)\n",
    "print(p2)\n",
    "\n",
    "p2 = p + geom_quasirandom()\n",
    "print(p2)\n",
    "\n",
    "\n"
   ]
  },
  {
   "cell_type": "code",
   "execution_count": null,
   "metadata": {
    "collapsed": false
   },
   "outputs": [],
   "source": [
    "%%R\n",
    "tmp_df = df[df$reference=='Rardin_et_al_2013',]\n",
    "print(table(tmp_df$p_value<0.001, tmp_df$mammal_specific_k))\n",
    "print(table(tmp_df$p_value<0.001, tmp_df$succ._dep._charge))\n",
    "print(table(tmp_df$p_value<0.001, tmp_df$fraction_k_non_mammal>0.7))"
   ]
  },
  {
   "cell_type": "code",
   "execution_count": null,
   "metadata": {
    "collapsed": false
   },
   "outputs": [],
   "source": [
    "%%R\n",
    "p = ggplot(df, aes(factor(mammal_specific_k), log(ratio, 2))) +\n",
    "facet_grid(.~reference)\n",
    "\n",
    "p2 = p + geom_boxplot(notch=T)\n",
    "print(p2)\n",
    "\n",
    "p2 = p + geom_quasirandom()\n",
    "print(p2)"
   ]
  },
  {
   "cell_type": "code",
   "execution_count": null,
   "metadata": {
    "collapsed": false
   },
   "outputs": [],
   "source": [
    "# show a specific uniprot id and position tree + alignment\n",
    "\n",
    "uniprot_id = 'Q9D0K2'\n",
    "position = 185\n",
    "\n",
    "k_organisms = amino_acids_at_K[uniprot_id][position][\"K\"]       \n",
    "\n",
    "organisms = set()\n",
    "for aa in aas:\n",
    "    if aa != \"-\":\n",
    "        organisms.update(amino_acids_at_K[uniprot_id][position][aa])\n",
    "\n",
    "non_k_organisms = organisms.difference(k_organisms)\n",
    "\n",
    "tree = ncbi.get_topology(organisms, intermediate_nodes=False)\n",
    "tree.link_to_alignment(alignments[uniprot_id][position])\n",
    "n+=1\n",
    "#tree.show()\n"
   ]
  },
  {
   "cell_type": "code",
   "execution_count": null,
   "metadata": {
    "collapsed": true
   },
   "outputs": [],
   "source": []
  },
  {
   "cell_type": "code",
   "execution_count": null,
   "metadata": {
    "collapsed": false
   },
   "outputs": [],
   "source": [
    "n = 0 \n",
    "for uniprot_id in alignments.keys():\n",
    "    #print(uniprot_id)\n",
    "    for position in alignments[uniprot_id]:\n",
    "        k_organisms = amino_acids_at_K[uniprot_id][position][\"K\"]       \n",
    "        organisms = set()\n",
    "        for aa in aas:\n",
    "            if aa != \"-\":\n",
    "                organisms.update(amino_acids_at_K[uniprot_id][position][aa])\n",
    "        non_k_organisms = organisms.difference(k_organisms)\n",
    "        \n",
    "        tree = ncbi.get_topology(organisms, intermediate_nodes=False)\n",
    "        tree.link_to_alignment(alignments[uniprot_id][position])\n",
    "\n",
    "        tree.render(\"./results/conservation/plots/%s_%s.png\" % (uniprot_id, position), )\n",
    "        \n",
    "        n+=1\n",
    "        if n%20==0:\n",
    "            print(n)\n"
   ]
  }
 ],
 "metadata": {
  "anaconda-cloud": {},
  "kernelspec": {
   "display_name": "Python [conda root]",
   "language": "python",
   "name": "conda-root-py"
  },
  "language_info": {
   "codemirror_mode": {
    "name": "ipython",
    "version": 3
   },
   "file_extension": ".py",
   "mimetype": "text/x-python",
   "name": "python",
   "nbconvert_exporter": "python",
   "pygments_lexer": "ipython3",
   "version": "3.5.2"
  }
 },
 "nbformat": 4,
 "nbformat_minor": 1
}
