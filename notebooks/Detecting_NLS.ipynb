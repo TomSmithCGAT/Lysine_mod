{
 "cells": [
  {
   "cell_type": "markdown",
   "metadata": {},
   "source": [
    "Qucik check for which proteases would be best at detecting NLS. These are very R and K-rich (this is how they are defined!) so not detectable in tryptic digests."
   ]
  },
  {
   "cell_type": "code",
   "execution_count": 119,
   "metadata": {
    "collapsed": true
   },
   "outputs": [],
   "source": [
    "import urllib3\n",
    "import json\n",
    "import requests, sys\n",
    "import collections\n",
    "import re\n",
    "import proteomics.sequence as sequence\n",
    "from time import gmtime, strftime\n",
    "import importlib\n",
    "import pandas as pd\n",
    "\n",
    "%load_ext rpy2.ipython"
   ]
  },
  {
   "cell_type": "code",
   "execution_count": 102,
   "metadata": {
    "collapsed": false
   },
   "outputs": [
    {
     "data": {
      "text/plain": [
       "<module 'proteomics.sequence' from '/home/FILESERVER5/proteomics/tss38/git_repos/CamProt/proteomics/sequence.py'>"
      ]
     },
     "execution_count": 102,
     "metadata": {},
     "output_type": "execute_result"
    }
   ],
   "source": [
    "importlib.reload(sequence)"
   ]
  },
  {
   "cell_type": "code",
   "execution_count": 93,
   "metadata": {
    "collapsed": true
   },
   "outputs": [],
   "source": [
    "url = 'https://www.ebi.ac.uk/proteins/api/features?size=10000&taxid=10090&categories=DOMAINS_AND_SITES&types=MOTIF&reviewed=true'\n",
    "r = requests.get(url, headers={ \"Accept\" : \"application/json\"})"
   ]
  },
  {
   "cell_type": "code",
   "execution_count": 94,
   "metadata": {
    "collapsed": true
   },
   "outputs": [],
   "source": [
    "text = json.loads(r.text)"
   ]
  },
  {
   "cell_type": "code",
   "execution_count": 95,
   "metadata": {
    "collapsed": false
   },
   "outputs": [],
   "source": [
    "nls_blocks = collections.defaultdict(list)\n",
    "\n",
    "r = requests.get(url, headers={ \"Accept\" : \"application/json\"})\n",
    "text = json.loads(r.text)\n",
    "for p_ix in text:\n",
    "    for motif in p_ix['features']:\n",
    "        if 'Nuclear localization signal' in motif['description']:\n",
    "            nls_blocks[p_ix['accession']].append((int(motif['begin']), int(motif['end'])))"
   ]
  },
  {
   "cell_type": "code",
   "execution_count": 149,
   "metadata": {
    "collapsed": false
   },
   "outputs": [
    {
     "name": "stdout",
     "output_type": "stream",
     "text": [
      "proteins done: 100 2017-03-17 10:51:55\n",
      "proteins done: 200 2017-03-17 10:52:06\n",
      "proteins done: 300 2017-03-17 10:52:19\n",
      "defaultdict(<function <lambda> at 0x7f740694d6a8>, {0: Counter({'gluc': 794, 'chromotrypsin': 110, 'trypsin': 10}), 1: Counter({'gluc': 293, 'chromotrypsin': 127, 'trypsin': 4}), 2: Counter({'gluc': 82, 'chromotrypsin': 33, 'trypsin': 4}), 3: Counter({'gluc': 23, 'chromotrypsin': 5, 'trypsin': 1}), 4: Counter({'gluc': 5})}) defaultdict(<function <lambda> at 0x7f740f968ea0>, {0: Counter({'chromotrypsin': 56303, 'gluc': 51740, 'trypsin': 40485}), 1: Counter({'gluc': 24252, 'trypsin': 22833, 'chromotrypsin': 21569}), 2: Counter({'trypsin': 9015, 'gluc': 7301, 'chromotrypsin': 6683}), 3: Counter({'trypsin': 3530, 'gluc': 3130, 'chromotrypsin': 2274}), 4: Counter({'trypsin': 879, 'gluc': 651, 'chromotrypsin': 340})}) defaultdict(<function <lambda> at 0x7f743c72b1e0>, {0: Counter({'trypsin': 9499, 'gluc': 149, 'chromotrypsin': 100}), 1: Counter({'trypsin': 919, 'gluc': 79, 'chromotrypsin': 46}), 2: Counter({'trypsin': 122, 'gluc': 8, 'chromotrypsin': 2}), 3: Counter({'trypsin': 31, 'gluc': 8, 'chromotrypsin': 3}), 4: Counter({'trypsin': 7, 'gluc': 2, 'chromotrypsin': 0})}) defaultdict(<function <lambda> at 0x7f740b285c80>, {0: Counter({'gluc': 4192, 'chromotrypsin': 3570, 'trypsin': 1176}), 1: Counter({'chromotrypsin': 1369, 'gluc': 1333, 'trypsin': 790}), 2: Counter({'trypsin': 558, 'gluc': 269, 'chromotrypsin': 222}), 3: Counter({'trypsin': 217, 'gluc': 84, 'chromotrypsin': 54}), 4: Counter({'trypsin': 71, 'gluc': 25, 'chromotrypsin': 2})}) defaultdict(<function <lambda> at 0x7f740fbb1f28>, {0: Counter({'trypsin': 3493, 'chromotrypsin': 1301, 'gluc': 490}), 1: Counter({'trypsin': 292, 'gluc': 187, 'chromotrypsin': 93}), 2: Counter({'gluc': 35, 'trypsin': 15, 'chromotrypsin': 2}), 3: Counter({'trypsin': 3, 'chromotrypsin': 1, 'gluc': 0}), 4: Counter({'chromotrypsin': 1, 'trypsin': 0, 'gluc': 0})})\n",
      "381\n"
     ]
    }
   ],
   "source": [
    "complete_nls = collections.defaultdict(lambda: collections.Counter())\n",
    "not_complete_nls = collections.defaultdict(lambda: collections.Counter())\n",
    "nls_k_covered = collections.defaultdict(lambda: collections.Counter())\n",
    "nls_k_missed = collections.defaultdict(lambda: collections.Counter())\n",
    "k_covered = collections.defaultdict(lambda: collections.Counter())\n",
    "k_missed = collections.defaultdict(lambda: collections.Counter())\n",
    "\n",
    "\n",
    "n = 0\n",
    "\n",
    "for x in nls_blocks:\n",
    "    n += 1\n",
    "    if n % 100 == 0:\n",
    "        print('proteins done: %i %s' % (\n",
    "                n, strftime(\"%Y-%m-%d %H:%M:%S\", gmtime())))\n",
    "    #if n > 10:\n",
    "    #    break\n",
    "    #print(\"-----\")\n",
    "    #print(x, nls_blocks[x])\n",
    "    seq, method = sequence.getSequence(x)\n",
    "    k_protein_positions = set([ix + 1 for ix, base in enumerate(seq) if base == \"K\"])\n",
    "    k_protein_positions_covered = set()\n",
    "    \n",
    "    for protease in ['trypsin', 'gluc', 'chromotrypsin']:\n",
    "        for missed in range(0,5):\n",
    "            peptides = sequence.iteratePeptides(seq, method=protease, missed_cleavages=missed)\n",
    "\n",
    "            for peptide in peptides:\n",
    "                peptide, start, end, missed = peptide\n",
    "\n",
    "                k_peptide_positions = set(\n",
    "                    [start + ix + 1 for ix, base in enumerate(peptide) if base == \"K\"])\n",
    "                k_protein_positions_covered.update(\n",
    "                    k_protein_positions.intersection(k_peptide_positions))\n",
    "\n",
    "            k_covered[missed][protease] += len(k_protein_positions_covered)\n",
    "            k_missed[missed][protease] += len(k_protein_positions.difference(k_protein_positions_covered))\n",
    "\n",
    "            \n",
    "            for block in nls_blocks[x]:\n",
    "                peptides = sequence.iteratePeptides(seq, method=protease, missed_cleavages=missed)\n",
    "                block_start = block[0] - 1\n",
    "                block_end = block[1]\n",
    "                k_nls_positions = set(\n",
    "                    [block_start + ix + 1 for ix, base in\n",
    "                     enumerate(seq[block_start:block_end]) if base == \"K\"])\n",
    "\n",
    "                #if x == 'Q14118':\n",
    "                #    print(block)\n",
    "                #    print(seq[block_start:block_end])\n",
    "                #    print(k_nls_positions)\n",
    "                k_positions_covered = set()\n",
    "                complete = False\n",
    "                for peptide in peptides:\n",
    "                    peptide, start, end, missed = peptide\n",
    "\n",
    "                    if end < block_start:\n",
    "                        continue\n",
    "\n",
    "                    if start > block_end:\n",
    "                        break\n",
    "\n",
    "                    complete = False\n",
    "                    if start < block_start and end > block_end:\n",
    "                        complete = True\n",
    "                        k_positions_covered = k_nls_positions\n",
    "                        break\n",
    "\n",
    "                    #if x == 'Q14118':\n",
    "                    #    print(peptide, start, end, missed)\n",
    "\n",
    "                    k_peptide_positions = set(\n",
    "                        [start + ix + 1 for ix, base in enumerate(peptide) if base == \"K\"])\n",
    "                    k_positions_covered.update(k_nls_positions.intersection(k_peptide_positions))\n",
    "                    if len(k_nls_positions.difference(k_positions_covered)) == 0:\n",
    "                        break\n",
    "                #if x == 'Q14118':\n",
    "                #    print(k_nls_positions, k_positions_covered)\n",
    "                \n",
    "                if complete:\n",
    "                    complete_nls[missed][protease] += 1\n",
    "                else:\n",
    "                    not_complete_nls[missed][protease] += 1\n",
    "                nls_k_covered[missed][protease] += len(k_positions_covered)\n",
    "                nls_k_missed[missed][protease] += len(k_nls_positions.difference(k_positions_covered))\n",
    "    \n",
    "print(complete_nls, k_covered, k_missed, nls_k_covered, nls_k_missed)\n",
    "print(n)"
   ]
  },
  {
   "cell_type": "code",
   "execution_count": 150,
   "metadata": {
    "collapsed": false
   },
   "outputs": [
    {
     "name": "stdout",
     "output_type": "stream",
     "text": [
      "defaultdict(<function <lambda> at 0x7f740694d6a8>, {0: Counter({'gluc': 794, 'chromotrypsin': 110, 'trypsin': 10}), 1: Counter({'gluc': 293, 'chromotrypsin': 127, 'trypsin': 4}), 2: Counter({'gluc': 82, 'chromotrypsin': 33, 'trypsin': 4}), 3: Counter({'gluc': 23, 'chromotrypsin': 5, 'trypsin': 1}), 4: Counter({'gluc': 5})})\n",
      "defaultdict(<function <lambda> at 0x7f740f968ea0>, {0: Counter({'chromotrypsin': 56303, 'gluc': 51740, 'trypsin': 40485}), 1: Counter({'gluc': 24252, 'trypsin': 22833, 'chromotrypsin': 21569}), 2: Counter({'trypsin': 9015, 'gluc': 7301, 'chromotrypsin': 6683}), 3: Counter({'trypsin': 3530, 'gluc': 3130, 'chromotrypsin': 2274}), 4: Counter({'trypsin': 879, 'gluc': 651, 'chromotrypsin': 340})})\n",
      "defaultdict(<function <lambda> at 0x7f743c72b1e0>, {0: Counter({'trypsin': 9499, 'gluc': 149, 'chromotrypsin': 100}), 1: Counter({'trypsin': 919, 'gluc': 79, 'chromotrypsin': 46}), 2: Counter({'trypsin': 122, 'gluc': 8, 'chromotrypsin': 2}), 3: Counter({'trypsin': 31, 'gluc': 8, 'chromotrypsin': 3}), 4: Counter({'trypsin': 7, 'gluc': 2, 'chromotrypsin': 0})})\n",
      "defaultdict(<function <lambda> at 0x7f740b285c80>, {0: Counter({'gluc': 4192, 'chromotrypsin': 3570, 'trypsin': 1176}), 1: Counter({'chromotrypsin': 1369, 'gluc': 1333, 'trypsin': 790}), 2: Counter({'trypsin': 558, 'gluc': 269, 'chromotrypsin': 222}), 3: Counter({'trypsin': 217, 'gluc': 84, 'chromotrypsin': 54}), 4: Counter({'trypsin': 71, 'gluc': 25, 'chromotrypsin': 2})})\n",
      "defaultdict(<function <lambda> at 0x7f740fbb1f28>, {0: Counter({'trypsin': 3493, 'chromotrypsin': 1301, 'gluc': 490}), 1: Counter({'trypsin': 292, 'gluc': 187, 'chromotrypsin': 93}), 2: Counter({'gluc': 35, 'trypsin': 15, 'chromotrypsin': 2}), 3: Counter({'trypsin': 3, 'chromotrypsin': 1, 'gluc': 0}), 4: Counter({'chromotrypsin': 1, 'trypsin': 0, 'gluc': 0})})\n",
      "381\n"
     ]
    }
   ],
   "source": [
    "print(complete_nls)\n",
    "print(k_covered)\n",
    "print(k_missed)\n",
    "print(nls_k_covered)\n",
    "print(nls_k_missed)\n",
    "print(n)"
   ]
  },
  {
   "cell_type": "code",
   "execution_count": 154,
   "metadata": {
    "collapsed": false
   },
   "outputs": [
    {
     "name": "stdout",
     "output_type": "stream",
     "text": [
      "[0, 0, 0, 1, 1, 1, 2, 2, 2, 3, 3, 3, 4, 4, 4] chromotrypsin [10, 794, 110, 4, 293, 127, 4, 82, 33, 1, 23, 5, 0, 5, 0] [40485, 51740, 56303, 22833, 24252, 21569, 9015, 7301, 6683, 3530, 3130, 2274, 879, 651, 340] [9499, 149, 100, 919, 79, 46, 122, 8, 2, 31, 8, 3, 7, 2, 0]\n"
     ]
    }
   ],
   "source": [
    "missed_cleavages = []\n",
    "proteases = []\n",
    "complete = []\n",
    "not_complete = []\n",
    "covered = []\n",
    "not_covered = []\n",
    "nls_covered = []\n",
    "nls_not_covered = []\n",
    "for missed in complete_nls:\n",
    "    for protease in complete_nls[misssed]:\n",
    "        missed_cleavages.append(missed)\n",
    "        proteases.append(protease)\n",
    "        complete.append(complete_nls[missed][protease])\n",
    "        not_complete.append(not_complete_nls[missed][protease])\n",
    "        covered.append(k_covered[missed][protease])\n",
    "        not_covered.append(k_missed[missed][protease])\n",
    "        nls_covered.append(nls_k_covered[missed][protease])\n",
    "        nls_not_covered.append(nls_k_missed[missed][protease])\n",
    "\n",
    "\n",
    "print(missed_cleavages, protease, complete, covered, not_covered)"
   ]
  },
  {
   "cell_type": "code",
   "execution_count": 157,
   "metadata": {
    "collapsed": false
   },
   "outputs": [
    {
     "name": "stdout",
     "output_type": "stream",
     "text": [
      "    complete  covered  missed  nls_covered  nls_not_covered  not_complete  \\\n",
      "0         10    40485       0         1176             3493          1500   \n",
      "1        794    51740       0         4192              490           802   \n",
      "2        110    56303       0         3570             1301          1498   \n",
      "3          4    22833       1          790              292           439   \n",
      "4        293    24252       1         1333              187           212   \n",
      "5        127    21569       1         1369               93           389   \n",
      "6          4     9015       2          558               15           191   \n",
      "7         82     7301       2          269               35            25   \n",
      "8         33     6683       2          222                2            62   \n",
      "9          1     3530       3          217                3            76   \n",
      "10        23     3130       3           84                0             7   \n",
      "11         5     2274       3           54                1            19   \n",
      "12         0      879       4           71                0            20   \n",
      "13         5      651       4           25                0             2   \n",
      "14         0      340       4            2                1             2   \n",
      "\n",
      "    not_covered      proteases  fraction_covered  fraction_complete  \\\n",
      "0          9499        trypsin          0.809959           0.006623   \n",
      "1           149           gluc          0.997128           0.497494   \n",
      "2           100  chromotrypsin          0.998227           0.068408   \n",
      "3           919        trypsin          0.961309           0.009029   \n",
      "4            79           gluc          0.996753           0.580198   \n",
      "5            46  chromotrypsin          0.997872           0.246124   \n",
      "6           122        trypsin          0.986648           0.020513   \n",
      "7             8           gluc          0.998905           0.766355   \n",
      "8             2  chromotrypsin          0.999701           0.347368   \n",
      "9            31        trypsin          0.991295           0.012987   \n",
      "10            8           gluc          0.997451           0.766667   \n",
      "11            3  chromotrypsin          0.998682           0.208333   \n",
      "12            7        trypsin          0.992099           0.000000   \n",
      "13            2           gluc          0.996937           0.714286   \n",
      "14            0  chromotrypsin          1.000000           0.000000   \n",
      "\n",
      "    fraction_nls_covered  \n",
      "0               0.251874  \n",
      "1               0.895344  \n",
      "2               0.732909  \n",
      "3               0.730129  \n",
      "4               0.876974  \n",
      "5               0.936389  \n",
      "6               0.973822  \n",
      "7               0.884868  \n",
      "8               0.991071  \n",
      "9               0.986364  \n",
      "10              1.000000  \n",
      "11              0.981818  \n",
      "12              1.000000  \n",
      "13              1.000000  \n",
      "14              0.666667  \n"
     ]
    }
   ],
   "source": [
    "df = pd.DataFrame({'missed': missed_cleavages, 'proteases': proteases,\n",
    "                   'complete': complete, 'not_complete': not_complete,\n",
    "                   'nls_covered': nls_covered, 'nls_not_covered': nls_not_covered,\n",
    "                   'covered': covered, 'not_covered': not_covered})\n",
    "\n",
    "df['fraction_covered'] = 1.0 * df['covered'] / (df['covered'] + df['not_covered'])\n",
    "df['fraction_complete'] = 1.0 * df['complete'] / (df['complete'] + df['not_complete'])\n",
    "df['fraction_nls_covered'] = 1.0 * df['nls_covered'] / (df['nls_covered'] + df['nls_not_covered'])\n",
    "\n",
    "\n",
    "print(df)"
   ]
  },
  {
   "cell_type": "code",
   "execution_count": 160,
   "metadata": {
    "collapsed": false
   },
   "outputs": [
    {
     "data": {
      "text/plain": [
       "   complete covered missed nls_covered nls_not_covered not_complete not_covered\n",
       "0        10   40485      0        1176            3493         1500        9499\n",
       "1       794   51740      0        4192             490          802         149\n",
       "2       110   56303      0        3570            1301         1498         100\n",
       "3         4   22833      1         790             292          439         919\n",
       "4       293   24252      1        1333             187          212          79\n",
       "5       127   21569      1        1369              93          389          46\n",
       "6         4    9015      2         558              15          191         122\n",
       "7        82    7301      2         269              35           25           8\n",
       "8        33    6683      2         222               2           62           2\n",
       "9         1    3530      3         217               3           76          31\n",
       "10       23    3130      3          84               0            7           8\n",
       "11        5    2274      3          54               1           19           3\n",
       "12        0     879      4          71               0           20           7\n",
       "13        5     651      4          25               0            2           2\n",
       "14        0     340      4           2               1            2           0\n",
       "       proteases fraction_covered fraction_complete fraction_nls_covered\n",
       "0        trypsin        0.8099592       0.006622517            0.2518741\n",
       "1           gluc        0.9971285       0.497493734            0.8953439\n",
       "2  chromotrypsin        0.9982270       0.068407960            0.7329091\n",
       "3        trypsin        0.9613085       0.009029345            0.7301294\n",
       "4           gluc        0.9967531       0.580198020            0.8769737\n",
       "5  chromotrypsin        0.9978718       0.246124031            0.9363885\n",
       "6        trypsin        0.9866477       0.020512821            0.9738220\n",
       "7           gluc        0.9989055       0.766355140            0.8848684\n",
       "8  chromotrypsin        0.9997008       0.347368421            0.9910714\n",
       "9        trypsin        0.9912946       0.012987013            0.9863636\n",
       "10          gluc        0.9974506       0.766666667            1.0000000\n",
       "11 chromotrypsin        0.9986825       0.208333333            0.9818182\n",
       "12       trypsin        0.9920993       0.000000000            1.0000000\n",
       "13          gluc        0.9969372       0.714285714            1.0000000\n",
       "14 chromotrypsin        1.0000000       0.000000000            0.6666667\n",
       "   complete covered missed not_complete not_covered nls_not_covered nls_covered\n",
       "1        10   40485      0         1500        9499            3493        1176\n",
       "2       794   51740      0          802         149             490        4192\n",
       "3       110   56303      0         1498         100            1301        3570\n",
       "4         4   22833      1          439         919             292         790\n",
       "5       293   24252      1          212          79             187        1333\n",
       "6       127   21569      1          389          46              93        1369\n",
       "7         4    9015      2          191         122              15         558\n",
       "8        82    7301      2           25           8              35         269\n",
       "9        33    6683      2           62           2               2         222\n",
       "10        1    3530      3           76          31               3         217\n",
       "11       23    3130      3            7           8               0          84\n",
       "12        5    2274      3           19           3               1          54\n",
       "13        0     879      4           20           7               0          71\n",
       "14        5     651      4            2           2               0          25\n",
       "15        0     340      4            2           0               1           2\n",
       "16       10   40485      0         1500        9499            3493        1176\n",
       "17      794   51740      0          802         149             490        4192\n",
       "18      110   56303      0         1498         100            1301        3570\n",
       "19        4   22833      1          439         919             292         790\n",
       "20      293   24252      1          212          79             187        1333\n",
       "21      127   21569      1          389          46              93        1369\n",
       "22        4    9015      2          191         122              15         558\n",
       "23       82    7301      2           25           8              35         269\n",
       "24       33    6683      2           62           2               2         222\n",
       "25        1    3530      3           76          31               3         217\n",
       "26       23    3130      3            7           8               0          84\n",
       "27        5    2274      3           19           3               1          54\n",
       "28        0     879      4           20           7               0          71\n",
       "29        5     651      4            2           2               0          25\n",
       "30        0     340      4            2           0               1           2\n",
       "31       10   40485      0         1500        9499            3493        1176\n",
       "32      794   51740      0          802         149             490        4192\n",
       "33      110   56303      0         1498         100            1301        3570\n",
       "34        4   22833      1          439         919             292         790\n",
       "35      293   24252      1          212          79             187        1333\n",
       "36      127   21569      1          389          46              93        1369\n",
       "37        4    9015      2          191         122              15         558\n",
       "38       82    7301      2           25           8              35         269\n",
       "39       33    6683      2           62           2               2         222\n",
       "40        1    3530      3           76          31               3         217\n",
       "41       23    3130      3            7           8               0          84\n",
       "42        5    2274      3           19           3               1          54\n",
       "43        0     879      4           20           7               0          71\n",
       "44        5     651      4            2           2               0          25\n",
       "45        0     340      4            2           0               1           2\n",
       "       proteases             variable       value\n",
       "1        trypsin     fraction_covered 0.809959187\n",
       "2           gluc     fraction_covered 0.997128486\n",
       "3  chromotrypsin     fraction_covered 0.998227045\n",
       "4        trypsin     fraction_covered 0.961308521\n",
       "5           gluc     fraction_covered 0.996753113\n",
       "6  chromotrypsin     fraction_covered 0.997871848\n",
       "7        trypsin     fraction_covered 0.986647696\n",
       "8           gluc     fraction_covered 0.998905459\n",
       "9  chromotrypsin     fraction_covered 0.999700823\n",
       "10       trypsin     fraction_covered 0.991294580\n",
       "11          gluc     fraction_covered 0.997450605\n",
       "12 chromotrypsin     fraction_covered 0.998682477\n",
       "13       trypsin     fraction_covered 0.992099323\n",
       "14          gluc     fraction_covered 0.996937213\n",
       "15 chromotrypsin     fraction_covered 1.000000000\n",
       "16       trypsin    fraction_complete 0.006622517\n",
       "17          gluc    fraction_complete 0.497493734\n",
       "18 chromotrypsin    fraction_complete 0.068407960\n",
       "19       trypsin    fraction_complete 0.009029345\n",
       "20          gluc    fraction_complete 0.580198020\n",
       "21 chromotrypsin    fraction_complete 0.246124031\n",
       "22       trypsin    fraction_complete 0.020512821\n",
       "23          gluc    fraction_complete 0.766355140\n",
       "24 chromotrypsin    fraction_complete 0.347368421\n",
       "25       trypsin    fraction_complete 0.012987013\n",
       "26          gluc    fraction_complete 0.766666667\n",
       "27 chromotrypsin    fraction_complete 0.208333333\n",
       "28       trypsin    fraction_complete 0.000000000\n",
       "29          gluc    fraction_complete 0.714285714\n",
       "30 chromotrypsin    fraction_complete 0.000000000\n",
       "31       trypsin fraction_nls_covered 0.251874063\n",
       "32          gluc fraction_nls_covered 0.895343870\n",
       "33 chromotrypsin fraction_nls_covered 0.732909054\n",
       "34       trypsin fraction_nls_covered 0.730129390\n",
       "35          gluc fraction_nls_covered 0.876973684\n",
       "36 chromotrypsin fraction_nls_covered 0.936388509\n",
       "37       trypsin fraction_nls_covered 0.973821990\n",
       "38          gluc fraction_nls_covered 0.884868421\n",
       "39 chromotrypsin fraction_nls_covered 0.991071429\n",
       "40       trypsin fraction_nls_covered 0.986363636\n",
       "41          gluc fraction_nls_covered 1.000000000\n",
       "42 chromotrypsin fraction_nls_covered 0.981818182\n",
       "43       trypsin fraction_nls_covered 1.000000000\n",
       "44          gluc fraction_nls_covered 1.000000000\n",
       "45 chromotrypsin fraction_nls_covered 0.666666667\n"
      ]
     },
     "metadata": {},
     "output_type": "display_data"
    },
    {
     "data": {
      "image/png": "[encoded data removed]"
     },
     "metadata": {},
     "output_type": "display_data"
    },
    {
     "data": {
      "image/png": "[encoded data removed]"
     },
     "metadata": {},
     "output_type": "display_data"
    },
    {
     "data": {
      "image/png": "[encoded data removed]"
     },
     "metadata": {},
     "output_type": "display_data"
    }
   ],
   "source": [
    "%%R -i df -w 500 -h 500\n",
    "library(ggplot2)\n",
    "library(reshape2)\n",
    "\n",
    "print(df)\n",
    "\n",
    "df_melt = melt(df, id=c(\"complete\", \"covered\", \"missed\",\n",
    "                        \"not_complete\", \"not_covered\",\n",
    "                        \"nls_not_covered\", \"nls_covered\",\n",
    "                        \"proteases\"))\n",
    "\n",
    "print(df_melt)\n",
    "\n",
    "p = ggplot(df_melt, aes(missed, value, colour=proteases)) +\n",
    "geom_line() +\n",
    "ylim(0,1) +\n",
    "facet_wrap(~variable) +\n",
    "theme_bw() +\n",
    "theme(aspect.ratio=1)\n",
    "\n",
    "print(p)\n",
    "\n",
    "p = ggplot(df, aes(missed, fraction_covered, colour=proteases)) +\n",
    "geom_line() +\n",
    "ylim(0,1) +\n",
    "theme_bw()\n",
    "\n",
    "print(p)\n",
    "\n",
    "p = ggplot(df, aes(missed, fraction_complete, colour=proteases)) +\n",
    "geom_line() +\n",
    "ylim(0,1) +\n",
    "theme_bw()\n",
    "\n",
    "print(p)"
   ]
  }
 ],
 "metadata": {
  "anaconda-cloud": {},
  "kernelspec": {
   "display_name": "Python [conda root]",
   "language": "python",
   "name": "conda-root-py"
  },
  "language_info": {
   "codemirror_mode": {
    "name": "ipython",
    "version": 3
   },
   "file_extension": ".py",
   "mimetype": "text/x-python",
   "name": "python",
   "nbconvert_exporter": "python",
   "pygments_lexer": "ipython3",
   "version": "3.5.2"
  }
 },
 "nbformat": 4,
 "nbformat_minor": 1
}
