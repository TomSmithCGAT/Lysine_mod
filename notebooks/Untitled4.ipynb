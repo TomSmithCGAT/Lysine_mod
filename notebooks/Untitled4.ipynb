{
 "cells": [
  {
   "cell_type": "code",
   "execution_count": 1,
   "metadata": {
    "collapsed": false
   },
   "outputs": [],
   "source": [
    "import proteomics.protinfo as protinfo"
   ]
  },
  {
   "cell_type": "code",
   "execution_count": 77,
   "metadata": {
    "collapsed": false
   },
   "outputs": [
    {
     "data": {
      "text/plain": [
       "<module 'proteomics.protinfo' from '/home/FILESERVER5/proteomics/tss38/git_repos/CamProt/proteomics/protinfo.py'>"
      ]
     },
     "execution_count": 77,
     "metadata": {},
     "output_type": "execute_result"
    }
   ],
   "source": [
    "import importlib\n",
    "import urllib3\n",
    "import json\n",
    "import collections\n",
    "importlib.reload(protinfo)"
   ]
  },
  {
   "cell_type": "code",
   "execution_count": 78,
   "metadata": {
    "collapsed": false
   },
   "outputs": [
    {
     "name": "stdout",
     "output_type": "stream",
     "text": [
      "http://www.ebi.ac.uk/proteins/api/features?offset=0&size=-1&reviewed=true&taxid=10090&types=MOD_RES\n"
     ]
    },
    {
     "data": {
      "text/plain": [
       "'https://www.ebi.ac.uk/proteins/api/proteins?offset=0&size=-1&reviewed=true&taxid=10090'"
      ]
     },
     "execution_count": 78,
     "metadata": {},
     "output_type": "execute_result"
    }
   ],
   "source": [
    "#genes = protinfo.getNames(size=200)\n",
    "genes = protinfo.getNames(size=-1)\n",
    "#genes = protinfo.getNames(size=1000)\n",
    "'https://www.ebi.ac.uk/proteins/api/proteins?offset=0&size=-1&reviewed=true&taxid=10090'"
   ]
  },
  {
   "cell_type": "code",
   "execution_count": 102,
   "metadata": {
    "collapsed": false
   },
   "outputs": [
    {
     "name": "stdout",
     "output_type": "stream",
     "text": [
      "29780\n"
     ]
    }
   ],
   "source": [
    "accession = set()\n",
    "for offset in range(0, 100000, 100):\n",
    "    requestURL = (\"https://www.ebi.ac.uk/proteins/api/proteins?offset=%s&size=100&reviewed=true&taxid=10090\" %\n",
    "                  offset)\n",
    "    #print(requestURL)\n",
    "    r = requests.get(requestURL, headers={ \"Accept\" : \"application/json\"})\n",
    "\n",
    "    if not r.ok:\n",
    "      r.raise_for_status()\n",
    "      sys.exit()\n",
    "\n",
    "    responseBody = r.text\n",
    "    entries = json.loads(responseBody)\n",
    "\n",
    "    accession.update([x['accession'] for x in entries])\n",
    "print(len(accession))"
   ]
  },
  {
   "cell_type": "code",
   "execution_count": 92,
   "metadata": {
    "collapsed": false
   },
   "outputs": [
    {
     "name": "stdout",
     "output_type": "stream",
     "text": [
      "['W8DXL4', 'V9GXG1', 'T1NXB5', 'S4R2P9-2', 'S4R2P9-1', 'S4R2P9', 'S4R1M9', 'Q9Z351-9', 'Q9Z351-8', 'Q9Z351-7', 'Q9Z351-6', 'Q9Z351-5', 'Q9Z351-4', 'Q9Z351-3', 'Q9Z351-2', 'Q9Z351-13', 'Q9Z351-12', 'Q9Z351-11', 'Q9Z351-10', 'Q9Z351-1', 'Q9Z351', 'Q9Z331', 'Q9Z329-3', 'Q9Z329-2', 'Q9Z329-1', 'Q9Z329', 'Q9Z324', 'Q9Z321', 'Q9Z320', 'Q9Z319-2', 'Q9Z319-1', 'Q9Z319', 'Q9Z315', 'Q9Z309', 'Q9Z307', 'Q9Z306', 'Q9Z304', 'Q9Z2Z9', 'Q9Z2Z6', 'Q9Z2Y8', 'Q9Z2Y3-5', 'Q9Z2Y3-4', 'Q9Z2Y3-3', 'Q9Z2Y3-2', 'Q9Z2Y3-1', 'Q9Z2Y3', 'Q9Z2Y2', 'Q9Z2X8', 'Q9Z2X2', 'Q9Z2X1-2', 'Q9Z2X1-1', 'Q9Z2X1', 'Q9Z2W9-1', 'Q9Z2W9', 'Q9Z2W8', 'Q9Z2W1', 'Q9Z2W0', 'Q9Z2V9', 'Q9Z2V6', 'Q9Z2V5', 'Q9Z2V4', 'Q9Z2U4', 'Q9Z2U2-2', 'Q9Z2U2-1', 'Q9Z2U2', 'Q9Z2U1', 'Q9Z2U0', 'Q9Z2T6', 'Q9Z2T1', 'Q9Z2S7-4', 'Q9Z2S7-3', 'Q9Z2S7-2', 'Q9Z2S7-1', 'Q9Z2S7', 'Q9Z2R9', 'Q9Z2R6', 'Q9Z2Q6', 'Q9Z2Q5', 'Q9Z2Q2-3', 'Q9Z2Q2-2', 'Q9Z2Q2-1', 'Q9Z2Q2', 'Q9Z2P8', 'Q9Z2N8', 'Q9Z2M7', 'Q9Z2M6', 'Q9Z2L7-2', 'Q9Z2L7-1', 'Q9Z2L7', 'Q9Z2L6', 'Q9Z2K1', 'Q9Z2J6', 'Q9Z2J0', 'Q9Z2I9', 'Q9Z2I8-2', 'Q9Z2I8-1', 'Q9Z2I8', 'Q9Z2I4-2', 'Q9Z2I4-1', 'Q9Z2I4']\n"
     ]
    }
   ],
   "source": [
    "print([x['accession'] for x in entries])"
   ]
  },
  {
   "cell_type": "code",
   "execution_count": 79,
   "metadata": {
    "collapsed": false
   },
   "outputs": [
    {
     "name": "stdout",
     "output_type": "stream",
     "text": [
      "100\n",
      "12\n",
      "dict_keys(['accession', 'keywords', 'dbReferences', 'sequence', 'protein', 'features', 'info', 'proteinExistence', 'gene', 'references', 'organism', 'id'])\n",
      "Z4YNB2\n",
      "['Z4YNB2', 'Z4YNA9', 'Z4YNA3', 'Z4YN97', 'Z4YN92', 'Z4YN86', 'Z4YN82', 'Z4YN77', 'Z4YN74', 'Z4YN68', 'Z4YN62', 'Z4YN57', 'Z4YN47', 'Z4YN41', 'Z4YN37', 'Z4YN31', 'Z4YN28', 'Z4YN22', 'Z4YN17', 'Z4YN11', 'Z4YN06', 'Z4YN00', 'Z4YMW4', 'Z4YMV4', 'Z4YMV2', 'Z4YMU7', 'Z4YMT7', 'Z4YMT0', 'Z4YMS1', 'Z4YMR3', 'Z4YMQ5', 'Z4YMP4', 'Z4YMN3', 'Z4YML9', 'Z4YMK8', 'Z4YMJ8', 'Z4YMI8', 'Z4YMI1', 'Z4YMH1', 'Z4YMG1', 'Z4YMF3', 'Z4YMD3', 'Z4YMC8', 'Z4YMB8', 'Z4YMA7', 'Z4YM95', 'Z4YM84', 'Z4YM60', 'Z4YM47', 'Z4YM25', 'Z4YM12', 'Z4YLZ9', 'Z4YLZ2', 'Z4YLY4', 'Z4YLX5', 'Z4YLW7', 'Z4YLV8', 'Z4YLV0', 'Z4YLU2', 'Z4YLT8', 'Z4YLT1', 'Z4YLS6', 'Z4YLR9', 'Z4YLR0', 'Z4YLQ1', 'Z4YLP6', 'Z4YLP1', 'Z4YLN8', 'Z4YLN2', 'Z4YLM5', 'Z4YLM0', 'Z4YLL5', 'Z4YLK8', 'Z4YLK3', 'Z4YLJ7', 'Z4YLI8', 'Z4YLI2', 'Z4YLG9', 'Z4YLG3', 'Z4YLF7', 'Z4YLE9', 'Z4YLD7', 'Z4YLD0', 'Z4YLB7', 'Z4YLB0', 'Z4YL92', 'Z4YL87', 'Z4YL84', 'Z4YL78', 'Z4YL72', 'Z4YL66', 'Z4YL55', 'Z4YL50', 'Z4YL44', 'Z4YL38', 'Z4YL33', 'Z4YL28', 'Z4YL23', 'Z4YKY0', 'Z4YKX0']\n",
      "{'accession': 'Z4YNB2', 'keywords': [{'value': 'Coiled coil', 'evidences': [{'source': {'name': 'SAM', 'url': 'http://www.uniprot.org/help/sam', 'id': 'Coils'}, 'code': 'ECO:0000256'}]}, {'value': 'Complete proteome', 'evidences': [{'source': {'name': 'Proteomes', 'url': 'http://www.uniprot.org/proteomes/UP000000589', 'id': 'UP000000589'}, 'code': 'ECO:0000313'}]}, {'value': 'Proteomics identification', 'evidences': [{'source': {'name': 'MaxQB', 'url': 'ftp://ftp.uniprot.org/pub/databases/uniprot/current_release/knowledgebase/proteomics_mapping/README', 'id': 'Z4YNB2'}, 'code': 'ECO:0000213'}, {'source': {'name': 'PeptideAtlas', 'url': 'ftp://ftp.uniprot.org/pub/databases/uniprot/current_release/knowledgebase/proteomics_mapping/README', 'id': 'Z4YNB2'}, 'code': 'ECO:0000213'}]}, {'value': 'Reference proteome', 'evidences': [{'source': {'name': 'Proteomes', 'url': 'http://www.uniprot.org/proteomes/UP000000589', 'id': 'UP000000589'}, 'code': 'ECO:0000313'}]}], 'dbReferences': [{'properties': {'status': 'NOT_ANNOTATED_CDS', 'molecule type': 'Genomic_DNA'}, 'type': 'EMBL', 'id': 'AL603651'}, {'properties': {'protein sequence ID': 'EDL18160.1', 'molecule type': 'Genomic_DNA'}, 'type': 'EMBL', 'id': 'CH466531'}, {'properties': {'nucleotide sequence ID': 'NM_001163664.1'}, 'type': 'RefSeq', 'id': 'NP_001157136.1'}, {'type': 'UniGene', 'id': 'Mm.389992'}, {'type': 'STRING', 'id': '10090.ENSMUSP00000101578'}, {'properties': {'protein sequence ID': 'ENSMUSP00000136278', 'gene ID': 'ENSMUSG00000061723'}, 'type': 'Ensembl', 'id': 'ENSMUST00000179658'}, {'type': 'GeneID', 'id': '21957'}, {'properties': {'organism name': 'mouse'}, 'type': 'UCSC', 'id': 'uc009knk.2'}, {'type': 'CTD', 'id': '7140'}, {'properties': {'gene designation': 'Tnnt3'}, 'type': 'MGI', 'id': 'MGI:109550'}, {'properties': {'taxonomic scope': 'Eukaryota'}, 'type': 'eggNOG', 'id': 'KOG3634'}, {'properties': {'taxonomic scope': 'LUCA'}, 'type': 'eggNOG', 'id': 'ENOG410XS6A'}, {'type': 'GeneTree', 'id': 'ENSGT00390000013611'}, {'type': 'OMA', 'id': 'HEVHEPE'}, {'properties': {'pathway name': 'Striated Muscle Contraction'}, 'type': 'Reactome', 'id': 'R-MMU-390522'}, {'properties': {'component': 'Chromosome 7'}, 'type': 'Proteomes', 'id': 'UP000000589'}, {'properties': {'source': 'IEA:Ensembl', 'term': 'C:troponin complex'}, 'type': 'GO', 'id': 'GO:0005861'}, {'properties': {'source': 'IEA:Ensembl', 'term': 'F:calcium-dependent ATPase activity'}, 'type': 'GO', 'id': 'GO:0030899'}, {'properties': {'source': 'IEA:Ensembl', 'term': 'P:regulation of ATPase activity'}, 'type': 'GO', 'id': 'GO:0043462'}, {'properties': {'source': 'IEA:Ensembl', 'term': 'P:regulation of striated muscle contraction'}, 'type': 'GO', 'id': 'GO:0006942'}, {'properties': {'source': 'IEA:Ensembl', 'term': 'P:skeletal muscle contraction'}, 'type': 'GO', 'id': 'GO:0003009'}, {'properties': {'entry name': 'TNNT'}, 'type': 'InterPro', 'id': 'IPR027707'}, {'properties': {'entry name': 'Tnnt3'}, 'type': 'InterPro', 'id': 'IPR027708'}, {'properties': {'entry name': 'Troponin'}, 'type': 'InterPro', 'id': 'IPR001978'}, {'properties': {'entry name': 'PTHR11521', 'match status': '1'}, 'type': 'PANTHER', 'id': 'PTHR11521'}, {'properties': {'entry name': 'PTHR11521:SF18', 'match status': '1'}, 'type': 'PANTHER', 'id': 'PTHR11521:SF18'}, {'properties': {'entry name': 'Troponin', 'match status': '1'}, 'type': 'Pfam', 'id': 'PF00992'}], 'sequence': {'version': 1, 'length': 272, 'modified': '2014-06-11', 'mass': 32300, 'sequence': 'MSDEETEQVEEQYEEEEEAQEEEVQEEAPEPEEVQEDAVAEEEREEDEEEEKPRPKLTAPKIPEGEKVDFDDIQKKRQNKDLMELQALIDSHFEARKKEEEELIALKERIEKRRAERAEQQRIRAEKERERQNRLAEEKARREEEDAKRRAEDDMKKKKALSSMGANYSSYLAKADQKRGKKQTAREMKKKILAERRKPLNIDHLSDDKLRDKAKELWDTLYQLETDKFEFGEKLKRQKYDITTLRSRIDQAQKHSKKAGATAKGKVGGRWK'}, 'protein': {'submittedName': [{'fullName': {'value': 'Troponin T, fast skeletal muscle', 'evidences': [{'source': {'name': 'Ensembl', 'url': 'http://www.ensembl.org/id/ENSMUSP00000136278', 'id': 'ENSMUSP00000136278'}, 'code': 'ECO:0000313'}]}}, {'fullName': {'value': 'Troponin T3, skeletal, fast, isoform CRA_c', 'evidences': [{'source': {'name': 'EMBL', 'url': 'http://www.ebi.ac.uk/ena/data/view/EDL18160.1', 'id': 'EDL18160.1'}, 'code': 'ECO:0000313'}]}}]}, 'features': [{'begin': '2', 'type': 'COILED', 'category': 'DOMAINS_AND_SITES', 'evidences': [{'source': {'name': 'SAM', 'url': 'http://www.uniprot.org/help/sam', 'id': 'Coils'}, 'code': 'ECO:0000256'}], 'end': '26'}, {'begin': '82', 'type': 'COILED', 'category': 'DOMAINS_AND_SITES', 'evidences': [{'source': {'name': 'SAM', 'url': 'http://www.uniprot.org/help/sam', 'id': 'Coils'}, 'code': 'ECO:0000256'}], 'end': '161'}], 'info': {'modified': '2017-02-15', 'version': 26, 'type': 'TrEMBL', 'created': '2014-06-11'}, 'proteinExistence': 'Evidence at protein level', 'gene': [{'name': {'value': 'Tnnt3', 'evidences': [{'source': {'name': 'EMBL', 'url': 'http://www.ebi.ac.uk/ena/data/view/EDL18160.1', 'id': 'EDL18160.1'}, 'code': 'ECO:0000313'}, {'source': {'name': 'Ensembl', 'url': 'http://www.ensembl.org/id/ENSMUSP00000136278', 'id': 'ENSMUSP00000136278'}, 'code': 'ECO:0000313'}, {'source': {'name': 'MGI', 'url': 'http://www.informatics.jax.org/marker/MGI:109550', 'id': 'MGI:109550'}, 'code': 'ECO:0000313'}]}, 'orfNames': [{'value': 'mCG_11068', 'evidences': [{'source': {'name': 'EMBL', 'url': 'http://www.ebi.ac.uk/ena/data/view/EDL18160.1', 'id': 'EDL18160.1'}, 'code': 'ECO:0000313'}]}]}], 'references': [{'source': {'strain': [{'value': 'Mixed', 'evidences': [{'source': {'name': 'EMBL', 'url': 'http://www.ebi.ac.uk/ena/data/view/EDL18160.1', 'id': 'EDL18160.1'}, 'code': 'ECO:0000313'}]}]}, 'evidences': [{'source': {'name': 'EMBL', 'url': 'http://www.ebi.ac.uk/ena/data/view/EDL18160.1', 'id': 'EDL18160.1'}, 'code': 'ECO:0000313'}], 'scope': ['NUCLEOTIDE SEQUENCE'], 'citation': {'location': {'lastPage': '1671', 'volume': '296', 'firstPage': '1661'}, 'authors': ['Mural R.J.', 'Adams M.D.', 'Myers E.W.', 'Smith H.O.', 'Miklos G.L.', 'Wides R.', 'Halpern A.', 'Li P.W.', 'Sutton G.G.', 'Nadeau J.', 'Salzberg S.L.', 'Holt R.A.', 'Kodira C.D.', 'Lu F.', 'Chen L.', 'Deng Z.', 'Evangelista C.C.', 'Gan W.', 'Heiman T.J.', 'Li J.', 'Li Z.', 'Merkulov G.V.', 'Milshina N.V.', 'Naik A.K.', 'Qi R.', 'Shue B.C.', 'Wang A.', 'Wang J.', 'Wang X.', 'Yan X.', 'Ye J.', 'Yooseph S.', 'Zhao Q.', 'Zheng L.', 'Zhu S.C.', 'Biddick K.', 'Bolanos R.', 'Delcher A.L.', 'Dew I.M.', 'Fasulo D.', 'Flanigan M.J.', 'Huson D.H.', 'Kravitz S.A.', 'Miller J.R.', 'Mobarry C.M.', 'Reinert K.', 'Remington K.A.', 'Zhang Q.', 'Zheng X.H.', 'Nusskern D.R.', 'Lai Z.', 'Lei Y.', 'Zhong W.', 'Yao A.', 'Guan P.', 'Ji R.R.', 'Gu Z.', 'Wang Z.Y.', 'Zhong F.', 'Xiao C.', 'Chiang C.C.', 'Yandell M.', 'Wortman J.R.', 'Amanatides P.G.', 'Hladun S.L.', 'Pratts E.C.', 'Johnson J.E.', 'Dodson K.L.', 'Woodford K.J.', 'Evans C.A.', 'Gropman B.', 'Rusch D.B.', 'Venter E.', 'Wang M.', 'Smith T.J.', 'Houck J.T.', 'Tompkins D.E.', 'Haynes C.', 'Jacob D.', 'Chin S.H.', 'Allen D.R.', 'Dahlke C.E.', 'Sanders R.', 'Li K.', 'Liu X.', 'Levitsky A.A.', 'Majoros W.H.', 'Chen Q.', 'Xia A.C.', 'Lopez J.R.', 'Donnelly M.T.', 'Newman M.H.', 'Glodek A.', 'Kraft C.L.', 'Nodell M.', 'Ali F.', 'An H.J.', 'Baldwin-Pitts D.', 'Beeson K.Y.', 'Cai S.', 'Carnes M.', 'Carver A.', 'Caulk P.M.', 'Center A.', 'Chen Y.H.', 'Cheng M.L.', 'Coyne M.D.', 'Crowder M.', 'Danaher S.', 'Davenport L.B.', 'Desilets R.', 'Dietz S.M.', 'Doup L.', 'Dullaghan P.', 'Ferriera S.', 'Fosler C.R.', 'Gire H.C.', 'Gluecksmann A.', 'Gocayne J.D.', 'Gray J.', 'Hart B.', 'Haynes J.', 'Hoover J.', 'Howland T.', 'Ibegwam C.', 'Jalali M.', 'Johns D.', 'Kline L.', 'Ma D.S.', 'MacCawley S.', 'Magoon A.', 'Mann F.', 'May D.', 'McIntosh T.C.', 'Mehta S.', 'Moy L.', 'Moy M.C.', 'Murphy B.J.', 'Murphy S.D.', 'Nelson K.A.', 'Nuri Z.', 'Parker K.A.', 'Prudhomme A.C.', 'Puri V.N.', 'Qureshi H.', 'Raley J.C.', 'Reardon M.S.', 'Regier M.A.', 'Rogers Y.H.', 'Romblad D.L.', 'Schutz J.', 'Scott J.L.', 'Scott R.', 'Sitter C.D.', 'Smallwood M.', 'Sprague A.C.', 'Stewart E.', 'Strong R.V.', 'Suh E.', 'Sylvester K.', 'Thomas R.', 'Tint N.N.', 'Tsonis C.', 'Wang G.', 'Wang G.', 'Williams M.S.', 'Williams S.M.', 'Windsor S.M.', 'Wolfe K.', 'Wu M.M.', 'Zaveri J.', 'Chaturvedi K.', 'Gabrielian A.E.', 'Ke Z.', 'Sun J.', 'Subramanian G.', 'Venter J.C.', 'Pfannkoch C.M.', 'Barnstead M.', 'Stephenson L.D.'], 'publication': {'journalName': 'Science'}, 'publicationDate': '2002', 'type': 'journal article', 'title': 'A comparison of whole-genome shotgun-derived mouse chromosome 16 and the human genome.', 'dbReferences': [{'type': 'PubMed', 'id': '12040188'}, {'type': 'DOI', 'id': '10.1126/science.1069193'}]}}, {'source': {'strain': [{'value': 'Mixed', 'evidences': [{'source': {'name': 'EMBL', 'url': 'http://www.ebi.ac.uk/ena/data/view/EDL18160.1', 'id': 'EDL18160.1'}, 'code': 'ECO:0000313'}]}]}, 'evidences': [{'source': {'name': 'EMBL', 'url': 'http://www.ebi.ac.uk/ena/data/view/EDL18160.1', 'id': 'EDL18160.1'}, 'code': 'ECO:0000313'}], 'scope': ['NUCLEOTIDE SEQUENCE'], 'citation': {'publication': {'submissionDatabase': 'EMBL/GenBank/DDBJ databases'}, 'publicationDate': 'JUL-2005', 'type': 'submission', 'authors': ['Mural R.J.', 'Adams M.D.', 'Myers E.W.', 'Smith H.O.', 'Venter J.C.']}}, {'source': {'strain': [{'value': 'C57BL/6J', 'evidences': [{'source': {'name': 'Ensembl', 'url': 'http://www.ensembl.org/id/ENSMUSP00000136278', 'id': 'ENSMUSP00000136278'}, 'code': 'ECO:0000313'}, {'source': {'name': 'Proteomes', 'url': 'http://www.uniprot.org/proteomes/UP000000589', 'id': 'UP000000589'}, 'code': 'ECO:0000313'}]}]}, 'evidences': [{'source': {'name': 'Ensembl', 'url': 'http://www.ensembl.org/id/ENSMUSP00000136278', 'id': 'ENSMUSP00000136278'}, 'code': 'ECO:0000313'}, {'source': {'name': 'Proteomes', 'url': 'http://www.uniprot.org/proteomes/UP000000589', 'id': 'UP000000589'}, 'code': 'ECO:0000313'}], 'scope': ['NUCLEOTIDE SEQUENCE [LARGE SCALE GENOMIC DNA]'], 'citation': {'location': {'lastPage': 'E1000112', 'volume': '7', 'firstPage': 'E1000112'}, 'authors': ['Church D.M.', 'Goodstadt L.', 'Hillier L.W.', 'Zody M.C.', 'Goldstein S.', 'She X.', 'Bult C.J.', 'Agarwala R.', 'Cherry J.L.', 'DiCuccio M.', 'Hlavina W.', 'Kapustin Y.', 'Meric P.', 'Maglott D.', 'Birtle Z.', 'Marques A.C.', 'Graves T.', 'Zhou S.', 'Teague B.', 'Potamousis K.', 'Churas C.', 'Place M.', 'Herschleb J.', 'Runnheim R.', 'Forrest D.', 'Amos-Landgraf J.', 'Schwartz D.C.', 'Cheng Z.', 'Lindblad-Toh K.', 'Eichler E.E.', 'Ponting C.P.'], 'publication': {'journalName': 'PLoS Biol.'}, 'publicationDate': '2009', 'type': 'journal article', 'title': 'Lineage-specific biology revealed by a finished genome assembly of the mouse.', 'dbReferences': [{'type': 'PubMed', 'id': '19468303'}, {'type': 'DOI', 'id': '10.1371/journal.pbio.1000112'}]}}, {'evidences': [{'source': {'alternativeUrl': 'http://europepmc.org/abstract/MED/21183079', 'name': 'PubMed', 'url': 'http://www.ncbi.nlm.nih.gov/pubmed/21183079', 'id': '21183079'}, 'code': 'ECO:0000213'}], 'scope': ['IDENTIFICATION BY MASS SPECTROMETRY [LARGE SCALE ANALYSIS]'], 'citation': {'location': {'lastPage': '1189', 'volume': '143', 'firstPage': '1174'}, 'authors': ['Huttlin E.L.', 'Jedrychowski M.P.', 'Elias J.E.', 'Goswami T.', 'Rad R.', 'Beausoleil S.A.', 'Villen J.', 'Haas W.', 'Sowa M.E.', 'Gygi S.P.'], 'publication': {'journalName': 'Cell'}, 'publicationDate': '2010', 'type': 'journal article', 'title': 'A tissue-specific atlas of mouse protein phosphorylation and expression.', 'dbReferences': [{'type': 'PubMed', 'id': '21183079'}, {'type': 'DOI', 'id': '10.1016/j.cell.2010.12.001'}]}}, {'source': {'strain': [{'value': 'C57BL/6J', 'evidences': [{'source': {'name': 'Ensembl', 'url': 'http://www.ensembl.org/id/ENSMUSP00000136278', 'id': 'ENSMUSP00000136278'}, 'code': 'ECO:0000313'}]}]}, 'evidences': [{'source': {'name': 'Ensembl', 'url': 'http://www.ensembl.org/id/ENSMUSP00000136278', 'id': 'ENSMUSP00000136278'}, 'code': 'ECO:0000313'}], 'scope': ['IDENTIFICATION'], 'citation': {'consortiums': ['Ensembl'], 'publicationDate': 'APR-2014', 'type': 'submission', 'publication': {'submissionDatabase': 'UniProtKB'}}}], 'organism': {'lineage': ['Eukaryota', 'Metazoa', 'Chordata', 'Craniata', 'Vertebrata', 'Euteleostomi', 'Mammalia', 'Eutheria', 'Euarchontoglires', 'Glires', 'Rodentia', 'Sciurognathi', 'Muroidea', 'Muridae', 'Murinae', 'Mus', 'Mus'], 'names': [{'value': 'Mus musculus', 'type': 'scientific'}, {'value': 'Mouse', 'type': 'common'}], 'taxonomy': 10090}, 'id': 'Z4YNB2_MOUSE'}\n"
     ]
    }
   ],
   "source": [
    "genes = json.loads(genes)\n",
    "print(len(genes))\n",
    "print(len(genes[0]))\n",
    "print(genes[0].keys())\n",
    "print(genes[0]['accession'])\n",
    "print([x['accession'] for x in genes])\n",
    "print(genes[0])"
   ]
  }
 ],
 "metadata": {
  "anaconda-cloud": {},
  "kernelspec": {
   "display_name": "Python [conda root]",
   "language": "python",
   "name": "conda-root-py"
  },
  "language_info": {
   "codemirror_mode": {
    "name": "ipython",
    "version": 3
   },
   "file_extension": ".py",
   "mimetype": "text/x-python",
   "name": "python",
   "nbconvert_exporter": "python",
   "pygments_lexer": "ipython3",
   "version": "3.5.2"
  }
 },
 "nbformat": 4,
 "nbformat_minor": 1
}
