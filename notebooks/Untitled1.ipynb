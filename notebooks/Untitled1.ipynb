{
 "cells": [
  {
   "cell_type": "code",
   "execution_count": 1,
   "metadata": {
    "collapsed": true
   },
   "outputs": [],
   "source": [
    "import pysam"
   ]
  },
  {
   "cell_type": "code",
   "execution_count": 3,
   "metadata": {
    "collapsed": false
   },
   "outputs": [
    {
     "name": "stdout",
     "output_type": "stream",
     "text": [
      "num reads in chr1 8674953\n",
      "num reads in everything? 103453668\n"
     ]
    }
   ],
   "source": [
    "samtool = pysam.Samfile(\"/home/FILESERVER5/proteomics/tss38/WT/MCF10A/Willis/mapping/hisat.dir/WT-R1-C1.hisat.bam\")\n",
    "print(\"num reads in chr1\", len(list(samtool.fetch(\"chr1\"))))\n",
    "tid = samtool.get_tid(\"chr1\")\n",
    "print(\"num reads in everything?\", len(list(samtool.fetch(tid=tid))))"
   ]
  }
 ],
 "metadata": {
  "kernelspec": {
   "display_name": "Python [conda root]",
   "language": "python",
   "name": "conda-root-py"
  },
  "language_info": {
   "codemirror_mode": {
    "name": "ipython",
    "version": 3
   },
   "file_extension": ".py",
   "mimetype": "text/x-python",
   "name": "python",
   "nbconvert_exporter": "python",
   "pygments_lexer": "ipython3",
   "version": "3.5.2"
  }
 },
 "nbformat": 4,
 "nbformat_minor": 1
}
