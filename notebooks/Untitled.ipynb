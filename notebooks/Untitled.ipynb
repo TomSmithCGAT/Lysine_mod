{
 "cells": [
  {
   "cell_type": "code",
   "execution_count": 268,
   "metadata": {
    "collapsed": false
   },
   "outputs": [],
   "source": [
    "import importlib\n",
    "\n",
    "import proteomics.d2p2 as d2p2\n",
    "import proteomics.sequence as sequence\n",
    "\n",
    "\n",
    "import collections\n",
    "\n",
    "import CGAT.IOTools as IOTools"
   ]
  },
  {
   "cell_type": "code",
   "execution_count": 406,
   "metadata": {
    "collapsed": false
   },
   "outputs": [
    {
     "data": {
      "text/plain": [
       "<module 'proteomics.sequence' from '/home/FILESERVER5/proteomics/tss38/git_repos/CamProt/proteomics/sequence.py'>"
      ]
     },
     "execution_count": 406,
     "metadata": {},
     "output_type": "execute_result"
    }
   ],
   "source": [
    "import importlib\n",
    "importlib.reload(d2p2)\n",
    "importlib.reload(sequence)"
   ]
  },
  {
   "cell_type": "code",
   "execution_count": 410,
   "metadata": {
    "collapsed": false
   },
   "outputs": [
    {
     "name": "stdout",
     "output_type": "stream",
     "text": [
      "here!\n",
      "MGCTLSAEDKAAVERSKMIDRNLREDGEKAAKEVKLLLLGAGESGKSTIVKQMKIIHEDGYSEDECKQYKVVVYSNTIQSIIAIIRAMGRLKIDFGESARADDARQLFVLAGSAEEGVMTSELAGVIKRLWRDGGVQACFSRSREYQLNDSASYYLNDLDRISQTNYIPTQQDVLRTRVKTTGIVETHFTFKELYFKMFDVGGQRSERKKWIHCFEGVTAIIFCVALSDYDLVLAEDEEMNRMHESMKLFDSICNNKWFTDTSIILFLNKKDLFEEKIKRSPLTICYPEYTGSNTYEEAAAYIQCQFEDLNRRKDTKEVYTHFTCATDTKNVQFVFDAVTDVIIKNNLKECGLY ebi_api\n"
     ]
    }
   ],
   "source": [
    "seq1, method1 = sequence.getSequence('Q9DC51')\n",
    "print(seq1, method1)"
   ]
  },
  {
   "cell_type": "code",
   "execution_count": 409,
   "metadata": {
    "collapsed": false
   },
   "outputs": [
    {
     "name": "stdout",
     "output_type": "stream",
     "text": [
      "MGCTLSAEDKAAVERSKMIDRNLREDGEKAAKEVKLLLLGAGESGKSTIVKQMKIIHEDGYSEDECKQYKVVVYSNTIQSIIAIIRAMGRLKIDFGESARADDARQLFVLAGSAEEGVMTSELAGVIKRLWRDGGVQACFSRSREYQLNDSASYYLNDLDRISQTNYIPTQQDVLRTRVKTTGIVETHFTFKELYFKMFDVGGQRSERKKWIHCFEGVTAIIFCVALSDYDLVLAEDEEMNRMHESMKLFDSICNNKWFTDTSIILFLNKKDLFEEKIKRSPLTICYPEYTGSNTYEEAAAYIQCQFEDLNRRKDTKEVYTHFTCATDTKNVQFVFDAVTDVIIKNNLKECGLY uniprot_flat\n"
     ]
    }
   ],
   "source": [
    "seq2, method2 = sequence.getSequence('Q9DC51', api_first=False)\n",
    "print(seq2, method2)"
   ]
  },
  {
   "cell_type": "code",
   "execution_count": 411,
   "metadata": {
    "collapsed": false
   },
   "outputs": [
    {
     "name": "stdout",
     "output_type": "stream",
     "text": [
      "True\n"
     ]
    }
   ],
   "source": [
    "print(seq1==seq2)"
   ]
  },
  {
   "cell_type": "code",
   "execution_count": 219,
   "metadata": {
    "collapsed": false
   },
   "outputs": [
    {
     "name": "stdout",
     "output_type": "stream",
     "text": [
      "<module 'proteomics.d2p2' from '/home/FILESERVER5/proteomics/tss38/git_repos/CamProt/proteomics/d2p2.py'>\n"
     ]
    }
   ],
   "source": [
    "print(d2p2)"
   ]
  },
  {
   "cell_type": "code",
   "execution_count": 220,
   "metadata": {
    "collapsed": false
   },
   "outputs": [
    {
     "name": "stdout",
     "output_type": "stream",
     "text": [
      "4293\n"
     ]
    }
   ],
   "source": [
    "lysine_mod = 'results/lysine_modification_sorted.tsv'\n",
    "\n",
    "uniprot_ids = set()\n",
    "\n",
    "with IOTools.openFile(lysine_mod, \"r\") as inf:\n",
    "    header = next(inf)\n",
    "    \n",
    "    for line in inf:\n",
    "        uniprot_id, position, modification, reference, ratio, p = line.strip().split(\"\\t\")\n",
    "        uniprot_ids.add(uniprot_id)\n",
    "print(len(uniprot_ids))"
   ]
  },
  {
   "cell_type": "code",
   "execution_count": 262,
   "metadata": {
    "collapsed": false
   },
   "outputs": [
    {
     "name": "stdout",
     "output_type": "stream",
     "text": [
      "['Q9DC51', 'G3UXA6']\n"
     ]
    }
   ],
   "source": [
    "uniprot_ids = [\"Q9DC51\", \"G3UXA6\"]\n",
    "chunks = d2p2.getChunks(list(uniprot_ids)[0:250])\n",
    "\n",
    "#for chunk in chunks:\n",
    "#    print(chunk)\n",
    "print(list(uniprot_ids)[0:250])\n",
    "iterator = d2p2.iterator(list(uniprot_ids)[0:250])"
   ]
  },
  {
   "cell_type": "code",
   "execution_count": 263,
   "metadata": {
    "collapsed": false
   },
   "outputs": [
    {
     "name": "stdout",
     "output_type": "stream",
     "text": [
      "[['Q9DC51', 'Uniprot', {'disorder': {'disranges': [['VLXT', '1', '34'], ['VSL2b', '1', '49'], ['PrDOS', '1', '30'], ['PV2', '1', '35'], ['IUPred-S', '1', '9'], ['Espritz-N', '1', '9'], ['Espritz-X', '1', '30'], ['IUPred-L', '17', '18'], ['Espritz-N', '22', '28'], ['IUPred-S', '24', '24'], ['IUPred-L', '24', '24'], ['Espritz-N', '42', '45'], ['PV2', '44', '47'], ['VSL2b', '59', '66'], ['PV2', '65', '65'], ['VSL2b', '98', '99'], ['VSL2b', '101', '101'], ['PrDOS', '108', '116'], ['VLXT', '109', '123'], ['PV2', '118', '119'], ['VLXT', '136', '138'], ['VSL2b', '146', '149'], ['PV2', '153', '153'], ['PV2', '156', '157'], ['PV2', '161', '165'], ['PV2', '168', '170'], ['Espritz-N', '203', '206'], ['VSL2b', '204', '208'], ['PV2', '208', '210'], ['PV2', '234', '234'], ['VLXT', '235', '246'], ['VSL2b', '236', '246'], ['Espritz-N', '239', '249'], ['VSL2b', '276', '277'], ['PV2', '276', '277'], ['VSL2b', '294', '295'], ['PV2', '294', '302'], ['PV2', '304', '304'], ['PV2', '310', '314'], ['VSL2b', '313', '317'], ['VSL2b', '350', '354'], ['PV2', '350', '354'], ['PrDOS', '351', '354'], ['Espritz-X', '351', '354'], ['IUPred-S', '353', '354']], 'consensus': [6, 6, 6, 6, 6, 6, 6, 6, 6, 5, 5, 5, 5, 5, 5, 5, 6, 7, 6, 5, 5, 6, 7, 8, 6, 6, 6, 6, 5, 5, 3, 3, 3, 3, 2, 1, 1, 1, 1, 1, 1, 2, 2, 3, 3, 2, 2, 1, 1, 0, 0, 0, 0, 0, 0, 0, 0, 0, 1, 1, 1, 1, 1, 1, 2, 1, 0, 0, 0, 0, 0, 0, 0, 0, 0, 0, 0, 0, 0, 0, 0, 0, 0, 0, 0, 0, 0, 0, 0, 0, 0, 0, 0, 0, 0, 0, 0, 1, 1, 0, 1, 0, 0, 0, 0, 0, 0, 1, 2, 2, 2, 2, 2, 2, 2, 2, 1, 2, 2, 1, 1, 1, 1, 0, 0, 0, 0, 0, 0, 0, 0, 0, 0, 0, 0, 1, 1, 1, 0, 0, 0, 0, 0, 0, 0, 1, 1, 1, 1, 0, 0, 0, 1, 0, 0, 1, 1, 0, 0, 0, 1, 1, 1, 1, 1, 0, 0, 1, 1, 1, 0, 0, 0, 0, 0, 0, 0, 0, 0, 0, 0, 0, 0, 0, 0, 0, 0, 0, 0, 0, 0, 0, 0, 0, 0, 0, 0, 0, 0, 0, 0, 0, 1, 2, 2, 2, 1, 2, 1, 1, 0, 0, 0, 0, 0, 0, 0, 0, 0, 0, 0, 0, 0, 0, 0, 0, 0, 0, 0, 0, 0, 0, 0, 1, 1, 2, 2, 2, 3, 3, 3, 3, 3, 3, 3, 3, 1, 1, 1, 0, 0, 0, 0, 0, 0, 0, 0, 0, 0, 0, 0, 0, 0, 0, 0, 0, 0, 0, 0, 0, 0, 0, 0, 0, 0, 2, 2, 0, 0, 0, 0, 0, 0, 0, 0, 0, 0, 0, 0, 0, 0, 0, 0, 2, 2, 1, 1, 1, 1, 1, 1, 1, 0, 1, 0, 0, 0, 0, 0, 1, 1, 1, 2, 2, 1, 1, 1, 0, 0, 0, 0, 0, 0, 0, 0, 0, 0, 0, 0, 0, 0, 0, 0, 0, 0, 0, 0, 0, 0, 0, 0, 0, 0, 0, 0, 0, 0, 0, 0, 2, 4, 4, 4, 4], 'consranges': [['18', '18'], ['23', '24']], 'conflict': [0, 0, 0, 0, 0, 0, 0, 0, 0, 0, 0, 0, 0, 0, 0, 0, 0, 0, 0, 0, 0, 0, 0, 0, 0, 0, 0, 0, 0, 0, 0, 3, 3, 3, 2, 1, 1, 1, 1, 1, 1, 2, 2, 3, 3, 2, 2, 1, 1, 0, 0, 0, 0, 0, 0, 0, 0, 0, 1, 1, 1, 1, 1, 1, 2, 1, 0, 0, 0, 0, 0, 0, 0, 0, 0, 0, 0, 0, 0, 0, 0, 0, 0, 0, 0, 0, 0, 0, 0, 0, 0, 0, 0, 0, 0, 0, 0, 1, 1, 0, 1, 0, 0, 0, 0, 0, 0, 1, 2, 2, 2, 2, 2, 2, 2, 2, 1, 2, 2, 1, 1, 1, 1, 0, 0, 0, 0, 0, 0, 0, 0, 0, 0, 0, 0, 1, 1, 1, 0, 0, 0, 0, 0, 0, 0, 1, 1, 1, 1, 0, 0, 0, 1, 0, 0, 1, 1, 0, 0, 0, 1, 1, 1, 1, 1, 0, 0, 1, 1, 1, 0, 0, 0, 0, 0, 0, 0, 0, 0, 0, 0, 0, 0, 0, 0, 0, 0, 0, 0, 0, 0, 0, 0, 0, 0, 0, 0, 0, 0, 0, 0, 0, 1, 2, 2, 2, 1, 2, 1, 1, 0, 0, 0, 0, 0, 0, 0, 0, 0, 0, 0, 0, 0, 0, 0, 0, 0, 0, 0, 0, 0, 0, 0, 1, 1, 2, 2, 2, 3, 3, 3, 3, 3, 3, 3, 3, 1, 1, 1, 0, 0, 0, 0, 0, 0, 0, 0, 0, 0, 0, 0, 0, 0, 0, 0, 0, 0, 0, 0, 0, 0, 0, 0, 0, 0, 2, 2, 0, 0, 0, 0, 0, 0, 0, 0, 0, 0, 0, 0, 0, 0, 0, 0, 2, 2, 1, 1, 1, 1, 1, 1, 1, 0, 1, 0, 0, 0, 0, 0, 1, 1, 1, 2, 2, 1, 1, 1, 0, 0, 0, 0, 0, 0, 0, 0, 0, 0, 0, 0, 0, 0, 0, 0, 0, 0, 0, 0, 0, 0, 0, 0, 0, 0, 0, 0, 0, 0, 0, 0, 0, 0, 0, 0, 0]}, 'structure': {'strong': [['P-loop containing nucleoside triphosphate hydrolases', '52540', '1.78e-62', 'G proteins', '52592', '0.0000000207', '32-61,179-349'], ['Transducin (alpha subunit), insertion domain', '47895', '3.92e-43', 'Transducin (alpha subunit), insertion domain', '47896', '0.000000713', '61-181']], 'pfam': [['Domain', 'CL0023', 'PF00503.15', 'G-alpha', 'G-protein alpha subunit', '5.5e-135', '450', '3', '343']], 'weak': []}}]]\n",
      "<proteomics.d2p2.d2p2 object at 0x7f09db6a3d30>\n"
     ]
    }
   ],
   "source": [
    "for x in iterator:\n",
    "    pass\n",
    "print(x)"
   ]
  },
  {
   "cell_type": "code",
   "execution_count": 265,
   "metadata": {
    "collapsed": false
   },
   "outputs": [
    {
     "name": "stdout",
     "output_type": "stream",
     "text": [
      "[['VLXT', '1', '34'], ['VSL2b', '1', '49'], ['PrDOS', '1', '30'], ['PV2', '1', '35'], ['IUPred-S', '1', '9'], ['Espritz-N', '1', '9'], ['Espritz-X', '1', '30'], ['IUPred-L', '17', '18'], ['Espritz-N', '22', '28'], ['IUPred-S', '24', '24'], ['IUPred-L', '24', '24'], ['Espritz-N', '42', '45'], ['PV2', '44', '47'], ['VSL2b', '59', '66'], ['PV2', '65', '65'], ['VSL2b', '98', '99'], ['VSL2b', '101', '101'], ['PrDOS', '108', '116'], ['VLXT', '109', '123'], ['PV2', '118', '119'], ['VLXT', '136', '138'], ['VSL2b', '146', '149'], ['PV2', '153', '153'], ['PV2', '156', '157'], ['PV2', '161', '165'], ['PV2', '168', '170'], ['Espritz-N', '203', '206'], ['VSL2b', '204', '208'], ['PV2', '208', '210'], ['PV2', '234', '234'], ['VLXT', '235', '246'], ['VSL2b', '236', '246'], ['Espritz-N', '239', '249'], ['VSL2b', '276', '277'], ['PV2', '276', '277'], ['VSL2b', '294', '295'], ['PV2', '294', '302'], ['PV2', '304', '304'], ['PV2', '310', '314'], ['VSL2b', '313', '317'], ['VSL2b', '350', '354'], ['PV2', '350', '354'], ['PrDOS', '351', '354'], ['Espritz-X', '351', '354'], ['IUPred-S', '353', '354']]\n",
      "[5, 5, 5, 5, 5, 5, 5, 5, 5, 3, 3, 3, 3, 3, 3, 3, 4, 4, 3, 3, 3, 4, 4, 6, 4, 4, 4, 4, 3, 3, 1, 1, 1, 1, 1, 0, 0, 0, 0, 0, 0, 1, 1, 2, 2, 1, 1, 0, 0, 0, 0, 0, 0, 0, 0, 0, 0, 0, 0, 0, 0, 0, 0, 0, 1, 0, 0, 0, 0, 0, 0, 0, 0, 0, 0, 0, 0, 0, 0, 0, 0, 0, 0, 0, 0, 0, 0, 0, 0, 0, 0, 0, 0, 0, 0, 0, 0, 0, 0, 0, 0, 0, 0, 0, 0, 0, 0, 1, 1, 1, 1, 1, 1, 1, 1, 1, 0, 1, 1, 0, 0, 0, 0, 0, 0, 0, 0, 0, 0, 0, 0, 0, 0, 0, 0, 0, 0, 0, 0, 0, 0, 0, 0, 0, 0, 0, 0, 0, 0, 0, 0, 0, 1, 0, 0, 1, 1, 0, 0, 0, 1, 1, 1, 1, 1, 0, 0, 1, 1, 1, 0, 0, 0, 0, 0, 0, 0, 0, 0, 0, 0, 0, 0, 0, 0, 0, 0, 0, 0, 0, 0, 0, 0, 0, 0, 0, 0, 0, 0, 0, 0, 0, 1, 1, 1, 1, 0, 1, 1, 1, 0, 0, 0, 0, 0, 0, 0, 0, 0, 0, 0, 0, 0, 0, 0, 0, 0, 0, 0, 0, 0, 0, 0, 1, 0, 0, 0, 0, 1, 1, 1, 1, 1, 1, 1, 1, 1, 1, 1, 0, 0, 0, 0, 0, 0, 0, 0, 0, 0, 0, 0, 0, 0, 0, 0, 0, 0, 0, 0, 0, 0, 0, 0, 0, 0, 1, 1, 0, 0, 0, 0, 0, 0, 0, 0, 0, 0, 0, 0, 0, 0, 0, 0, 1, 1, 1, 1, 1, 1, 1, 1, 1, 0, 1, 0, 0, 0, 0, 0, 1, 1, 1, 1, 1, 0, 0, 0, 0, 0, 0, 0, 0, 0, 0, 0, 0, 0, 0, 0, 0, 0, 0, 0, 0, 0, 0, 0, 0, 0, 0, 0, 0, 0, 0, 0, 0, 0, 0, 0, 1, 3, 3, 4, 4]\n"
     ]
    }
   ],
   "source": [
    "print(x.disranges)\n",
    "\n",
    "x.rebuildConsensus(tools_blacklist=['VSL2b', 'VLXT'])\n",
    "\n",
    "print(list(x.consensus))"
   ]
  },
  {
   "cell_type": "code",
   "execution_count": 251,
   "metadata": {
    "collapsed": false
   },
   "outputs": [
    {
     "name": "stdout",
     "output_type": "stream",
     "text": [
      "['__class__', '__delattr__', '__dict__', '__dir__', '__doc__', '__eq__', '__format__', '__ge__', '__getattribute__', '__gt__', '__hash__', '__init__', '__le__', '__lt__', '__module__', '__ne__', '__new__', '__reduce__', '__reduce_ex__', '__repr__', '__setattr__', '__sizeof__', '__str__', '__subclasshook__', '__weakref__', 'consensus', 'disranges', 'idrs', 'length', 'name', 'rebuildConsensus', 'setIDRs', 'structure']\n",
      "Q9DC51\n",
      "[ 1.  1.  1.  1.  1.  1.  1.  1.  1.  1.  1.  1.  1.  1.  1.  1.  1.  1.\n",
      "  1.  1.  1.  1.  1.  1.  1.  1.  1.  1.  1.  1.  1.  1.  1.  1.  1.  1.\n",
      "  1.  1.  1.  1.  1.  1.  1.  1.  1.  1.  1.  1.  1.  0.  0.  0.  0.  0.\n",
      "  0.  0.  0.  0.  1.  1.  1.  1.  1.  1.  1.  1.  0.  0.  0.  0.  0.  0.\n",
      "  0.  0.  0.  0.  0.  0.  0.  0.  0.  0.  0.  0.  0.  0.  0.  0.  0.  0.\n",
      "  0.  0.  0.  0.  0.  0.  0.  1.  1.  0.  1.  0.  0.  0.  0.  0.  0.  0.\n",
      "  0.  0.  0.  0.  0.  0.  0.  0.  0.  0.  0.  0.  0.  0.  0.  0.  0.  0.\n",
      "  0.  0.  0.  0.  0.  0.  0.  0.  0.  0.  0.  0.  0.  0.  0.  0.  0.  0.\n",
      "  0.  1.  1.  1.  1.  0.  0.  0.  0.  0.  0.  0.  0.  0.  0.  0.  0.  0.\n",
      "  0.  0.  0.  0.  0.  0.  0.  0.  0.  0.  0.  0.  0.  0.  0.  0.  0.  0.\n",
      "  0.  0.  0.  0.  0.  0.  0.  0.  0.  0.  0.  0.  0.  0.  0.  0.  0.  0.\n",
      "  0.  0.  0.  0.  0.  1.  1.  1.  1.  1.  0.  0.  0.  0.  0.  0.  0.  0.\n",
      "  0.  0.  0.  0.  0.  0.  0.  0.  0.  0.  0.  0.  0.  0.  0.  0.  0.  0.\n",
      "  0.  1.  1.  1.  1.  1.  1.  1.  1.  1.  1.  1.  0.  0.  0.  0.  0.  0.\n",
      "  0.  0.  0.  0.  0.  0.  0.  0.  0.  0.  0.  0.  0.  0.  0.  0.  0.  0.\n",
      "  0.  0.  0.  0.  0.  1.  1.  0.  0.  0.  0.  0.  0.  0.  0.  0.  0.  0.\n",
      "  0.  0.  0.  0.  0.  1.  1.  0.  0.  0.  0.  0.  0.  0.  0.  0.  0.  0.\n",
      "  0.  0.  0.  0.  0.  0.  1.  1.  1.  1.  1.  0.  0.  0.  0.  0.  0.  0.\n",
      "  0.  0.  0.  0.  0.  0.  0.  0.  0.  0.  0.  0.  0.  0.  0.  0.  0.  0.\n",
      "  0.  0.  0.  0.  0.  0.  0.  1.  1.  1.  1.  1.]\n",
      "[]\n"
     ]
    }
   ],
   "source": [
    "print(dir(x))\n",
    "print(x.name)\n",
    "print(x.consensus)\n",
    "\n",
    "x.setIDRs(6,5)\n",
    "print(x.idrs)\n",
    "for block in x.idrs:\n",
    "    print(block)\n",
    "    print(x.consensus[block[0]: block[1]])"
   ]
  }
 ],
 "metadata": {
  "anaconda-cloud": {},
  "kernelspec": {
   "display_name": "Python [conda root]",
   "language": "python",
   "name": "conda-root-py"
  },
  "language_info": {
   "codemirror_mode": {
    "name": "ipython",
    "version": 3
   },
   "file_extension": ".py",
   "mimetype": "text/x-python",
   "name": "python",
   "nbconvert_exporter": "python",
   "pygments_lexer": "ipython3",
   "version": "3.5.2"
  }
 },
 "nbformat": 4,
 "nbformat_minor": 1
}
