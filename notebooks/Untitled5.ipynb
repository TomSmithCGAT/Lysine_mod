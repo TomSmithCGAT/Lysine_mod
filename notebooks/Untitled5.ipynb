{
 "cells": [
  {
   "cell_type": "code",
   "execution_count": 41,
   "metadata": {
    "collapsed": true
   },
   "outputs": [],
   "source": [
    "import urllib3\n",
    "import json\n",
    "import requests, sys\n",
    "import collections"
   ]
  },
  {
   "cell_type": "code",
   "execution_count": 65,
   "metadata": {
    "collapsed": true
   },
   "outputs": [],
   "source": [
    "url = 'https://www.ebi.ac.uk/proteins/api/features?offset=0&size=100&accession=P52292&categories=DOMAINS_AND_SITES&types=MOTIF'\n",
    "url = 'https://www.ebi.ac.uk/proteins/api/features?offset=0&size=100&taxid=10090&categories=DOMAINS_AND_SITES&types=MOTIF'\n",
    "url = 'https://www.ebi.ac.uk/proteins/api/features?size=10000&taxid=10090&categories=DOMAINS_AND_SITES&types=MOTIF&reviewed=true'\n",
    "r = requests.get(url, headers={ \"Accept\" : \"application/json\"})"
   ]
  },
  {
   "cell_type": "code",
   "execution_count": 66,
   "metadata": {
    "collapsed": true
   },
   "outputs": [],
   "source": [
    "text = json.loads(r.text)"
   ]
  },
  {
   "cell_type": "code",
   "execution_count": 67,
   "metadata": {
    "collapsed": false
   },
   "outputs": [
    {
     "name": "stdout",
     "output_type": "stream",
     "text": [
      "{'type': 'MOTIF', 'begin': '50', 'description': 'Nuclear localization signal', 'category': 'DOMAINS_AND_SITES', 'end': '55'}\n"
     ]
    }
   ],
   "source": [
    "print(motif)"
   ]
  },
  {
   "cell_type": "code",
   "execution_count": 73,
   "metadata": {
    "collapsed": false
   },
   "outputs": [
    {
     "name": "stdout",
     "output_type": "stream",
     "text": [
      "1879\n",
      "1\n",
      "[{'type': 'MOTIF', 'begin': '553', 'evidences': [{'code': 'ECO:0000255'}], 'description': 'Nuclear localization signal', 'end': '557', 'category': 'DOMAINS_AND_SITES'}]\n",
      "Nuclear localization signal (NLS1) 1\n",
      "Nuclear localization signal 1 (NLS1) 2\n",
      "Nuclear localization signal; in isoform 6 2\n",
      "Nuclear localization signal 3 2\n",
      "Nuclear localization signal (NLS) 1 1\n",
      "Nuclear localization signal 408\n",
      "Nuclear localization signal (NLS) 2 1\n",
      "Nuclear localization signal NLS2 1\n",
      "Nuclear localization signal 2 (NLS2) 1\n",
      "Nuclear localization signal (NLS) 9\n",
      "Nuclear localization signal 1 9\n",
      "Nuclear localization signal 5 1\n",
      "Nuclear localization signal NLS1 1\n",
      "Nuclear localization signal 2 9\n",
      "Nuclear localization signal 4 1\n",
      "FGF motif 2\n",
      "Counter({'ECO:0000255': 247, 'ECO:0000250': 134, 'ECO:0000269': 18, 'ECO:0000305': 3})\n",
      "Q91WL8\n"
     ]
    }
   ],
   "source": [
    "descriptions = collections.Counter()\n",
    "evidences = collections.Counter()\n",
    "print(len(text))\n",
    "print(len(text[0]['features']))\n",
    "print(text[0]['features'])\n",
    "for p_ix in text:\n",
    "    for motif in p_ix['features']:\n",
    "        descriptions[motif['description']] += 1\n",
    "        if 'Nuclear localization signal' in motif['description']:\n",
    "            try:\n",
    "                for ev in motif['evidences']:\n",
    "                    evidences[ev['code']] += 1\n",
    "            except:\n",
    "                pass#print(p_ix)\n",
    "    \n",
    "for description in descriptions:\n",
    "    if 'Nuclear localization signal' in description:\n",
    "        print(description, descriptions[description])\n",
    "print(description)\n",
    "print(evidences)\n",
    "print(p_ix['accession'])\n",
    "#print(descriptions.most_common())"
   ]
  },
  {
   "cell_type": "code",
   "execution_count": null,
   "metadata": {
    "collapsed": true
   },
   "outputs": [],
   "source": [
    "for url = 'https://www.ebi.ac.uk/proteins/api/features?offset=0&size=-1&taxid=10090&categories=DOMAINS_AND_SITES&types=MOTIF'"
   ]
  }
 ],
 "metadata": {
  "anaconda-cloud": {},
  "kernelspec": {
   "display_name": "Python [conda root]",
   "language": "python",
   "name": "conda-root-py"
  },
  "language_info": {
   "codemirror_mode": {
    "name": "ipython",
    "version": 3
   },
   "file_extension": ".py",
   "mimetype": "text/x-python",
   "name": "python",
   "nbconvert_exporter": "python",
   "pygments_lexer": "ipython3",
   "version": "3.5.2"
  }
 },
 "nbformat": 4,
 "nbformat_minor": 1
}
