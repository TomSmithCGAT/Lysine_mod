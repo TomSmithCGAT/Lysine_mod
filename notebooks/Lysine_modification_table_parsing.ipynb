{
 "cells": [
  {
   "cell_type": "markdown",
   "metadata": {},
   "source": [
    "In this notebook we will combine the malonylation, succinylation and glutylation results from muliple papers into a single table we can use for the enrichment analysis. This is useful since the UniProt database is severley lacking for these modifications"
   ]
  },
  {
   "cell_type": "code",
   "execution_count": 1,
   "metadata": {
    "collapsed": false
   },
   "outputs": [],
   "source": [
    "import pandas as pd\n",
    "import os\n",
    "import CGAT.IOTools as IOTools\n",
    "import collections\n",
    "import numpy as np\n",
    "import urllib3\n",
    "import json\n",
    "import re\n",
    "import csv\n",
    "import appdirs\n",
    "import bioservices\n",
    "from bioservices import UniProt\n",
    "\n",
    "from rpy2.robjects.packages import importr\n",
    "from rpy2.robjects.vectors import FloatVector\n",
    "\n",
    "import proteomics.sequence as sequence\n",
    "\n",
    "from time import gmtime, strftime\n",
    "\n",
    "stats = importr('stats')\n",
    "%load_ext rpy2.ipython"
   ]
  },
  {
   "cell_type": "code",
   "execution_count": 2,
   "metadata": {
    "collapsed": true
   },
   "outputs": [],
   "source": [
    "raw_base = '../raw/'\n",
    "results = './results'"
   ]
  },
  {
   "cell_type": "code",
   "execution_count": 3,
   "metadata": {
    "collapsed": false
   },
   "outputs": [],
   "source": [
    "weinert_succ_inf = os.path.join(raw_base, 'Weinert_succinylation.csv')\n",
    "weinert_acet_inf = os.path.join(raw_base, 'Weinert_acetylation.csv')\n",
    "\n",
    "park_inf = os.path.join(raw_base, 'Park_succinylation.csv')\n",
    "\n",
    "colaka_inf = os.path.join(raw_base, 'Colaka_malonylation.csv')\n",
    "\n",
    "tan_inf = os.path.join(raw_base, 'Tan_glutarylation.csv')\n",
    "\n",
    "rardin_inf = os.path.join(raw_base, 'Rardin_succinylation.csv')\n",
    "\n",
    "nishida_inf = os.path.join(raw_base, 'Nishida_malonylation.csv')\n",
    "\n",
    "cheng_inf = os.path.join(raw_base, 'Cheng_succinylation.csv')\n",
    "\n",
    "sol_inf = os.path.join(raw_base, 'Sol_acetylation.csv')\n",
    "\n",
    "sad_inf = os.path.join(raw_base, 'Sadhukhan_succinylation.csv')\n",
    "\n",
    "sad_map_inf = os.path.join(raw_base, 'Sadhukhan_id_map.tab')"
   ]
  },
  {
   "cell_type": "markdown",
   "metadata": {},
   "source": [
    "We need to generate a mapping from gene name to Uniprot ID. We can take the set of gene names in tan_inf and generate a list to pass to the uniprot online tool"
   ]
  },
  {
   "cell_type": "code",
   "execution_count": 4,
   "metadata": {
    "collapsed": false
   },
   "outputs": [],
   "source": [
    "tan_gene_names = os.path.join(results, 'tan_genes.tsv')\n",
    "tan_gene_uniprot = os.path.join(results, 'tan_genes_uniprot.tsv')\n",
    "\n",
    "p_set = set()\n",
    "with IOTools.openFile(tan_gene_names, 'w') as outf:\n",
    "    with IOTools.openFile(tan_inf, 'r') as inf:\n",
    "        next(inf)\n",
    "        for line in inf:\n",
    "            p_set.update(line.strip().split('\\t')[3].split(';'))\n",
    "            \n",
    "    for p in sorted(list(p_set)):\n",
    "        outf.write(\"%s\\n\" % p)"
   ]
  },
  {
   "cell_type": "markdown",
   "metadata": {},
   "source": [
    "Now we need to check the results are correct!"
   ]
  },
  {
   "cell_type": "code",
   "execution_count": 5,
   "metadata": {
    "collapsed": false
   },
   "outputs": [
    {
     "name": "stdout",
     "output_type": "stream",
     "text": [
      "yourlist:M201702088A530B6CA0138AFAA6D2B97CE8C2A924BFBC8BK\tisomap:M201702088A530B6CA0138AFAA6D2B97CE8C2A924BFBC8BK\tEntry\tEntry name\tStatus\tProtein names\tGene names\tOrganism\tLength\n",
      "\n",
      "mcg_9645\n",
      "['CAT,MCG_9645', ',', 'A2AL20', 'A2AL20_MOUSE', 'unreviewed', 'Catalase (Catalase, isoform CRA_a)', 'Cat mCG_9645', 'Mus musculus (Mouse)', '176']\n"
     ]
    }
   ],
   "source": [
    "genename2uniprot = {}\n",
    "with IOTools.openFile(tan_gene_uniprot, 'r') as inf:\n",
    "    print(next(inf))\n",
    "    for line in inf:\n",
    "        line = line.strip().split('\\t')\n",
    "        gene_names = line[0].lower()\n",
    "        uniprot_id = line[2]\n",
    "        gene_description = line[5]\n",
    "        for gene_name in gene_names.split(','):\n",
    "            genename2uniprot[gene_name] = (uniprot_id, gene_description)\n",
    "\n",
    "print(gene_name)\n",
    "print(line)"
   ]
  },
  {
   "cell_type": "code",
   "execution_count": 6,
   "metadata": {
    "collapsed": false
   },
   "outputs": [
    {
     "name": "stdout",
     "output_type": "stream",
     "text": [
      "('Q91WS8', 'Acyl-Coenzyme A dehydrogenase, medium chain')\n",
      "('Q4FJX9', 'Superoxide dismutase (EC 1.15.1.1)')\n",
      "('Q9D819', 'Inorganic pyrophosphatase (EC 3.6.1.1) (Pyrophosphate phospho-hydrolase) (PPase)')\n",
      "('Q9D819', 'Inorganic pyrophosphatase (EC 3.6.1.1) (Pyrophosphate phospho-hydrolase) (PPase)')\n",
      "('Q9D819', 'Inorganic pyrophosphatase (EC 3.6.1.1) (Pyrophosphate phospho-hydrolase) (PPase)')\n",
      "('Q9DB15', '39S ribosomal protein L12, mitochondrial (L12mt) (MRP-L12)')\n",
      "('Q9DB15', '39S ribosomal protein L12, mitochondrial (L12mt) (MRP-L12)')\n",
      "('Q9DB15', '39S ribosomal protein L12, mitochondrial (L12mt) (MRP-L12)')\n"
     ]
    }
   ],
   "source": [
    "print(genename2uniprot['acadm'])\n",
    "print(genename2uniprot['sod2'])\n",
    "#print(genename2uniprot['es10'])\n",
    "\n",
    "x = ['Ppa1', 'Pp', 'Pyp', 'Mrpl12', 'Rpml12']\n",
    "for ix in x:\n",
    "    try:\n",
    "        print(genename2uniprot[ix.lower()])\n",
    "    except:\n",
    "        pass\n",
    "    \n",
    "print(genename2uniprot['rpml12'])"
   ]
  },
  {
   "cell_type": "code",
   "execution_count": 7,
   "metadata": {
    "collapsed": false
   },
   "outputs": [
    {
     "name": "stdout",
     "output_type": "stream",
     "text": [
      "Position\tLeading Proteins\tProtein Names\tGene Names\tProtein Descriptions\tLocalization Prob\tScore Diff\tNumber of Glutaryl (K)\tAmino Acid\tSequence Window\tPEP\tMascot Score\tPTM Score\tModified Sequence\tGlutaryl (K) Probabilities\tGlutaryl (K) Score Diffs\tPosition in peptide\tCharge\tm/z\tMass Error [ppm]\tIntensity\n",
      "\n",
      "\n",
      "no matches\n",
      "\n",
      "['535', 'IPI00267983', '', '', 'acyl-Coenzyme A dehydrogenase family, member 10-like', '1', '71.7598', '1', 'K', 'LGDDQLKVAKMEL', '8.99E-11', '71', '137.28', '_LGDDQLK(gl)VAK_', 'LGDDQLK(1)VAK', 'LGDDQLK(71.76)VAK(-71.76)', '7', '2', '600.82716', '-0.78734', '918990']\n",
      "['']\n",
      "acyl-Coenzyme A dehydrogenase family, member 10-like \n",
      "\n",
      "\n",
      "\n",
      "no matches\n",
      "\n",
      "['542', 'IPI00267983', '', '', 'acyl-Coenzyme A dehydrogenase family, member 10-like', '1', '72.2061', '1', 'K', 'VAKMELKNQSRLQ', '2.8E-17', '40', '147.65', '_M(ox)ELK(gl)NQSR_', 'MELK(1)NQSR', 'MELK(72.21)NQSR', '4', '2', '568.27424', '-0.56587', '1203500']\n",
      "['']\n",
      "acyl-Coenzyme A dehydrogenase family, member 10-like \n",
      "\n",
      "\n",
      "\n",
      "no matches\n",
      "\n",
      "['289', 'IPI00267983', '', '', 'acyl-Coenzyme A dehydrogenase family, member 10-like;41 kDa protein', '1', '93.7853', '1', 'K', 'FAMTDRKVASSDA', '7.36E-10', '30', '98.788', '_K(gl)VASSDASNIEASIK_', 'K(1)VASSDASNIEASIK', 'K(93.79)VASSDASNIEASIK(-93.79)', '1', '2', '817.4176', '0.30048', '39751']\n",
      "['']\n",
      "acyl-Coenzyme A dehydrogenase family, member 10-like;41 kDa protein \n",
      "\n",
      "\n",
      "\n",
      "no matches\n",
      "\n",
      "['145', 'IPI00606398', '', '', 'similar to glutamate dehydrogenase', '1', '12.5847', '1', 'K', 'ISGASEKEIVHSG', '9.47E-05', '27', '66.706', '_ISGASEK(gl)EIVHSGLAYTMER_', 'ISGASEK(1)EIVHSGLAYTMER', 'ISGASEK(12.58)EIVHSGLAYTMER', '7', '3', '764.71073', '-0.85726', '287460']\n",
      "['']\n",
      "similar to glutamate dehydrogenase \n",
      "\n",
      "\n",
      "\n",
      "no matches\n",
      "\n",
      "['43', 'IPI00624210', 'Glycine N-acyltransferase-like protein;Acyl-CoA:glycine N-acyltransferase-like', '', 'Glycine N-acyltransferase-like protein', '1', '100.144', '1', 'K', 'GNPFKLKALVDKW', '0.00223492', '25', '104.53', '_LK(gl)ALVDK_', 'LK(1)ALVDK', 'LK(100.14)ALVDK(-100.14)', '2', '2', '450.77367', '1.8932', '1785700']\n",
      "['']\n",
      "Glycine N-acyltransferase-like protein \n",
      "\n",
      "\n",
      "\n",
      "no matches\n",
      "\n",
      "['270', 'IPI00624210', 'Glycine N-acyltransferase-like protein;Acyl-CoA:glycine N-acyltransferase-like', '', 'Glycine N-acyltransferase-like protein', '0.879679', '8.63983', '1', 'K', 'HTEQTNKVIQKMS', '9.26E-05', '24', '69.91', '_GYPVYNHTEQTNK(gl)VIQK_', 'GYPVYNHTEQTNK(0.88)VIQK(0.12)', 'GYPVYNHTEQTNK(8.64)VIQK(-8.64)', '13', '3', '711.69189', '-0.52661', '247230']\n",
      "['']\n",
      "Glycine N-acyltransferase-like protein \n",
      "\n",
      "\n",
      "\n",
      "no matches\n",
      "\n",
      "['439', 'IPI00930782', '', '', 'cytochrome P450, family 2, subfamily w, polypeptide 1', '1', '115.096', '1', 'K', 'RRVCVGKSLARTE', '4.36E-06', '37', '115.1', '_VCVGK(gl)SLAR_', 'VCVGK(1)SLAR', 'VCVGK(115.1)SLAR', '5', '2', '552.29751', '-0.68939', '129180']\n",
      "['']\n",
      "cytochrome P450, family 2, subfamily w, polypeptide 1 \n",
      "\n",
      "\n",
      "33\n",
      "159\n",
      "576 100 7\n"
     ]
    }
   ],
   "source": [
    "checked = set()\n",
    "more_than_one_match, no_matches, one_match = (0, 0, 0)\n",
    "more_than_one_IPs = set()\n",
    "one_match_IPs = set()\n",
    "with IOTools.openFile(tan_inf, 'r') as inf:\n",
    "    print(next(inf))\n",
    "    for line in inf:\n",
    "\n",
    "        line = line.strip().split('\\t')\n",
    "        gene_names = line[3].split(';')\n",
    "        gene_description = line[4]\n",
    "\n",
    "        matches = set()\n",
    "        for gene in gene_names:\n",
    "            \n",
    "            if gene.lower() not in checked:\n",
    "                try:\n",
    "                    matches.add(genename2uniprot[gene.lower()][0])\n",
    "                    checked.add(gene.lower())\n",
    "                    #print(gene, gene_description, genename2uniprot[gene.lower()])\n",
    "                except:\n",
    "                    pass\n",
    "                    #print('\\nno entry for %s\\n' % gene.lower())\n",
    "            else:\n",
    "                matches.add(genename2uniprot[gene.lower()][0])\n",
    "                found_one = True\n",
    "                \n",
    "        if len(matches) == 0:\n",
    "            no_matches += 1\n",
    "            print('\\nno matches\\n')\n",
    "            print(line)\n",
    "            print(gene_names)\n",
    "            print(gene_description, '\\n\\n')\n",
    "        elif len(matches) > 1:\n",
    "            more_than_one_match += 1\n",
    "            more_than_one_IPs.add(line[1])\n",
    "            #print('\\nmore than one match!\\n', line, matches, '\\n\\n')\n",
    "        else:\n",
    "            one_match += 1\n",
    "            one_match_IPs.add(line[1])\n",
    "\n",
    "print(len(more_than_one_IPs))\n",
    "print(len(one_match_IPs))\n",
    "print(one_match, more_than_one_match, no_matches)"
   ]
  },
  {
   "cell_type": "markdown",
   "metadata": {},
   "source": [
    "There are 684 lines in the Tan et al table, each representing a single modified peptide (from 195 proteins). Of these 159 proteins (576 lines) are converted into a single Uniprot ID, 33 (100 lines) are converted into multiple IDs and 3 (7 lines) don't contain a gene name.\n",
    "\n",
    "For the 33 with multiple Uniprot IDs, we will assign the glutarylation event to each Uniprot ID. Note that there isn't any positional information\n",
    "\n",
    "For the 3 proteins without a gene name assigned, we will perform a manual search in Uniprot:\n",
    "\n",
    "cytochrome P450, family 2, subfamily w, polypeptide 1 ==>  E9Q816  http://www.uniprot.org/uniprot/E9Q816\n",
    "\n",
    "Glycine N-acyltransferase-like protein;Acyl-CoA:glycine N-acyltransferase-like ==> Q9DCY0 http://www.uniprot.org/uniprot/Q9DCY0\n",
    "\n",
    "similar to glutamate dehydrogenase ==> P26443 http://www.uniprot.org/uniprot/P26443\n",
    "\n",
    "acyl-Coenzyme A dehydrogenase family, member 10-like;41 kDa protein ==> D3Z7X0 http://www.uniprot.org/uniprot/D3Z7X0\n",
    "acyl-Coenzyme A dehydrogenase family, member 10-like ==> D3Z7X0 http://www.uniprot.org/uniprot/D3Z7X0\n"
   ]
  },
  {
   "cell_type": "code",
   "execution_count": 8,
   "metadata": {
    "collapsed": false
   },
   "outputs": [],
   "source": [
    "gene_description2UniprotId = {}\n",
    "gene_description2UniprotId['cytochrome P450, family 2, subfamily w, polypeptide 1'] = 'E9Q816'\n",
    "gene_description2UniprotId['Glycine N-acyltransferase-like protein'] = 'Q9DCY0'\n",
    "gene_description2UniprotId['similar to glutamate dehydrogenase'] = 'P26443'\n",
    "gene_description2UniprotId['acyl-Coenzyme A dehydrogenase family, member 10-like;41 kDa protein'] = 'D3Z7X0'\n",
    "gene_description2UniprotId['acyl-Coenzyme A dehydrogenase family, member 10-like'] = 'D3Z7X0'\n",
    "# Now we can write out the Tan et al table using this dictionary as a back up when no gene name is given"
   ]
  },
  {
   "cell_type": "code",
   "execution_count": 9,
   "metadata": {
    "collapsed": false
   },
   "outputs": [
    {
     "name": "stdout",
     "output_type": "stream",
     "text": [
      "MPGWSCLVTGAGGFLGQRIVRMLVQEEELQEIRALFRTFGRKHEEELSKLQTKAKVRVLKGDILDAQCLKRACQGMSAVIHTAAAIDPLGAASRQTILDVNLKGTQLLLDACVEASVPTFIYSSSVLVAGPNSYKEIILNAHEEEHRESTWPNPYPYSKRMAEKAVLATNGRLLKNGGTLHTCALRLPFIYGEECQVTSTTVKTALKNNSIIKKNATFSIANPVYVGNAAWAHILAARSLQDPKKSPSIQGQFYYISDNTPHQSYDDLNYTLSKEWGLCLDSGWSLPLSLLYWLAFLLETVSFLLRPVYNYRPPFNRLLITVLNSVFTISYKKAQRDLGYQPLVSWEEAKQKTSEWIGTLVKQHRETLHKKSQ\n",
      "K\n",
      "K\n",
      "K\n",
      "K\n",
      "K\n",
      "K\n",
      "K\n",
      "K\n",
      "K\n",
      "K\n",
      "K\n",
      "K\n",
      "K\n",
      "K\n",
      "K\n",
      "K\n"
     ]
    }
   ],
   "source": [
    "seq, method = sequence.getSequence('Q61694')\n",
    "print(seq)\n",
    "for position in [60, 70, 175, 203, 207, 352, 362, 244, 207, 350, 207, 350, 49, 60, 70, 207]:\n",
    "    print(seq[position - 1])"
   ]
  },
  {
   "cell_type": "code",
   "execution_count": 10,
   "metadata": {
    "collapsed": false
   },
   "outputs": [],
   "source": [
    "def parseRardinNishida(infile, out, ratio_index, p_value_index, peptide_index, k_shift, modification, reference):\n",
    "    '''\n",
    "    specific parser for Rardin et al and Nishida et al spreadsheets\n",
    "    These contain peptides but not positions so we need to extract the protein sequences\n",
    "    '''\n",
    "\n",
    "    k_shift = str(k_shift)\n",
    "    \n",
    "    count_modified = 0\n",
    "    count_lines = 0\n",
    "    previous_protein = \"\"\n",
    "\n",
    "    with IOTools.openFile(infile, 'r') as inf:\n",
    "        lines = csv.reader(inf, delimiter=',', quotechar='\"')\n",
    "        next(lines)\n",
    "        \n",
    "        for line in lines:\n",
    "            count_lines += 1\n",
    "            \n",
    "            protein = line[0]\n",
    "            peptide = line[peptide_index]\n",
    "            ratio = line[ratio_index]\n",
    "            p_value = line[p_value_index]\n",
    "            peptide_positions = []\n",
    "            stripped_peptide = \"\"\n",
    "            ix = 0\n",
    "            base_ix = 0\n",
    "\n",
    "            #if peptide != 'IIK[+100]EPVPDSGLLSLFQGQSPLTSC[+57]':\n",
    "            #    continue\n",
    "\n",
    "            while True:\n",
    "\n",
    "                base = peptide[ix]\n",
    "\n",
    "                stripped_peptide += base\n",
    "\n",
    "                if ix == len(peptide) - 1:\n",
    "                    break\n",
    "\n",
    "                elif base == 'K' and peptide[ix+1: ix+4+len(k_shift)] == \"[+%s]\" % k_shift:\n",
    "                    peptide_positions.append(base_ix)\n",
    "                    count_modified += 1\n",
    "                    base_ix += 1\n",
    "                    ix += 4 + len(k_shift)\n",
    "                    if ix == len(peptide):\n",
    "                        break\n",
    "                elif peptide[ix+1] == \"[\":\n",
    "                    base_ix += 1\n",
    "                    while True:\n",
    "                        ix += 1\n",
    "                        if peptide[ix+1] == \"]\":\n",
    "                            ix += 2\n",
    "                            break\n",
    "                    if ix == len(peptide):\n",
    "                        break\n",
    "                else:\n",
    "                    base_ix += 1\n",
    "                    ix += 1\n",
    "\n",
    "\n",
    "            if protein != previous_protein:\n",
    "                previous_protein = protein\n",
    "                seq, method = sequence.getSequence(protein)\n",
    "\n",
    "\n",
    "            protein_position = seq.find(stripped_peptide)\n",
    "\n",
    "            if protein_position == -1:\n",
    "\n",
    "                print(ratio)\n",
    "                print(line)\n",
    "                print(peptide)\n",
    "                print(protein_position)\n",
    "                print(stripped_peptide)\n",
    "\n",
    "                print(protein)\n",
    "                print(peptide)\n",
    "\n",
    "                print(seq)\n",
    "                print(seq.find(stripped_peptide))\n",
    "\n",
    "            else:\n",
    "                for peptide_position in peptide_positions:\n",
    "                    position = protein_position + 1 + peptide_position\n",
    "                    outf.write(\"%s\\n\" % '\\t'.join(\n",
    "                            [protein, str(position), modification, reference, str(ratio), str(p_value)]))\n",
    "    \n",
    "    return count_modified"
   ]
  },
  {
   "cell_type": "code",
   "execution_count": 11,
   "metadata": {
    "collapsed": false
   },
   "outputs": [
    {
     "name": "stdout",
     "output_type": "stream",
     "text": [
      "{'18079339': 'Q99KI0', '6681095': 'P62897', '188035915': 'Q9DBF1', '31982300': 'P02088', '6755114': 'P99029', '21704100': 'Q99JY0', '6680690': 'P20108', '6679261': 'P35486', '102468565': 'Q9JLT4', '18250284': 'Q9D6R2', '38142460': 'Q9DCW4', '225543103': 'Q8CHT0', '31982856': 'O08749', '21699068': 'Q8K411', '257796245': 'Q8BMF4', '21313679': 'Q9DCX2', '31981810': 'P42125', '33859811': 'Q8BMS1', '226823367': 'P97807', '225579033': 'P54071', '254540162': 'Q91ZA3', '29126205': 'Q8BWT1', '256220343': 'Q99LB2', '9789985': 'Q9JHI5', '6680618': 'P45952', '6680027': 'P26443', '183396771': 'P63038', '116268115': 'Q9JLZ3', '21450129': 'Q8QZT1', '170172520': 'P53395', '6754036': 'P05202', '21313536': 'Q9D2G2', '31982522': 'Q07417', '31982186': 'P08249', '13385942': 'Q9CZU6', '238624114': 'Q9QYR9', '20070412': 'Q9DB20', '162461907': 'P38647', '6753810': 'P11404', '31980762': 'P09671', '31980648': 'P56480', '255708423': 'P04247', '31980744': 'Q9CPQ8', '31982520': 'P51174', '18152793': 'Q9D051', '21704140': 'Q99L13', '111038118': 'Q61425', '85662408': 'P47934', '227500281': 'Q99LC5', '162138915': 'P52825', '54607098': 'Q8K2B3'}\n",
      "51\n"
     ]
    }
   ],
   "source": [
    "# make mapping dictionary between GI id and Uniprot ID\n",
    "GI2Uniprot = {}\n",
    "\n",
    "with IOTools.openFile(sad_map_inf, 'r') as inf:\n",
    "    lines = csv.reader(inf, delimiter='\\t', quotechar='\"')\n",
    "    next(lines)\n",
    "    for line in lines:\n",
    "        GI2Uniprot[line[0]] = line[2]\n",
    "        \n",
    "print(GI2Uniprot)\n",
    "print(len(GI2Uniprot))"
   ]
  },
  {
   "cell_type": "code",
   "execution_count": 12,
   "metadata": {
    "collapsed": false
   },
   "outputs": [],
   "source": [
    "n1 = 0\n",
    "n2 = 0\n",
    "with IOTools.openFile(sad_inf, 'r') as inf:\n",
    "    lines = csv.reader(inf, delimiter='\\t', quotechar='\"')\n",
    "    next(lines)\n",
    "    for line in lines:\n",
    "        try:\n",
    "            protein = GI2Uniprot[line[3]]\n",
    "            n1 += 1\n",
    "        except KeyError:\n",
    "            n2 += 1\n",
    "            continue\n",
    "    "
   ]
  },
  {
   "cell_type": "code",
   "execution_count": 13,
   "metadata": {
    "collapsed": false
   },
   "outputs": [],
   "source": [
    "outfile = os.path.join(results, 'lysine_modification.tsv')"
   ]
  },
  {
   "cell_type": "code",
   "execution_count": 14,
   "metadata": {
    "collapsed": false
   },
   "outputs": [
    {
     "data": {
      "text/plain": [
       "54"
      ]
     },
     "execution_count": 14,
     "metadata": {},
     "output_type": "execute_result"
    }
   ],
   "source": [
    "outf = IOTools.openFile(outfile, 'w')\n",
    "outf.write(\"%s\\n\" % '\\t'.join(['Protein', 'Position', 'Modification', 'Reference', 'ratio', 'p_value']))"
   ]
  },
  {
   "cell_type": "code",
   "execution_count": 15,
   "metadata": {
    "collapsed": false
   },
   "outputs": [
    {
     "name": "stdout",
     "output_type": "stream",
     "text": [
      "No ID match:\n",
      "['SNIKAAWGK', 'N-Term(Dimethyl); K4(Succinyl); K9(Dimethyl)', '0.43', '145301578', 'hemoglobin subunit alpha [Mus musculus]']\n",
      "No ID match:\n",
      "['GVTEAHVDQKNK', 'N-Term(Dimethyl); K10(Succinyl); K12(Dimethyl)', '6.25', '149274887', 'PREDICTED: ES1 protein homolog, mitochondrial-like isoform 2 [Mus musculus]']\n",
      "No ID match:\n",
      "['GLVAVVTGGASGLGLATAKR', 'N-Term(Dimethyl); K19(Succinyl)', '1.34', '61888838', '3-hydroxyacyl-CoA dehydrogenase type-2 [Mus musculus]']\n"
     ]
    }
   ],
   "source": [
    "with IOTools.openFile(sad_inf, 'r') as inf:\n",
    "    lines = csv.reader(inf, delimiter='\\t', quotechar='\"')\n",
    "    next(lines)\n",
    "    for line in lines:\n",
    "        \n",
    "        try:\n",
    "            protein = GI2Uniprot[line[3]]\n",
    "        except KeyError:\n",
    "            print('No ID match:')\n",
    "            print(line)\n",
    "            continue\n",
    "\n",
    "        peptide = line[0]\n",
    "        ratio = line[2]\n",
    "        ix, base_ix = 0,0\n",
    "\n",
    "        peptide_positions = []\n",
    "\n",
    "        if len(protein) == 0:\n",
    "            continue\n",
    "\n",
    "        for modification in line[1].split(\"; \"):\n",
    "            if '(Succinyl)' in modification:\n",
    "                peptide_positions.append(int(modification.replace('(Succinyl)', '')[1:]))\n",
    "\n",
    "        seq, method = sequence.getSequence(protein)\n",
    "\n",
    "        if seq is None:\n",
    "            continue\n",
    "\n",
    "        try:\n",
    "            protein_position = seq.find(peptide)\n",
    "        except:\n",
    "            print(seq, method, protein)\n",
    "            raise ValueError()\n",
    "\n",
    "        if protein_position == -1:\n",
    "            continue\n",
    "\n",
    "        for peptide_position in peptide_positions:\n",
    "                position = protein_position + peptide_position\n",
    "                outf.write(\"%s\\n\" % '\\t'.join(\n",
    "                        [protein, str(position), 'succinylation', 'Sadhukhan_et_al_2016', ratio, \"-1\"]))\n"
   ]
  },
  {
   "cell_type": "code",
   "execution_count": 16,
   "metadata": {
    "collapsed": false
   },
   "outputs": [
    {
     "name": "stdout",
     "output_type": "stream",
     "text": [
      "lines done: 50 2017-03-30 15:41:51\n",
      "lines done: 100 2017-03-30 15:42:09\n",
      "lines done: 150 2017-03-30 15:42:20\n",
      "lines done: 200 2017-03-30 15:42:39\n",
      "lines done: 250 2017-03-30 15:42:54\n",
      "lines done: 300 2017-03-30 15:43:05\n",
      "lines done: 350 2017-03-30 15:43:23\n",
      "lines done: 400 2017-03-30 15:43:38\n",
      "lines done: 450 2017-03-30 15:43:52\n",
      "lines done: 500 2017-03-30 15:44:07\n",
      "lines done: 550 2017-03-30 15:44:26\n",
      "lines done: 600 2017-03-30 15:44:37\n",
      "lines done: 650 2017-03-30 15:45:02\n",
      "lines done: 700 2017-03-30 15:45:15\n",
      "lines done: 750 2017-03-30 15:45:31\n",
      "lines done: 800 2017-03-30 15:45:47\n",
      "lines done: 850 2017-03-30 15:46:16\n",
      "lines done: 900 2017-03-30 15:46:33\n",
      "lines done: 950 2017-03-30 15:46:41\n",
      "lines done: 1000 2017-03-30 15:47:08\n",
      "lines done: 1050 2017-03-30 15:47:22\n",
      "lines done: 1100 2017-03-30 15:47:40\n",
      "lines done: 1150 2017-03-30 15:47:55\n",
      "lines done: 1200 2017-03-30 15:48:09\n",
      "lines done: 1250 2017-03-30 15:48:27\n",
      "lines done: 1300 2017-03-30 15:48:43\n",
      "lines done: 1350 2017-03-30 15:48:59\n",
      "lines done: 1400 2017-03-30 15:49:09\n",
      "lines done: 1450 2017-03-30 15:49:27\n",
      "lines done: 1500 2017-03-30 15:49:35\n",
      "lines done: 1550 2017-03-30 15:49:48\n"
     ]
    }
   ],
   "source": [
    "count_modified = 0\n",
    "c = \"\"\n",
    "n = 0\n",
    "current_protein = \"\"\n",
    "with IOTools.openFile(sol_inf, 'r') as inf:\n",
    "    lines = csv.reader(inf, delimiter='\\t', quotechar='\"')\n",
    "    next(lines)\n",
    "    next(lines)\n",
    "    next(lines)\n",
    "    for line in lines:\n",
    "        n+=1\n",
    "        proteins = line[7].split(\";\")\n",
    "        peptide = line[12].replace(\"_\", \"\")\n",
    "        ratio = line[18]\n",
    "        ix, base_ix = 0,0\n",
    "        stripped_peptide = \"\"\n",
    "        peptide_positions = []\n",
    "        \n",
    "        if len(proteins) == 0:\n",
    "            continue\n",
    "        \n",
    "        while True:\n",
    "            base = peptide[ix]\n",
    "            stripped_peptide += base\n",
    "\n",
    "            if ix == len(peptide) - 1:\n",
    "                break\n",
    "\n",
    "            elif base == 'K' and peptide[ix+1: ix+5] == \"(ac)\":\n",
    "                peptide_positions.append(base_ix)\n",
    "                count_modified += 1\n",
    "                base_ix += 1\n",
    "                ix += 5\n",
    "                if ix == len(peptide):\n",
    "                    break\n",
    "            else:\n",
    "                base_ix += 1\n",
    "                ix += 1\n",
    "        \n",
    "        for protein in proteins:\n",
    "            \n",
    "            if len(protein.split(\"-\")) > 1 and protein.split(\"-\")[0] in proteins:\n",
    "                continue\n",
    "            \n",
    "            if protein != current_protein:\n",
    "                current_protein = protein\n",
    "                seq, method = sequence.getSequence(protein)\n",
    "            \n",
    "            if seq is None:\n",
    "                continue\n",
    "            \n",
    "            try:\n",
    "                protein_position = seq.find(stripped_peptide)\n",
    "            except:\n",
    "                print(seq, method, protein)\n",
    "                raise ValueError()\n",
    "            \n",
    "            if protein_position == -1:\n",
    "                continue\n",
    "            \n",
    "            for peptide_position in peptide_positions:\n",
    "                    position = protein_position + 1 + peptide_position\n",
    "                    outf.write(\"%s\\n\" % '\\t'.join(\n",
    "                            [protein, str(position), 'acetylation', 'Sol_et_al_2012', ratio, \"-1\"]))\n",
    "\n",
    "        if n % 50 == 0:\n",
    "            print('lines done: %i %s' % (\n",
    "                   n, strftime(\"%Y-%m-%d %H:%M:%S\", gmtime())))\n"
   ]
  },
  {
   "cell_type": "code",
   "execution_count": 17,
   "metadata": {
    "collapsed": false
   },
   "outputs": [],
   "source": [
    "checked = set()\n",
    "\n",
    "with IOTools.openFile(tan_inf, 'r') as inf:\n",
    "    lines = csv.reader(inf, delimiter='\\t', quotechar='\"')\n",
    "    next(lines)\n",
    "    for line in lines:\n",
    "        gene_names = line[3].split(';')\n",
    "        gene_description = line[4]\n",
    "\n",
    "        matches = set()\n",
    "        for gene in gene_names:\n",
    "            \n",
    "            if gene.lower() not in checked:\n",
    "                try:\n",
    "                    matches.add(genename2uniprot[gene.lower()][0])\n",
    "                    checked.add(gene.lower())\n",
    "\n",
    "                except:\n",
    "                    pass\n",
    "\n",
    "            else:\n",
    "                matches.add(genename2uniprot[gene.lower()][0])\n",
    "        \n",
    "        \n",
    "        if len(matches) == 0:\n",
    "            matches = (gene_description2UniprotId[gene_description],)\n",
    "\n",
    "        for match in matches:\n",
    "            outf.write(\"%s\\n\" % '\\t'.join([match, '', 'glutarylation', 'Tan_et_al_2014', \"-1\", \"-1\"]))\n",
    "            "
   ]
  },
  {
   "cell_type": "code",
   "execution_count": 18,
   "metadata": {
    "collapsed": false
   },
   "outputs": [
    {
     "name": "stdout",
     "output_type": "stream",
     "text": [
      "996 1043\n"
     ]
    }
   ],
   "source": [
    "count_succ = parseRardinNishida(rardin_inf, outf, 10, 11, 4, 100, 'succinylation', 'Rardin_et_al_2013')\n",
    "count_malon = parseRardinNishida(nishida_inf, outf, 19, 20, 5, 86, 'malonylation', 'Nishida_et_al_2015')\n",
    "print(count_succ, count_malon)\n"
   ]
  },
  {
   "cell_type": "code",
   "execution_count": 19,
   "metadata": {
    "collapsed": false
   },
   "outputs": [],
   "source": [
    "with IOTools.openFile(weinert_succ_inf, 'r') as inf:\n",
    "    lines = csv.reader(inf, delimiter=',', quotechar='\"')\n",
    "    next(lines)\n",
    "    for line in lines:\n",
    "        protein = line[3]\n",
    "        position = line[4]\n",
    "        outf.write(\"%s\\n\" % '\\t'.join([protein, position, 'succinylation', 'Weinert_et_al_2013', \"-1\", \"-1\"]))\n",
    "                \n",
    "#this is a mess. Sort it out!!!\n",
    "with IOTools.openFile(weinert_acet_inf, 'r') as inf:\n",
    "    lines = csv.reader(inf, delimiter=',', quotechar='\"')\n",
    "    next(lines)\n",
    "    for line in lines:\n",
    "        proteins = [line[3]]\n",
    "        if len(proteins[0]) > 0:\n",
    "            try:\n",
    "                positions = [line[2].split(\";\")[line[1].split(\";\").index(proteins[0])]]\n",
    "            except:\n",
    "                proteins = line[1].split(\";\")\n",
    "                positions = line[2].split(\";\")\n",
    "        else:\n",
    "            proteins = line[1].split(\";\")\n",
    "            positions = line[2].split(\";\")\n",
    "\n",
    "        for protein, position in zip(proteins, positions):\n",
    "            outf.write(\"%s\\n\" % '\\t'.join([protein, position, 'acetylation', 'Weinert_et_al_2013', \"-1\", \"-1\"]))"
   ]
  },
  {
   "cell_type": "code",
   "execution_count": 20,
   "metadata": {
    "collapsed": false
   },
   "outputs": [],
   "source": [
    "with IOTools.openFile(park_inf, 'r') as inf:\n",
    "    lines = csv.reader(inf, delimiter=',', quotechar='\"')\n",
    "    next(lines)\n",
    "    for line in lines:\n",
    "\n",
    "        if len(line[3]) > 0:\n",
    "            proteins = [line[3]]\n",
    "            positions = [line[1].split(\";\")[line[0].split(\";\").index(proteins[0])]]\n",
    "\n",
    "        else:\n",
    "            proteins = line[0].split(\";\")\n",
    "            positions = line[1].split(\";\")\n",
    "        \n",
    "        KO_only = line[18] == 'Sirt5 KO Only'\n",
    "        ratio = line[24]\n",
    "        if ratio == \"-\" or KO_only:\n",
    "            ratio = \"-1\"\n",
    "\n",
    "        if KO_only:\n",
    "            for protein, position in (zip(proteins, positions)):\n",
    "                outf.write(\"%s\\n\" % '\\t'.join([protein, position, 'succinylation_SIRT5_KO', 'Park_et_al_2013', ratio, \"-1\"]))\n",
    "        else:\n",
    "            if len(line[3])==0 in proteins:\n",
    "                print(line)\n",
    "                print(len(line))\n",
    "                print(proteins)\n",
    "                print(positions)\n",
    "                print(ratio)\n",
    "                print([(x,y) for x,y in zip(proteins, positions)])\n",
    "                print(\"\")\n",
    "            for protein, position in (zip(proteins, positions)):\n",
    "                outf.write(\"%s\\n\" % '\\t'.join([protein, position, 'succinylation', 'Park_et_al_2013', ratio, \"-1\"]))"
   ]
  },
  {
   "cell_type": "code",
   "execution_count": 21,
   "metadata": {
    "collapsed": false
   },
   "outputs": [],
   "source": [
    "with IOTools.openFile(colaka_inf, 'r') as inf:\n",
    "    lines = csv.reader(inf, delimiter='\\t', quotechar='\"')\n",
    "    next(lines)\n",
    "    for line in lines:\n",
    "        proteins = line[0]\n",
    "        positions = line[28]\n",
    "        if len(proteins)>1:\n",
    "            for protein, position in (zip(proteins.split(';'), positions.split(';'))):\n",
    "                outf.write(\"%s\\n\" % '\\t'.join([protein, position, 'malonylation', 'Colaka_et_al_2015', \"-1\", \"-1\"]))"
   ]
  },
  {
   "cell_type": "code",
   "execution_count": 22,
   "metadata": {
    "collapsed": false
   },
   "outputs": [],
   "source": [
    "outf.close()"
   ]
  },
  {
   "cell_type": "code",
   "execution_count": 23,
   "metadata": {
    "collapsed": false
   },
   "outputs": [
    {
     "name": "stdout",
     "output_type": "stream",
     "text": [
      "  Protein  Position   Modification             Reference  ratio  p_value\n",
      "0  Q9JLT4     337.0  succinylation  Sadhukhan_et_al_2016   1.47     -1.0\n",
      "1  Q61425     179.0  succinylation  Sadhukhan_et_al_2016   1.07     -1.0\n",
      "2  Q61425     241.0  succinylation  Sadhukhan_et_al_2016   1.33     -1.0\n",
      "3  Q9JLZ3     179.0  succinylation  Sadhukhan_et_al_2016   4.70     -1.0\n",
      "4  Q9CZU6     450.0  succinylation  Sadhukhan_et_al_2016  57.68     -1.0\n",
      "{'Weinert_et_al_2013', 'Sadhukhan_et_al_2016', 'Colaka_et_al_2015', 'Sol_et_al_2012', 'Rardin_et_al_2013', 'Park_et_al_2013', 'Tan_et_al_2014', 'Nishida_et_al_2015'}\n",
      "Counter({'Weinert_et_al_2013': 6221, 'Sol_et_al_2012': 4848, 'Colaka_et_al_2015': 4209, 'Park_et_al_2013': 1085, 'Nishida_et_al_2015': 1043, 'Rardin_et_al_2013': 996, 'Tan_et_al_2014': 825, 'Sadhukhan_et_al_2016': 119})\n"
     ]
    }
   ],
   "source": [
    "lysine_df = pd.read_table(outfile, sep='\\t')\n",
    "print(lysine_df.head())\n",
    "print(set(lysine_df['Reference']))\n",
    "print(collections.Counter(lysine_df['Reference']))"
   ]
  },
  {
   "cell_type": "code",
   "execution_count": 70,
   "metadata": {
    "collapsed": false
   },
   "outputs": [
    {
     "name": "stdout",
     "output_type": "stream",
     "text": [
      "      Protein  Position   Modification             Reference  ratio  p_value\n",
      "0      Q9JLT4     337.0  succinylation  Sadhukhan_et_al_2016   1.47     -1.0\n",
      "5208   Q9JLT4       NaN  glutarylation        Tan_et_al_2014  -1.00     -1.0\n",
      "5209   Q9JLT4       NaN  glutarylation        Tan_et_al_2014  -1.00     -1.0\n",
      "5210   Q9JLT4       NaN  glutarylation        Tan_et_al_2014  -1.00     -1.0\n",
      "5211   Q9JLT4       NaN  glutarylation        Tan_et_al_2014  -1.00     -1.0\n",
      "5212   Q9JLT4       NaN  glutarylation        Tan_et_al_2014  -1.00     -1.0\n",
      "9111   Q9JLT4     337.0  succinylation    Weinert_et_al_2013  -1.00     -1.0\n",
      "9112   Q9JLT4     215.0  succinylation    Weinert_et_al_2013  -1.00     -1.0\n",
      "9113   Q9JLT4     329.0  succinylation    Weinert_et_al_2013  -1.00     -1.0\n",
      "12503  Q9JLT4     215.0    acetylation    Weinert_et_al_2013  -1.00     -1.0\n",
      "12840  Q9JLT4     329.0    acetylation    Weinert_et_al_2013  -1.00     -1.0\n",
      "14136  Q9JLT4     337.0  succinylation       Park_et_al_2013  -1.00     -1.0\n",
      "14137  Q9JLT4     329.0  succinylation       Park_et_al_2013  -1.00     -1.0\n"
     ]
    }
   ],
   "source": [
    "print(lysine_df[lysine_df['Protein']=='Q9JLT4'])"
   ]
  },
  {
   "cell_type": "code",
   "execution_count": 24,
   "metadata": {
    "collapsed": false
   },
   "outputs": [],
   "source": [
    "lysine_df_pivot = lysine_df.pivot_table(values='Reference', index='Protein', columns='Modification',\n",
    "                                        aggfunc=lambda x: len(x)>0)\n",
    "\n",
    "lysine_df_pivot = lysine_df_pivot.applymap(lambda x: 1 if x else 0)"
   ]
  },
  {
   "cell_type": "code",
   "execution_count": 25,
   "metadata": {
    "collapsed": true
   },
   "outputs": [],
   "source": [
    "lysine_df_pivot2 = lysine_df.pivot_table(values='Reference', index=['Protein', 'Position'], columns='Modification',\n",
    "                                        aggfunc=lambda x: len(x)>0)\n",
    "\n",
    "lysine_df_pivot2 = lysine_df_pivot2.applymap(lambda x: 1 if x else 0)"
   ]
  },
  {
   "cell_type": "code",
   "execution_count": 26,
   "metadata": {
    "collapsed": false
   },
   "outputs": [
    {
     "name": "stdout",
     "output_type": "stream",
     "text": [
      "Modification      acetylation  malonylation  succinylation  \\\n",
      "Protein Position                                             \n",
      "A0AUV1  5.0                 1             0              0   \n",
      "        9.0                 1             0              0   \n",
      "        95.0                1             0              0   \n",
      "        118.0               1             0              0   \n",
      "A0JLP6  335.0               1             0              0   \n",
      "\n",
      "Modification      succinylation_SIRT5_KO  \n",
      "Protein Position                          \n",
      "A0AUV1  5.0                            0  \n",
      "        9.0                            0  \n",
      "        95.0                           0  \n",
      "        118.0                          0  \n",
      "A0JLP6  335.0                          0  \n",
      "Modification      acetylation  malonylation  succinylation  \\\n",
      "Protein Position                                             \n",
      "A2AS89  223.0               1             1              1   \n",
      "A6ZI44  96.0                1             1              1   \n",
      "B1ATI0  296.0               1             1              1   \n",
      "B1AX58  554.0               1             1              1   \n",
      "D3Z041  533.0               1             1              1   \n",
      "\n",
      "Modification      succinylation_SIRT5_KO  \n",
      "Protein Position                          \n",
      "A2AS89  223.0                          0  \n",
      "A6ZI44  96.0                           0  \n",
      "B1ATI0  296.0                          0  \n",
      "B1AX58  554.0                          0  \n",
      "D3Z041  533.0                          0  \n",
      "(605, 4)\n"
     ]
    }
   ],
   "source": [
    "print(lysine_df_pivot2.head())\n",
    "print(lysine_df_pivot2[[x==3 for x in lysine_df_pivot2.apply(sum, 1).tolist()]].head())\n",
    "print(lysine_df_pivot2[[x==3 for x in lysine_df_pivot2.apply(sum, 1).tolist()]].shape)\n",
    "competitive_modifications = lysine_df_pivot2[\n",
    "            [x==3 for x in lysine_df_pivot2[['acetylation', 'malonylation', 'succinylation']].apply(\n",
    "                sum, 1).tolist()]\n",
    "        ].index.get_level_values('Protein').unique()"
   ]
  },
  {
   "cell_type": "code",
   "execution_count": 27,
   "metadata": {
    "collapsed": false
   },
   "outputs": [
    {
     "name": "stdout",
     "output_type": "stream",
     "text": [
      "269\n"
     ]
    }
   ],
   "source": [
    "print(len(competitive_modifications))"
   ]
  },
  {
   "cell_type": "code",
   "execution_count": 28,
   "metadata": {
    "collapsed": false
   },
   "outputs": [
    {
     "name": "stdout",
     "output_type": "stream",
     "text": [
      "Modification  acetylation  glutarylation  malonylation  succinylation  \\\n",
      "Protein                                                                 \n",
      "A0AUV1                  1              0             0              0   \n",
      "A0JLP6                  1              0             0              0   \n",
      "A0JLR7                  1              0             0              0   \n",
      "A0JLT5                  1              0             0              0   \n",
      "A0JLV3                  1              0             0              0   \n",
      "\n",
      "Modification  succinylation_SIRT5_KO  \n",
      "Protein                               \n",
      "A0AUV1                             0  \n",
      "A0JLP6                             0  \n",
      "A0JLR7                             0  \n",
      "A0JLT5                             0  \n",
      "A0JLV3                             0  \n",
      "Modification  acetylation  glutarylation  malonylation  succinylation  \\\n",
      "Protein                                                                 \n",
      "Q9Z2Z6                  1              0             0              1   \n",
      "Q9Z321                  1              0             0              0   \n",
      "S4R1M2                  0              0             1              0   \n",
      "S4R2N8                  0              0             1              0   \n",
      "Z4YJV4                  0              1             0              0   \n",
      "\n",
      "Modification  succinylation_SIRT5_KO  \n",
      "Protein                               \n",
      "Q9Z2Z6                             0  \n",
      "Q9Z321                             0  \n",
      "S4R1M2                             0  \n",
      "S4R2N8                             0  \n",
      "Z4YJV4                             0  \n",
      "Modification  acetylation  glutarylation  malonylation  succinylation  \\\n",
      "Protein                                                                 \n",
      "D3Z7X0                  1              1             1              1   \n",
      "E9PZF0                  1              0             1              1   \n",
      "O08756                  1              1             1              1   \n",
      "O08997                  1              1             1              1   \n",
      "O35143                  1              0             1              1   \n",
      "\n",
      "Modification  succinylation_SIRT5_KO  \n",
      "Protein                               \n",
      "D3Z7X0                             0  \n",
      "E9PZF0                             1  \n",
      "O08756                             0  \n",
      "O08997                             0  \n",
      "O35143                             1  \n",
      "(121, 5)\n",
      "(4246, 5)\n"
     ]
    }
   ],
   "source": [
    "print(lysine_df_pivot.head())\n",
    "print(lysine_df_pivot.tail())\n",
    "print(lysine_df_pivot[lysine_df_pivot.apply(sum, 1)==4].head())\n",
    "print(lysine_df_pivot[lysine_df_pivot.apply(sum, 1)==4].shape)\n",
    "print(lysine_df_pivot[lysine_df_pivot.apply(sum, 1)!=4].shape)"
   ]
  },
  {
   "cell_type": "code",
   "execution_count": 29,
   "metadata": {
    "collapsed": false
   },
   "outputs": [],
   "source": [
    "lysine_df_pivot['all_modifications'] = [x == 4 for x in lysine_df_pivot[\n",
    "        ['acetylation', 'glutarylation', 'malonylation', 'succinylation']].apply(sum, 1)]\n",
    "\n",
    "lysine_df_pivot['all_modifications'] = [x == 3 for x in lysine_df_pivot[\n",
    "        ['acetylation', 'malonylation', 'succinylation']].apply(sum, 1)]\n",
    "\n",
    "lysine_df_pivot['all_modifications'] = lysine_df_pivot['all_modifications'].astype(int)"
   ]
  },
  {
   "cell_type": "code",
   "execution_count": 30,
   "metadata": {
    "collapsed": true
   },
   "outputs": [],
   "source": [
    "lysine_df_pivot['competitive_modifications'] = [x in competitive_modifications for x in lysine_df_pivot.index]\n",
    "lysine_df_pivot['competitive_modifications'] = lysine_df_pivot['competitive_modifications'].astype(int)"
   ]
  },
  {
   "cell_type": "code",
   "execution_count": null,
   "metadata": {
    "collapsed": true
   },
   "outputs": [],
   "source": []
  },
  {
   "cell_type": "code",
   "execution_count": 31,
   "metadata": {
    "collapsed": false
   },
   "outputs": [
    {
     "name": "stdout",
     "output_type": "stream",
     "text": [
      "Modification  acetylation  glutarylation  malonylation  succinylation  \\\n",
      "Protein                                                                 \n",
      "A0AUV1                  1              0             0              0   \n",
      "A0JLP6                  1              0             0              0   \n",
      "A0JLR7                  1              0             0              0   \n",
      "A0JLT5                  1              0             0              0   \n",
      "A0JLV3                  1              0             0              0   \n",
      "\n",
      "Modification  succinylation_SIRT5_KO  all_modifications  \\\n",
      "Protein                                                   \n",
      "A0AUV1                             0                  0   \n",
      "A0JLP6                             0                  0   \n",
      "A0JLR7                             0                  0   \n",
      "A0JLT5                             0                  0   \n",
      "A0JLV3                             0                  0   \n",
      "\n",
      "Modification  competitive_modifications  \n",
      "Protein                                  \n",
      "A0AUV1                                0  \n",
      "A0JLP6                                0  \n",
      "A0JLR7                                0  \n",
      "A0JLT5                                0  \n",
      "A0JLV3                                0  \n",
      "Modification  acetylation  glutarylation  malonylation  succinylation  \\\n",
      "Protein                                                                 \n",
      "A2AFQ2                  1              0             1              1   \n",
      "A2AQN4                  1              0             1              1   \n",
      "A2ARD6                  1              0             1              1   \n",
      "A2AS89                  1              0             1              1   \n",
      "A6ZI44                  1              0             1              1   \n",
      "\n",
      "Modification  succinylation_SIRT5_KO  all_modifications  \\\n",
      "Protein                                                   \n",
      "A2AFQ2                             0                  1   \n",
      "A2AQN4                             0                  1   \n",
      "A2ARD6                             0                  1   \n",
      "A2AS89                             0                  1   \n",
      "A6ZI44                             0                  1   \n",
      "\n",
      "Modification  competitive_modifications  \n",
      "Protein                                  \n",
      "A2AFQ2                                0  \n",
      "A2AQN4                                0  \n",
      "A2ARD6                                0  \n",
      "A2AS89                                1  \n",
      "A6ZI44                                1  \n",
      "(502, 7)\n",
      "(269, 7)\n"
     ]
    }
   ],
   "source": [
    "print(lysine_df_pivot.head())\n",
    "print(lysine_df_pivot[lysine_df_pivot['all_modifications'] == True].head())\n",
    "print(lysine_df_pivot[lysine_df_pivot['all_modifications'] == True].shape)\n",
    "print(lysine_df_pivot[lysine_df_pivot['competitive_modifications'] == True].shape)"
   ]
  },
  {
   "cell_type": "code",
   "execution_count": 32,
   "metadata": {
    "collapsed": false
   },
   "outputs": [],
   "source": [
    "lysine_df_pivot.to_csv(os.path.join(results, 'lysine_modification_summary.tsv'), sep='\\t')"
   ]
  },
  {
   "cell_type": "markdown",
   "metadata": {},
   "source": [
    "Next we use the localisations from the hyperlopit data\n"
   ]
  },
  {
   "cell_type": "code",
   "execution_count": 33,
   "metadata": {
    "collapsed": false
   },
   "outputs": [],
   "source": [
    "%%R\n",
    "library(ggplot2)\n",
    "hyperlopit_inf = '/home/FILESERVER5/proteomics/tss38/anaconda3/lib/R/library/pRolocdata/extdata/hyperLOPIT-SIData-ms3-rep12-intersect.csv.gz'\n",
    "#header1 <- scan(hyperlopit_inf, nlines = 1, what = character(), sep=',')\n",
    "#header2 <- scan(hyperlopit_inf, skip = 1, nlines = 1, what = character(), sep=',')\n",
    "#header_lines <- gsub(\" \", \".\", gsub(\" - $\", \"\", (gsub(\"^ - \", \"\", paste(header1, header2, sep=' - ')))))\n",
    "#print(header_lines)\n",
    "#hyperlopit <- read.table(hyperlopit_inf, sep=',', header=F, skip=2)\n",
    "#colnames(hyperlopit) <- header_lines\n",
    "#hyperlopit <- hyperlopit[,c('UniProt.Accession.for.Protein.Group', 'Final.Localization.Assignment')]\n",
    "#colnames(hyperlopit) <- c('uniprotID', 'Localization')"
   ]
  },
  {
   "cell_type": "code",
   "execution_count": 34,
   "metadata": {
    "collapsed": false
   },
   "outputs": [
    {
     "name": "stdout",
     "output_type": "stream",
     "text": [
      "(4413, 94)\n"
     ]
    }
   ],
   "source": [
    "df = pd.read_table('~/WT/NML/hyperLOPIT-enrichment/R/hl_subset.tsv', sep='\\t')\n",
    "print(df.shape)"
   ]
  },
  {
   "cell_type": "code",
   "execution_count": 35,
   "metadata": {
    "collapsed": false
   },
   "outputs": [
    {
     "data": {
      "text/plain": [
       "[1] 4413   94\n",
       "  uniprot.accession Final.Localization.Assignment\n",
       "1            Q9JHU4                  unclassified\n",
       "2            Q9ERU9           Nucleus - Chromatin\n",
       "3            P26039            Actin cytoskeleton\n",
       "4            Q8BTM8                  unclassified\n",
       "5            A2ARV4                  unclassified\n",
       "6            Q80X90                  unclassified\n",
       "[1] 4413    2\n"
      ]
     },
     "metadata": {},
     "output_type": "display_data"
    }
   ],
   "source": [
    "%%R\n",
    "n <- count.fields(hyperlopit_inf, sep='\\t', blank.lines.skip=FALSE)\n",
    "hyperlopit_inf = '~/WT/NML/hyperLOPIT-enrichment/R/hl_subset.tsv'\n",
    "hyperlopit_df = read.table(hyperlopit_inf, sep='\\t', header=T, quote = \"\", comment.char = \"\")\n",
    "print(dim(hyperlopit_df))\n",
    "\n",
    "hyperlopit_df <- hyperlopit_df[,c('uniprot.accession', 'Final.Localization.Assignment')]\n",
    "print(head(hyperlopit_df))\n",
    "print(dim(hyperlopit_df))"
   ]
  },
  {
   "cell_type": "markdown",
   "metadata": {},
   "source": [
    "Now we merege in the modification data"
   ]
  },
  {
   "cell_type": "code",
   "execution_count": null,
   "metadata": {
    "collapsed": false
   },
   "outputs": [],
   "source": []
  },
  {
   "cell_type": "code",
   "execution_count": 36,
   "metadata": {
    "collapsed": false
   },
   "outputs": [
    {
     "data": {
      "text/plain": [
       "       acetylation glutarylation malonylation succinylation\n",
       "A0AUV1           1             0            0             0\n",
       "A0JLP6           1             0            0             0\n",
       "A0JLR7           1             0            0             0\n",
       "A0JLT5           1             0            0             0\n",
       "A0JLV3           1             0            0             0\n",
       "A0JNS9           1             0            0             0\n",
       "       succinylation_SIRT5_KO all_modifications competitive_modifications\n",
       "A0AUV1                      0                 0                         0\n",
       "A0JLP6                      0                 0                         0\n",
       "A0JLR7                      0                 0                         0\n",
       "A0JLT5                      0                 0                         0\n",
       "A0JLV3                      0                 0                         0\n",
       "A0JNS9                      0                 0                         0\n",
       "       uniprotID\n",
       "A0AUV1    A0AUV1\n",
       "A0JLP6    A0JLP6\n",
       "A0JLR7    A0JLR7\n",
       "A0JLT5    A0JLT5\n",
       "A0JLV3    A0JLV3\n",
       "A0JNS9    A0JNS9\n",
       "  uniprot.accession Final.Localization.Assignment\n",
       "1            Q9JHU4                  unclassified\n",
       "2            Q9ERU9           Nucleus - Chromatin\n",
       "3            P26039            Actin cytoskeleton\n",
       "4            Q8BTM8                  unclassified\n",
       "5            A2ARV4                  unclassified\n",
       "6            Q80X90                  unclassified\n",
       "       uniprot.accession Final.Localization.Assignment acetylation\n",
       "A2A432            A2A432                  unclassified           0\n",
       "A2A4P0            A2A4P0       Nucleus - Non-chromatin           0\n",
       "A2A5R2            A2A5R2                  unclassified           0\n",
       "A2A791            A2A791           Nucleus - Chromatin           1\n",
       "A2A8L5            A2A8L5               Plasma membrane           0\n",
       "A2A8Z1            A2A8Z1                  unclassified           1\n",
       "       glutarylation malonylation succinylation succinylation_SIRT5_KO\n",
       "A2A432             0            1             0                      0\n",
       "A2A4P0             0            0             0                      0\n",
       "A2A5R2             0            0             0                      0\n",
       "A2A791             0            1             0                      0\n",
       "A2A8L5             0            0             0                      0\n",
       "A2A8Z1             0            0             0                      0\n",
       "       all_modifications competitive_modifications\n",
       "A2A432                 0                         0\n",
       "A2A4P0                 0                         0\n",
       "A2A5R2                 0                         0\n",
       "A2A791                 0                         0\n",
       "A2A8L5                 0                         0\n",
       "A2A8Z1                 0                         0\n",
       "[1] TRUE\n",
       "[1] 4413    9\n",
       "[1] 4413    2\n"
      ]
     },
     "metadata": {},
     "output_type": "display_data"
    }
   ],
   "source": [
    "%%R -i lysine_df_pivot\n",
    "lysine_df_pivot$uniprotID <- rownames(lysine_df_pivot)\n",
    "#rownames(lysine_df_pivot) <- 1:length(rownames(lysine_df_pivot))\n",
    "print(head(lysine_df_pivot))\n",
    "print(head(hyperlopit_df))\n",
    "merged_df <- merge(hyperlopit_df, lysine_df_pivot, by.x='uniprot.accession', by.y='uniprotID', all.x=T)\n",
    "rownames(merged_df) <- merged_df$uniprot.accession\n",
    "merged_df[is.na(merged_df)] <- 0\n",
    "print(head(merged_df))\n",
    "print('P52480' %in% rownames(merged_df))\n",
    "print(dim(merged_df))\n",
    "print(dim(hyperlopit_df))\n"
   ]
  },
  {
   "cell_type": "code",
   "execution_count": 37,
   "metadata": {
    "collapsed": false
   },
   "outputs": [
    {
     "data": {
      "text/plain": [
       "[1] 78\n",
       "[1] 322\n"
      ]
     },
     "metadata": {},
     "output_type": "display_data"
    }
   ],
   "source": [
    "%%R \n",
    "cyt_succ <- rownames(merged_df[(merged_df$Final.Localization.Assignment=='Cytosol' & merged_df$succinylation==1),])\n",
    "cyt_all <- rownames(merged_df[(merged_df$Final.Localization.Assignment=='Cytosol'),])\n",
    "print(length(cyt_succ))\n",
    "print(length(cyt_all))"
   ]
  },
  {
   "cell_type": "markdown",
   "metadata": {},
   "source": [
    "Now we need the data from the E-cadherin interactome. We need to parse this data first so we'll do this in python then read into R from a flat file. In particular, we only want to rank the protein which we have hyperLOPIT data for."
   ]
  },
  {
   "cell_type": "code",
   "execution_count": 38,
   "metadata": {
    "collapsed": false
   },
   "outputs": [
    {
     "name": "stdout",
     "output_type": "stream",
     "text": [
      "4413\n"
     ]
    }
   ],
   "source": [
    "hyperlopit_proteins = set()\n",
    "hyperlopit_inf = '/home/FILESERVER5/proteomics/tss38/WT/NML/hyperLOPIT-enrichment/R/hl_subset.tsv'\n",
    "with IOTools.openFile(hyperlopit_inf, 'r') as inf:\n",
    "    header = next(inf).strip().split('\\t')\n",
    "    \n",
    "    uniprot_accession_ix = header.index('uniprot_ID')\n",
    "\n",
    "    for line in inf:\n",
    "        line = line.strip().split('\\t')\n",
    "        hyperlopit_proteins.add(line[uniprot_accession_ix])\n",
    "        if len(line[uniprot_accession_ix].split(';')) > 1:\n",
    "            print(line)\n",
    "            print(line[uniprot_accession_ix].split(';'))\n",
    "            break\n",
    "\n",
    "print(len(hyperlopit_proteins))"
   ]
  },
  {
   "cell_type": "code",
   "execution_count": 39,
   "metadata": {
    "collapsed": false,
    "scrolled": true
   },
   "outputs": [
    {
     "name": "stdout",
     "output_type": "stream",
     "text": [
      "0 11539\n",
      "['Q8JZK9', 'Q8BKE6', 'P97765', 'Q9QXT0', 'Q9D1M7', 'P68254', 'Q5NC05', 'Q9JJ80', 'O35685', 'Q3UYV9']\n",
      "['Q9UN86', 'P78371-2', 'Q4VBA9', 'Q96N67-5', 'B4DT13', 'J3KTF0', 'C9JRL4', 'E7EPS4', 'H0YGV7', 'H7C229']\n"
     ]
    }
   ],
   "source": [
    "ECadherin_inf = os.path.join(raw_base, \"ECadherin_interactome_glass.csv\")\n",
    "\n",
    "retained = 0\n",
    "discarded = set()\n",
    "\n",
    "with IOTools.openFile(os.path.join(raw_base, 'ECadherin_interactome_glass_parsed.tsv'), 'w') as outf:\n",
    "    with IOTools.openFile(ECadherin_inf, 'r') as inf:\n",
    "        rank = 1\n",
    "        next(inf) # skip header\n",
    "        outf.write('Uniprot_ID\\tRank\\n')\n",
    "        for line in inf:\n",
    "            line = line.strip().split('\\t')\n",
    "            ids = line[0].split(';')\n",
    "            for uni_id in ids:\n",
    "                if uni_id in hyperlopit_proteins:\n",
    "                    retained += 1\n",
    "                else:\n",
    "                    discarded.add(uni_id)\n",
    "\n",
    "print(retained, len(discarded))\n",
    "print(list(hyperlopit_proteins)[0:10])\n",
    "print(list(discarded)[0:10])"
   ]
  },
  {
   "cell_type": "markdown",
   "metadata": {},
   "source": [
    "Of course! The E-Cadherin data is from a human cell line. We need to find all the human orthologs for our mouse genes first then. I can't find any database linking uniprot IDs for humnan and mouse but this links Ensembl protein IDs:\n",
    "http://www.treefam.org/download#tabview=tab1\n",
    "\n",
    "So we need to convert the uniprot IDs to Ensemble protein IDs. We can do this with the downloads from Uniprot to map uniprot IDs to Ensemble IDs:\n"
   ]
  },
  {
   "cell_type": "code",
   "execution_count": 40,
   "metadata": {
    "collapsed": true
   },
   "outputs": [],
   "source": [
    "orthologs_inf = os.path.join(raw_base, 'Homo_sapiens-Mus_musculus.txt')\n",
    "mmUni2Ens_inf = os.path.join(raw_base, 'MOUSE_10090_idmapping_selected.tab')\n",
    "hgUni2Ens_inf = os.path.join(raw_base, 'HUMAN_9606_idmapping_selected.tab')"
   ]
  },
  {
   "cell_type": "code",
   "execution_count": 41,
   "metadata": {
    "collapsed": false
   },
   "outputs": [
    {
     "name": "stdout",
     "output_type": "stream",
     "text": [
      "{'ENSP00000319690', 'ENSP00000365370'}\n"
     ]
    }
   ],
   "source": [
    "mouse2humanEnsPro = collections.defaultdict(set)\n",
    "\n",
    "\n",
    "with IOTools.openFile(orthologs_inf, 'r') as inf:\n",
    "    for line in inf:\n",
    "        line = line.strip().split('\\t')\n",
    "        if line[5] == 'ortholog':\n",
    "            \n",
    "            if line[1] == 'Homo sapiens':\n",
    "                human_id = line[0]\n",
    "                mouse_id = line[2]\n",
    "\n",
    "            elif line[1] == 'Mus musculus':\n",
    "                human_id = line[2]\n",
    "                mouse_id = line[0]\n",
    "\n",
    "            else:\n",
    "                raise ValueError(line)\n",
    "\n",
    "            mouse2humanEnsPro[mouse_id].add(human_id)\n",
    "\n",
    "# some mouse IDs map to multiple human IDs. In many cases these will both map to the same uniprot ID\n",
    "#s o this is not an issue. We can track this following conversion\n",
    "print(mouse2humanEnsPro['ENSMUSP00000107237'])"
   ]
  },
  {
   "cell_type": "code",
   "execution_count": 42,
   "metadata": {
    "collapsed": false
   },
   "outputs": [
    {
     "name": "stdout",
     "output_type": "stream",
     "text": [
      "5411\n",
      "80930\n"
     ]
    }
   ],
   "source": [
    "mouseUni2Ens = {}\n",
    "no_id = 0\n",
    "yes_id = 0\n",
    "with IOTools.openFile(mmUni2Ens_inf, 'r') as inf:\n",
    "    for line in inf:\n",
    "        line = line.strip().split(\"\\t\")\n",
    "        uni_id = line[0]\n",
    "        try:\n",
    "            yes_id += 1\n",
    "            ens_ids = line[20].split('; ')\n",
    "            mouseUni2Ens[uni_id] = ens_ids\n",
    "        except:\n",
    "            no_id += 1\n",
    "\n",
    "print(no_id)\n",
    "print(yes_id)"
   ]
  },
  {
   "cell_type": "code",
   "execution_count": 43,
   "metadata": {
    "collapsed": false
   },
   "outputs": [
    {
     "name": "stdout",
     "output_type": "stream",
     "text": [
      "28487\n",
      "156710\n"
     ]
    }
   ],
   "source": [
    "humanEns2Uni = collections.defaultdict(set)\n",
    "no_id = 0\n",
    "yes_id = 0\n",
    "with IOTools.openFile(hgUni2Ens_inf, 'r') as inf:\n",
    "    for line in inf:\n",
    "        line = line.strip().split(\"\\t\")\n",
    "        uni_id = line[0]\n",
    "        try:\n",
    "            yes_id += 1\n",
    "            ens_ids = line[20].split('; ')\n",
    "            for ens_id in ens_ids:\n",
    "                humanEns2Uni[ens_id].add(uni_id)\n",
    "        except:\n",
    "            no_id += 1\n",
    "\n",
    "print(no_id)\n",
    "print(yes_id)\n"
   ]
  },
  {
   "cell_type": "code",
   "execution_count": 44,
   "metadata": {
    "collapsed": false
   },
   "outputs": [
    {
     "name": "stdout",
     "output_type": "stream",
     "text": [
      "ENSMUSP00000034834\n",
      "{'ENSP00000320171'}\n",
      "{'P14618'}\n",
      "ENSMUSP00000128770\n",
      "set()\n"
     ]
    }
   ],
   "source": [
    "# P52480 = mouse PKM\n",
    "# P14618 = mouse PKM\n",
    "for ens_id in mouseUni2Ens['P52480']:\n",
    "    print(ens_id)\n",
    "    print(mouse2humanEnsPro[ens_id])\n",
    "    for human_ens in mouse2humanEnsPro[ens_id]:\n",
    "        print(humanEns2Uni[human_ens])\n",
    "# This is working all OK for PKM!"
   ]
  },
  {
   "cell_type": "code",
   "execution_count": 45,
   "metadata": {
    "collapsed": false
   },
   "outputs": [
    {
     "name": "stdout",
     "output_type": "stream",
     "text": [
      "set()\n",
      "set()\n"
     ]
    }
   ],
   "source": [
    "print(mouse2humanEnsPro['ENSMUSP00000074500'])\n",
    "print(mouse2humanEnsPro['ENSP00000320171'])"
   ]
  },
  {
   "cell_type": "code",
   "execution_count": 46,
   "metadata": {
    "collapsed": false
   },
   "outputs": [
    {
     "name": "stdout",
     "output_type": "stream",
     "text": [
      "4413\n",
      "protein not found in uniprot mapping file:  Q9DCV5\n",
      "protein not found in uniprot mapping file:  Q9D365\n",
      "protein not found in uniprot mapping file:  Q8JZS9\n",
      "protein not found in uniprot mapping file:  P11260\n",
      "4409 3732 3733\n",
      "3621\n",
      "3704\n"
     ]
    }
   ],
   "source": [
    "print(len(hyperlopit_proteins))\n",
    "\n",
    "mmUni2Ens_matched, mm2hgUni_matched, hgEns2Uni_matched  = (0, 0, 0)\n",
    "hyperlopit_proteins_matched = 0\n",
    "\n",
    "hg_hyperlopit_proteins = set()\n",
    "\n",
    "for protein in hyperlopit_proteins:\n",
    "    matches = set()\n",
    "    try:\n",
    "        ens_ids = mouseUni2Ens[protein]\n",
    "        if len(ens_ids) > 0 :\n",
    "            mmUni2Ens_matched +=1 \n",
    "            for ens_id in ens_ids:\n",
    "                human_ens = mouse2humanEnsPro[ens_id]\n",
    "\n",
    "                if len(human_ens) > 0:\n",
    "                    mm2hgUni_matched += 1\n",
    "                    \n",
    "                    for human_en in human_ens:\n",
    "                        humanUnis = humanEns2Uni[human_en]\n",
    "                        #print(human_en)\n",
    "                        #print(humanUnis)\n",
    "\n",
    "                        if len(humanUnis) > 0:\n",
    "                            hgEns2Uni_matched += 1\n",
    "                            matches.update(humanUnis)\n",
    "                            #print(matches)\n",
    "                else:\n",
    "                    #print(ens_ids)\n",
    "                    #print(ens_id)\n",
    "                    #print(human_ens)\n",
    "                    #break\n",
    "                    pass\n",
    "\n",
    "        if len(matches) > 0:\n",
    "            hyperlopit_proteins_matched += 1\n",
    "            hg_hyperlopit_proteins.update(matches)\n",
    "                \n",
    "   \n",
    "    except:\n",
    "        print('protein not found in uniprot mapping file: ', protein)\n",
    "\n",
    "print(mmUni2Ens_matched, mm2hgUni_matched, hgEns2Uni_matched)\n",
    "print(hyperlopit_proteins_matched)\n",
    "print(len(hg_hyperlopit_proteins))\n",
    "            "
   ]
  },
  {
   "cell_type": "code",
   "execution_count": 47,
   "metadata": {
    "collapsed": true
   },
   "outputs": [],
   "source": [
    "def ConvertMouseUniprot2HumanUniprot(mm_proteins, mouseUni2Ens, mouse2humanEnsPro, humanEns2Uni, one2one=True):\n",
    "    mmUni2Ens_matched, mm2hgUni_matched, hgEns2Uni_matched, proteins_matched  = (0, 0, 0, 0)\n",
    "    \n",
    "    new_mm_proteins = []\n",
    "    new_hg_proteins = []\n",
    "    for protein in mm_proteins:\n",
    "        matches = set()\n",
    "        try:\n",
    "            ens_ids = mouseUni2Ens[protein]\n",
    "            if len(ens_ids) > 0 :\n",
    "                mmUni2Ens_matched +=1 \n",
    "                for ens_id in ens_ids:\n",
    "                    human_ens = mouse2humanEnsPro[ens_id]\n",
    "\n",
    "                    if len(human_ens) > 0:\n",
    "                        mm2hgUni_matched += 1\n",
    "\n",
    "                        for human_en in human_ens:\n",
    "                            humanUnis = humanEns2Uni[human_en]\n",
    "                            #print(human_en)\n",
    "                            #print(humanUnis)\n",
    "\n",
    "                            if len(humanUnis) > 0:\n",
    "                                hgEns2Uni_matched += 1\n",
    "                                matches.update(humanUnis)\n",
    "                                #print(matches)\n",
    "                    else:\n",
    "                        #print(ens_ids)\n",
    "                        #print(ens_id)\n",
    "                        #print(human_ens)\n",
    "                        #break\n",
    "                        pass\n",
    "\n",
    "                if len(matches) > 0:\n",
    "                    if one2one and len(matches) > 1:\n",
    "                        continue\n",
    "                    proteins_matched += 1\n",
    "                    for match in matches:\n",
    "                        new_hg_proteins.append(match)\n",
    "                        new_mm_proteins.append(protein)\n",
    "            \n",
    "        except KeyError:\n",
    "            print('protein not found in uniprot mapping file: ', protein)\n",
    "\n",
    "    print(mmUni2Ens_matched, mm2hgUni_matched, hgEns2Uni_matched, len(new_hg_proteins), proteins_matched)\n",
    "    \n",
    "    return new_mm_proteins, new_hg_proteins\n"
   ]
  },
  {
   "cell_type": "code",
   "execution_count": 48,
   "metadata": {
    "collapsed": false
   },
   "outputs": [
    {
     "name": "stdout",
     "output_type": "stream",
     "text": [
      "protein not found in uniprot mapping file:  Q9DCV5\n",
      "protein not found in uniprot mapping file:  Q9D365\n",
      "protein not found in uniprot mapping file:  Q8JZS9\n",
      "protein not found in uniprot mapping file:  P11260\n",
      "4409 3732 3733 3552 3552\n",
      "3552 3552 3552 3552\n"
     ]
    }
   ],
   "source": [
    "mm_all_hyperlopit,  hg_all_hyperlopit = ConvertMouseUniprot2HumanUniprot(hyperlopit_proteins, mouseUni2Ens, mouse2humanEnsPro, humanEns2Uni)\n",
    "print(len(mm_all_hyperlopit), len(hg_all_hyperlopit), len(set(mm_all_hyperlopit)), len(set(hg_all_hyperlopit)))\n",
    "\n",
    "%Rpush hg_all_hyperlopit"
   ]
  },
  {
   "cell_type": "code",
   "execution_count": 49,
   "metadata": {
    "collapsed": false
   },
   "outputs": [
    {
     "name": "stdout",
     "output_type": "stream",
     "text": [
      "78 73 77 66 66\n",
      "66 66 66 66\n"
     ]
    }
   ],
   "source": [
    "%Rpull cyt_succ\n",
    "\n",
    "mm_cyt_succ, hg_cyt_succ = ConvertMouseUniprot2HumanUniprot(cyt_succ, mouseUni2Ens, mouse2humanEnsPro, humanEns2Uni)\n",
    "print(len(mm_cyt_succ), len(hg_cyt_succ), len(set(mm_cyt_succ)), len(set(hg_cyt_succ)))\n",
    "\n",
    "\n",
    "%Rpush hg_cyt_succ "
   ]
  },
  {
   "cell_type": "code",
   "execution_count": 50,
   "metadata": {
    "collapsed": false
   },
   "outputs": [
    {
     "data": {
      "text/plain": [
       "[1] 3552\n"
      ]
     },
     "metadata": {},
     "output_type": "display_data"
    }
   ],
   "source": [
    "%%R\n",
    "print(length(hg_all_hyperlopit))"
   ]
  },
  {
   "cell_type": "code",
   "execution_count": 51,
   "metadata": {
    "collapsed": false
   },
   "outputs": [
    {
     "name": "stdout",
     "output_type": "stream",
     "text": [
      "                                         Protein IDs  \\\n",
      "0  P35221;P35221-2;G3XAM7;F8W845;Q8N1C0;E5RIB1;E5...   \n",
      "1                                             P14923   \n",
      "2  Q09666;E9PLK4;E9PKR9;Q09666-2;E9PJC6;E9PJZ0;E9...   \n",
      "3          P62750;A8MUS3;K7ERT8;H7BY10;K7EJV9;K7EMA7   \n",
      "4                                             P47914   \n",
      "\n",
      "                                       Protein names Gene names  \\\n",
      "0                                    Catenin alpha-1     CTNNA1   \n",
      "1                               Junction plakoglobin        JUP   \n",
      "2  Neuroblast differentiation-associated protein ...      AHNAK   \n",
      "3                         60S ribosomal protein L23a     RPL23A   \n",
      "4                          60S ribosomal protein L29      RPL29   \n",
      "\n",
      "        Functional category Component of Literature-based cadhesome?  \\\n",
      "0     Actin binding adaptor                                      Yes   \n",
      "1                   Adaptor                                      Yes   \n",
      "2                   Adaptor                                      Yes   \n",
      "3  RNA/Ribosome/Translation                                      NaN   \n",
      "4  RNA/Ribosome/Translation                                      NaN   \n",
      "\n",
      "  Other connection to cell-cell junction  \\\n",
      "0                                    NaN   \n",
      "1                                    NaN   \n",
      "2                                    NaN   \n",
      "3                                    NaN   \n",
      "4                                    NaN   \n",
      "\n",
      "                                           Pubmed ID  \\\n",
      "0  15366705,     16325573,     18363554,     2182...   \n",
      "1  1639850,     7890674,     8207061,     1095441...   \n",
      "2                                          14625392,   \n",
      "3                                                NaN   \n",
      "4                                                NaN   \n",
      "\n",
      "  Overlap with glass adhesion Overlap with Torret's  \\\n",
      "0                           +                   NaN   \n",
      "1                           +                   NaN   \n",
      "2                           +                   NaN   \n",
      "3                           +                     +   \n",
      "4                           +                   NaN   \n",
      "\n",
      "  Overlap with Van-Itallie's E-cad-BirA*        ...          \\\n",
      "0                                      +        ...           \n",
      "1                                      +        ...           \n",
      "2                                    NaN        ...           \n",
      "3                                    NaN        ...           \n",
      "4                                    NaN        ...           \n",
      "\n",
      "  Sequence coverage [%] welch Significant Ctl-NoCdh  \\\n",
      "0                  87.7                           +   \n",
      "1                  89.4                           +   \n",
      "2                  86.5                           +   \n",
      "3                  55.1                           +   \n",
      "4                  34.6                           +   \n",
      "\n",
      "  welch Significant EGTA-NoCdhEGTA welch Significant Ctl-EGTA 3VV in Ctl  \\\n",
      "0                                +                          +          +   \n",
      "1                                +                          +          +   \n",
      "2                                +                        NaN          +   \n",
      "3                              NaN                        NaN          +   \n",
      "4                              NaN                        NaN          +   \n",
      "\n",
      "  3VV in EGTA NO VV in noCdh-Ctl  NO VV in noCdh-EGTA   id  Mouse_uniprot_IDs  \n",
      "0           +                  +                    +  821             P26231  \n",
      "1           +                  +                    +  738             Q02257  \n",
      "2           +                  +                    +  993                NaN  \n",
      "3           +                  +                    +  925             P62751  \n",
      "4           +                  +                    +  858                NaN  \n",
      "\n",
      "[5 rows x 35 columns]\n",
      "Index(['Protein IDs', 'Protein names', 'Gene names', 'Functional category',\n",
      "       'Component of Literature-based cadhesome?',\n",
      "       'Other connection to cell-cell junction', 'Pubmed ID',\n",
      "       'Overlap with glass adhesion', 'Overlap with Torret's',\n",
      "       'Overlap with Van-Itallie's E-cad-BirA*', 'GOBP name', 'GOMF name',\n",
      "       'GOCC name', 'KEGG name', 'Pfam', 'Interpro name',\n",
      "       'LFQ intensity Ctl AVG', 'LFQ intensity EGTA AVG',\n",
      "       'Fold-change +/-EGTA', 'iBAQ sum (Ctrl-EGTA)',\n",
      "       '(iBAQ ALL/iBAQ ALL sum)*100 (%)', 'PEP', 'Peptides',\n",
      "       'Razor + unique peptides', 'Unique peptides', 'Sequence coverage [%]',\n",
      "       'welch Significant Ctl-NoCdh', 'welch Significant EGTA-NoCdhEGTA',\n",
      "       'welch Significant Ctl-EGTA', '3VV in Ctl', '3VV in EGTA',\n",
      "       'NO VV in noCdh-Ctl', 'NO VV in noCdh-EGTA', 'id', 'Mouse_uniprot_IDs'],\n",
      "      dtype='object')\n"
     ]
    }
   ],
   "source": [
    "mm2hg = {y:x for x, y in zip(mm_all_hyperlopit, hg_all_hyperlopit)}\n",
    "\n",
    "ecadherin_df = pd.read_table(os.path.join(raw_base, 'ECadherin_interactome_glass.csv'), sep='\\t')\n",
    "ecadherin_df = pd.read_table(os.path.join(raw_base, 'ECadherin_interactome.csv'), sep='\\t')\n",
    "mm_uniprot_ids = []\n",
    "\n",
    "for protein_ids in ecadherin_df['Protein IDs']:\n",
    "    #print(protein_ids)\n",
    "    matches = set()\n",
    "    for protein in protein_ids.split(';'):\n",
    "        if protein in mm2hg:\n",
    "            matches.add(mm2hg[protein])\n",
    "    if len(matches) <1:\n",
    "        mm_uniprot_ids.append(np.nan)\n",
    "    else:\n",
    "        mm_uniprot_ids.append(';'.join(matches))\n",
    "\n",
    "ecadherin_df['Mouse_uniprot_IDs'] = mm_uniprot_ids\n",
    "\n",
    "#ecadherin_df = ecadherin_df[['Protein IDs', 'Mouse_uniprot_IDs', '(iBAQ ALL/iBAQ ALL sum)*100 (%)']]\n",
    "print(ecadherin_df.head())\n",
    "print(ecadherin_df.columns)"
   ]
  },
  {
   "cell_type": "code",
   "execution_count": 52,
   "metadata": {
    "collapsed": false
   },
   "outputs": [
    {
     "name": "stdout",
     "output_type": "stream",
     "text": [
      "(561, 35)\n",
      "Index(['Protein IDs', 'Protein names', 'Gene names', 'Functional category',\n",
      "       'Component of Literature-based cadhesome?',\n",
      "       'Other connection to cell-cell junction', 'Pubmed ID',\n",
      "       'Overlap with glass adhesion', 'Overlap with Torret's',\n",
      "       'Overlap with Van-Itallie's E-cad-BirA*', 'GOBP name', 'GOMF name',\n",
      "       'GOCC name', 'KEGG name', 'Pfam', 'Interpro name',\n",
      "       'LFQ intensity Ctl AVG', 'LFQ intensity EGTA AVG',\n",
      "       'Fold-change +/-EGTA', 'iBAQ sum (Ctrl-EGTA)',\n",
      "       '(iBAQ ALL/iBAQ ALL sum)*100 (%)', 'PEP', 'Peptides',\n",
      "       'Razor + unique peptides', 'Unique peptides', 'Sequence coverage [%]',\n",
      "       'welch Significant Ctl-NoCdh', 'welch Significant EGTA-NoCdhEGTA',\n",
      "       'welch Significant Ctl-EGTA', '3VV in Ctl', '3VV in EGTA',\n",
      "       'NO VV in noCdh-Ctl', 'NO VV in noCdh-EGTA', 'id', 'Mouse_uniprot_IDs'],\n",
      "      dtype='object')\n",
      "Index(['Mouse_uniprot_IDs', 'iBAQ sum (Ctrl-EGTA)'], dtype='object')\n"
     ]
    }
   ],
   "source": [
    "print(ecadherin_df.shape)\n",
    "ecadherin_df = ecadherin_df[ecadherin_df['Mouse_uniprot_IDs'].notnull()]\n",
    "print(ecadherin_df.columns)\n",
    "ecadherin_df = ecadherin_df[['Mouse_uniprot_IDs', 'iBAQ sum (Ctrl-EGTA)']]\n",
    "print(ecadherin_df.columns)\n",
    "#print(ecadherin_df.head())\n",
    "#print(ecadherin_df.shape)\n"
   ]
  },
  {
   "cell_type": "code",
   "execution_count": 53,
   "metadata": {
    "collapsed": false
   },
   "outputs": [
    {
     "name": "stderr",
     "output_type": "stream",
     "text": [
      "/home/FILESERVER5/proteomics/tss38/anaconda3/lib/python3.5/site-packages/rpy2/rinterface/__init__.py:186: RRuntimeWarning: Read 29 items\n",
      "\n",
      "  warnings.warn(x, RRuntimeWarning)\n"
     ]
    },
    {
     "data": {
      "text/plain": [
       "       uniprot.accession Final.Localization.Assignment acetylation\n",
       "A2A432            A2A432                  unclassified           0\n",
       "A2A4P0            A2A4P0       Nucleus - Non-chromatin           0\n",
       "A2A5R2            A2A5R2                  unclassified           0\n",
       "A2A791            A2A791           Nucleus - Chromatin           1\n",
       "A2A8L5            A2A8L5               Plasma membrane           0\n",
       "A2A8Z1            A2A8Z1                  unclassified           1\n",
       "       glutarylation malonylation succinylation succinylation_SIRT5_KO\n",
       "A2A432             0            1             0                      0\n",
       "A2A4P0             0            0             0                      0\n",
       "A2A5R2             0            0             0                      0\n",
       "A2A791             0            1             0                      0\n",
       "A2A8L5             0            0             0                      0\n",
       "A2A8Z1             0            0             0                      0\n",
       "       all_modifications competitive_modifications\n",
       "A2A432                 0                         0\n",
       "A2A4P0                 0                         0\n",
       "A2A5R2                 0                         0\n",
       "A2A791                 0                         0\n",
       "A2A8L5                 0                         0\n",
       "A2A8Z1                 0                         0\n",
       " [1] \"A2ATU0\" \"O08528\" \"P05063\" \"P05064\" \"P06745\" \"P09041\" \"P09411\" \"P12382\"\n",
       " [9] \"P16858\" \"P17182\" \"P17751\" \"P47857\" \"P52480\" \"Q60597\" \"Q9DBJ1\" \"Q9WUA3\"\n",
       "[1] \"P05063\" \"P05064\" \"P06745\" \"P09411\" \"P16858\" \"P17182\" \"P17751\" \"P52480\"\n",
       "[9] \"Q9DBJ1\"\n",
       "[1] 78\n",
       "[1] 598\n",
       "[1] 135\n",
       "[1] 322\n"
      ]
     },
     "metadata": {},
     "output_type": "display_data"
    }
   ],
   "source": [
    "%%R\n",
    "print(head(merged_df))\n",
    "succ <- rownames(merged_df[merged_df$succinylation==1,])\n",
    "acetyl <- rownames(merged_df[merged_df$acetylation==1,])\n",
    "glut <- rownames(merged_df[merged_df$glutarylation==1,])\n",
    "malon <- rownames(merged_df[merged_df$malonylation==1,])\n",
    "all_mod <- rownames(merged_df[merged_df$all_modifications==1,])\n",
    "comp <- rownames(merged_df[merged_df$competitive_modifications==1,])\n",
    "all <- rownames(merged_df)\n",
    "\n",
    "cyt_succ <- rownames(merged_df[(merged_df$Final.Localization.Assignment=='Cytosol' & merged_df$succinylation==1),])\n",
    "cyt_acetyl <- rownames(merged_df[(merged_df$Final.Localization.Assignment=='Cytosol' & merged_df$acetylation==1),])\n",
    "cyt_glut <- rownames(merged_df[(merged_df$Final.Localization.Assignment=='Cytosol' & merged_df$glutarylation==1),])\n",
    "cyt_malon <- rownames(merged_df[(merged_df$Final.Localization.Assignment=='Cytosol' & merged_df$malonylation==1),])\n",
    "cyt_all_mod <- rownames(merged_df[(merged_df$Final.Localization.Assignment=='Cytosol' & merged_df$all_modifications==1),])\n",
    "cyt_comp <- rownames(merged_df[(merged_df$Final.Localization.Assignment=='Cytosol' & merged_df$competitive_modifications==1),])\n",
    "cyt_all <- rownames(merged_df[(merged_df$Final.Localization.Assignment=='Cytosol'),])\n",
    "\n",
    "\n",
    "#cyt_succ <- rownames(merged_df[merged_df$succinylation==1,])\n",
    "#cyt_malon <- rownames(merged_df[merged_df$malonylation==1,])\n",
    "#cyt_all_mod <- rownames(merged_df[ merged_df$all_modifications==1,])\n",
    "#cyt_comp <- rownames(merged_df[merged_df$competitive_modifications==1,])\n",
    "#cyt_all <- rownames(merged_df)\n",
    "\n",
    "\n",
    "glycolytic_enzymes <- scan(\"~/WT/NML/hyperLOPIT-enrichment/R/glycolytic_enzymes.tsv\", what=\"\", sep=\"\\n\")\n",
    "cyt_gly <- glycolytic_enzymes[glycolytic_enzymes %in% merged_df$uniprot.accession]\n",
    "cyt_gly_succ <- cyt_gly[cyt_gly %in% rownames(merged_df[merged_df$Final.Localization.Assignment=='Cytosol',])]\n",
    "#cyt_gly_succ <- cyt_gly\n",
    "print(cyt_gly)\n",
    "print(cyt_gly_succ)\n",
    "\n",
    "print(length(cyt_succ))\n",
    "print(length(succ))\n",
    "print(length(cyt_malon))\n",
    "print(length(cyt_all))"
   ]
  },
  {
   "cell_type": "code",
   "execution_count": 54,
   "metadata": {
    "collapsed": false
   },
   "outputs": [
    {
     "data": {
      "text/plain": [
       "[1] \"Mouse_uniprot_IDs\"    \"iBAQ.sum..Ctrl.EGTA.\"\n"
      ]
     },
     "metadata": {},
     "output_type": "display_data"
    }
   ],
   "source": [
    "%%R -i ecadherin_df\n",
    "print(colnames(ecadherin_df))\n"
   ]
  },
  {
   "cell_type": "code",
   "execution_count": 55,
   "metadata": {
    "collapsed": false
   },
   "outputs": [
    {
     "name": "stderr",
     "output_type": "stream",
     "text": [
      "/home/FILESERVER5/proteomics/tss38/anaconda3/lib/python3.5/site-packages/rpy2/rinterface/__init__.py:186: RRuntimeWarning: Saving 6.67 x 6.67 in image\n",
      "\n",
      "  warnings.warn(x, RRuntimeWarning)\n"
     ]
    },
    {
     "data": {
      "text/plain": [
       "[1] \"Mouse_uniprot_IDs\"    \"iBAQ.sum..Ctrl.EGTA.\"\n",
       "\n",
       "\tTwo-sample Kolmogorov-Smirnov test\n",
       "\n",
       "data:  geneset and background\n",
       "D = 0.19048, p-value = 0.9348\n",
       "alternative hypothesis: two-sided\n",
       "\n",
       "\n",
       "\tTwo-sample Kolmogorov-Smirnov test\n",
       "\n",
       "data:  geneset and background\n",
       "D = 0.1875, p-value = 0.9543\n",
       "alternative hypothesis: two-sided\n",
       "\n",
       "\n",
       "\tTwo-sample Kolmogorov-Smirnov test\n",
       "\n",
       "data:  geneset and background\n",
       "D = 0.84, p-value = 0.3846\n",
       "alternative hypothesis: two-sided\n",
       "\n",
       "\n",
       "\tTwo-sample Kolmogorov-Smirnov test\n",
       "\n",
       "data:  geneset and background\n",
       "D = 0.43137, p-value = 0.161\n",
       "alternative hypothesis: two-sided\n",
       "\n",
       "\n",
       "\tTwo-sample Kolmogorov-Smirnov test\n",
       "\n",
       "data:  geneset and background\n",
       "D = 0.22222, p-value = 0.8921\n",
       "alternative hypothesis: two-sided\n",
       "\n",
       "\n",
       "\tTwo-sample Kolmogorov-Smirnov test\n",
       "\n",
       "data:  geneset and background\n",
       "D = 0.52381, p-value = 0.1482\n",
       "alternative hypothesis: two-sided\n",
       "\n",
       "\n",
       "\tTwo-sample Kolmogorov-Smirnov test\n",
       "\n",
       "data:  geneset and background\n",
       "D = 0.875, p-value = 0.06154\n",
       "alternative hypothesis: two-sided\n",
       "\n",
       "\n",
       "\tTwo-sample Kolmogorov-Smirnov test\n",
       "\n",
       "data:  geneset and background\n",
       "D = 0.091954, p-value = 0.7383\n",
       "alternative hypothesis: two-sided\n",
       "\n",
       "\n",
       "\tTwo-sample Kolmogorov-Smirnov test\n",
       "\n",
       "data:  geneset and background\n",
       "D = 0.22006, p-value = 0.04944\n",
       "alternative hypothesis: two-sided\n",
       "\n",
       "\n",
       "\tTwo-sample Kolmogorov-Smirnov test\n",
       "\n",
       "data:  geneset and background\n",
       "D = 0.79921, p-value = 0.4078\n",
       "alternative hypothesis: two-sided\n",
       "\n",
       "\n",
       "\tTwo-sample Kolmogorov-Smirnov test\n",
       "\n",
       "data:  geneset and background\n",
       "D = 0.12541, p-value = 0.3458\n",
       "alternative hypothesis: two-sided\n",
       "\n",
       "\n",
       "\tTwo-sample Kolmogorov-Smirnov test\n",
       "\n",
       "data:  geneset and background\n",
       "D = 0.26413, p-value = 0.02921\n",
       "alternative hypothesis: two-sided\n",
       "\n",
       "\n",
       "\tTwo-sample Kolmogorov-Smirnov test\n",
       "\n",
       "data:  geneset and background\n",
       "D = 0.3125, p-value = 0.1039\n",
       "alternative hypothesis: two-sided\n",
       "\n",
       "\n",
       "\tTwo-sample Kolmogorov-Smirnov test\n",
       "\n",
       "data:  geneset and background\n",
       "D = 0.80237, p-value = 0.08189\n",
       "alternative hypothesis: two-sided\n",
       "\n"
      ]
     },
     "metadata": {},
     "output_type": "display_data"
    },
    {
     "data": {
      "image/png": "[encoded data removed]"
     },
     "metadata": {},
     "output_type": "display_data"
    },
    {
     "data": {
      "image/png": "[encoded data removed]"
     },
     "metadata": {},
     "output_type": "display_data"
    },
    {
     "data": {
      "image/png": "[encoded data removed]"
     },
     "metadata": {},
     "output_type": "display_data"
    },
    {
     "data": {
      "image/png": "[encoded data removed]"
     },
     "metadata": {},
     "output_type": "display_data"
    },
    {
     "data": {
      "image/png": "[encoded data removed]"
     },
     "metadata": {},
     "output_type": "display_data"
    },
    {
     "data": {
      "image/png": "[encoded data removed]"
     },
     "metadata": {},
     "output_type": "display_data"
    },
    {
     "data": {
      "image/png": "[encoded data removed]"
     },
     "metadata": {},
     "output_type": "display_data"
    },
    {
     "data": {
      "image/png": "[encoded data removed]"
     },
     "metadata": {},
     "output_type": "display_data"
    },
    {
     "data": {
      "image/png": "[encoded data removed]"
     },
     "metadata": {},
     "output_type": "display_data"
    },
    {
     "data": {
      "image/png": "[encoded data removed]"
     },
     "metadata": {},
     "output_type": "display_data"
    },
    {
     "data": {
      "image/png": "[encoded data removed]"
     },
     "metadata": {},
     "output_type": "display_data"
    },
    {
     "data": {
      "image/png": "[encoded data removed]"
     },
     "metadata": {},
     "output_type": "display_data"
    },
    {
     "data": {
      "image/png": "[encoded data removed]"
     },
     "metadata": {},
     "output_type": "display_data"
    },
    {
     "data": {
      "image/png": "[encoded data removed]"
     },
     "metadata": {},
     "output_type": "display_data"
    }
   ],
   "source": [
    "%%R -i ecadherin_df\n",
    "print(colnames(ecadherin_df))\n",
    "\n",
    "tmp_ecadherin_df = ecadherin_df[ecadherin_df[['Mouse_uniprot_IDs']] %in% cyt_all,]\n",
    "tmp_ecadherin_all_df = ecadherin_df[ecadherin_df[['Mouse_uniprot_IDs']] %in% all,]\n",
    "\n",
    "run_ks_test = function(df, targets, background, plotfile='', modification=''){\n",
    "\n",
    "scores <- df$iBAQ.sum..Ctrl.EGTA.\n",
    "#scores <- df$X.iBAQ#.ALL.iBAQ.ALL.sum..100....\n",
    "ranking <- rank(-scores, ties.method='first')  \n",
    "\n",
    "\n",
    "#numeric vectors containing the indices of your gene set in scores  \n",
    "ind <- match(targets, df[['Mouse_uniprot_IDs']]) \n",
    "background_ind <- match(background[!is.element(background, targets)], df[['Mouse_uniprot_IDs']])\n",
    "#background_ind <- match(background, df[['Mouse_uniprot_IDs']])\n",
    "\n",
    "ind = ind[is.finite(ind)]\n",
    "background_ind = background_ind[is.finite(background_ind)]\n",
    "\n",
    "geneset <- ranking[ind]  \n",
    "\n",
    "background <- ranking[background_ind]\n",
    "\n",
    "ks = ks.test(geneset,background)\n",
    "print(ks)    \n",
    "    \n",
    "sample1 <- geneset\n",
    "sample2 <- background\n",
    "group <- c(rep(\"sample1\", length(sample1)), rep(\"sample2\", length(sample2)))\n",
    "dat <- data.frame(KSD = c(sample1,sample2), group = group)\n",
    "\n",
    "cdf1 <- ecdf(sample1) \n",
    "cdf2 <- ecdf(sample2) \n",
    "\n",
    "minMax <- seq(min(sample1, sample2), max(sample1, sample2), length.out=length(sample1)) \n",
    "x0 <- minMax[which( abs(cdf1(minMax) - cdf2(minMax)) == max(abs(cdf1(minMax) - cdf2(minMax))) )] \n",
    "y0 <- cdf1(x0) \n",
    "y1 <- cdf2(x0) \n",
    "\n",
    "p = ggplot(dat, aes(x = KSD, group = group, color = group))+\n",
    "  stat_ecdf(size=1) +\n",
    "    theme_bw(base_size = 20) +\n",
    "    theme(legend.position =\"right\") +\n",
    "    xlab(\"Protein rank\") +\n",
    "    ylab(\"ECDF\") +\n",
    "    #geom_line(size=1) +\n",
    "    geom_segment(aes(x = x0[1], y = y0[1], xend = x0[1], yend = y1[1]),\n",
    "        linetype = \"dashed\", color = \"black\") +\n",
    "    geom_point(aes(x = x0[1] , y= y0[1]), color=\"black\", size=2) +\n",
    "    geom_point(aes(x = x0[1] , y= y1[1]), color=\"black\", size=2) +\n",
    "    ggtitle(paste0(modification, \":\\nK-S Test. D:\", round(ks$statistic, 2), ' p-value: ', round(ks$p.value, 5)))+\n",
    "    theme(legend.title=element_blank(), aspect.ratio=1) +\n",
    "    scale_colour_discrete(labels=c('modified', 'unmodified'))\n",
    "\n",
    "plot(p)\n",
    "ggsave(plotfile)\n",
    "\n",
    "return(list(geneset, background))\n",
    "}\n",
    "\n",
    "sets_acetyl <- run_ks_test(tmp_ecadherin_df, cyt_acetyl, cyt_all,\n",
    "                         '/home/FILESERVER5/proteomics/tss38/WT/Lysine_mod/plots.dir/ECDF_acetyl.png',\n",
    "                         'Acetylation')\n",
    "\n",
    "sets_succ <- run_ks_test(tmp_ecadherin_df, cyt_succ, cyt_all,\n",
    "                         '/home/FILESERVER5/proteomics/tss38/WT/Lysine_mod/plots.dir/ECDF_succ.png',\n",
    "                         'Succinylation')\n",
    "sets_glut <- run_ks_test(tmp_ecadherin_df, cyt_glut, cyt_all,\n",
    "                         '/home/FILESERVER5/proteomics/tss38/WT/Lysine_mod/plots.dir/ECDF_glut.png',\n",
    "                         'Glutarylation')\n",
    "sets_malon <- run_ks_test(tmp_ecadherin_df, cyt_malon, cyt_all,\n",
    "                         '/home/FILESERVER5/proteomics/tss38/WT/Lysine_mod/plots.dir/ECDF_malon.png',\n",
    "                         'Malonylation')\n",
    "sets_mod <- run_ks_test(tmp_ecadherin_df, cyt_all_mod, cyt_all,\n",
    "                         '/home/FILESERVER5/proteomics/tss38/WT/Lysine_mod/plots.dir/ECDF_all_mod.png',\n",
    "                         'All modifications')\n",
    "sets_comp <- run_ks_test(tmp_ecadherin_df, cyt_comp, cyt_all,\n",
    "                         '/home/FILESERVER5/proteomics/tss38/WT/Lysine_mod/plots.dir/ECDF_comp.png',\n",
    "                         'Competitve modifications')\n",
    "sets_cyt_gly <- run_ks_test(tmp_ecadherin_df, cyt_gly_succ, cyt_all,\n",
    "                         '/home/FILESERVER5/proteomics/tss38/WT/Lysine_mod/plots.dir/ECDF_cyt_gly_succ.png',\n",
    "                         'Glycolysis')\n",
    "\n",
    "\n",
    "sets_acetyl <- run_ks_test(tmp_ecadherin_all_df, acetyl, all,\n",
    "                         '/home/FILESERVER5/proteomics/tss38/WT/Lysine_mod/plots.dir/ECDF_acetyl_all.png',\n",
    "                         'Acetylation (All)')\n",
    "\n",
    "sets_succ <- run_ks_test(tmp_ecadherin_all_df, succ, all,\n",
    "                         '/home/FILESERVER5/proteomics/tss38/WT/Lysine_mod/plots.dir/ECDF_succ_all.png',\n",
    "                         'Succinylation (All)')\n",
    "sets_glut <- run_ks_test(tmp_ecadherin_all_df, glut, all,\n",
    "                         '/home/FILESERVER5/proteomics/tss38/WT/Lysine_mod/plots.dir/ECDF_glut_all.png',\n",
    "                         'Glutarylation (All)')\n",
    "sets_malon <- run_ks_test(tmp_ecadherin_all_df, malon, all,\n",
    "                         '/home/FILESERVER5/proteomics/tss38/WT/Lysine_mod/plots.dir/ECDF_malon_all.png',\n",
    "                         'Malonylation (All)')\n",
    "sets_mod <- run_ks_test(tmp_ecadherin_all_df, all_mod, all,\n",
    "                         '/home/FILESERVER5/proteomics/tss38/WT/Lysine_mod/plots.dir/ECDF_all_mod_all.png',\n",
    "                         'All modifications (All)')\n",
    "sets_comp <- run_ks_test(tmp_ecadherin_all_df, comp, all,\n",
    "                         '/home/FILESERVER5/proteomics/tss38/WT/Lysine_mod/plots.dir/ECDF_comp_all.png',\n",
    "                         'Competitve modifications (All)')\n",
    "sets_cyt_gly <- run_ks_test(tmp_ecadherin_all_df, glycolytic_enzymes, all,\n",
    "                         '/home/FILESERVER5/proteomics/tss38/WT/Lysine_mod/plots.dir/ECDF_cyt_gly_succ_all.png',\n",
    "                         'Glycolysis (All)')"
   ]
  },
  {
   "cell_type": "code",
   "execution_count": 56,
   "metadata": {
    "collapsed": false
   },
   "outputs": [
    {
     "data": {
      "image/png": "[encoded data removed]"
     },
     "metadata": {},
     "output_type": "display_data"
    }
   ],
   "source": [
    "%%R -w 1000 -h 100\n",
    "\n",
    "\n",
    "\n",
    "df = data.frame('rank' = sets_succ[[1]], 'Modified' = 'Yes', modification='Succinyllation')\n",
    "df = rbind(df, data.frame('rank' = sets_succ[[2]], 'Modified' = 'No', modification='Succinyllation'))\n",
    "df = rbind(df, data.frame('rank' = sets_malon[[1]], 'Modified' = 'Yes', modification='Malonyllation'))\n",
    "df = rbind(df, data.frame('rank' = sets_malon[[2]], 'Modified' = 'No', modification='Malonyllation'))\n",
    "#df = rbind(df, data.frame('rank' = sets_glut[[1]], 'Modified' = 'Yes', modification='Glutarylation'))\n",
    "#df = rbind(df, data.frame('rank' = sets_glut[[2]], 'Modified' = 'No', modification='Glutarylation'))\n",
    "df = rbind(df, data.frame('rank' = sets_acetyl[[1]], 'Modified' = 'Yes', modification='Acetylation'))\n",
    "df = rbind(df, data.frame('rank' = sets_acetyl[[2]], 'Modified' = 'No', modification='Acetylation'))\n",
    "df = rbind(df, data.frame('rank' = sets_mod[[1]], 'Modified' = 'Yes', modification='Acetyl + Succ. + Malon.'))\n",
    "df = rbind(df, data.frame('rank' = sets_mod[[2]], 'Modified' = 'No', modification='Acetyl + Succ. + Malon.'))\n",
    "df = rbind(df, data.frame('rank' = sets_comp[[1]], 'Modified' = 'Yes', modification='Competitive'))\n",
    "df = rbind(df, data.frame('rank' = sets_comp[[2]], 'Modified' = 'No', modification='Competitive'))\n",
    "#df = rbind(df, data.frame('rank' = sets_cyt_gly[[1]], 'Modified' = 'Yes',\n",
    "#                          modification='Succinyllated\\nglycolysis enzymes'))\n",
    "#df = rbind(df, data.frame('rank' = sets_cyt_gly[[2]], 'Modified' = 'No',\n",
    "#                          modification='Succinyllated\\nglycolysis enzymes'))\n",
    "\n",
    "\n",
    "df$modification = factor(\n",
    "    df$modification, levels = c(\n",
    "        'Succinyllated\\nglycolysis enzymes', 'Glutarylation', 'Competitive', 'Acetyl + Succ. + Malon.',\n",
    "        'Succinyllation', 'Malonyllation', 'Acetylation'))\n",
    "\n",
    "p = ggplot(df, aes(x=rank, y=modification, fill=Modified)) +\n",
    "geom_tile(height=.9) +\n",
    "ylab(\"\") + \n",
    "scale_fill_manual(values=c('black', 'grey95')) +\n",
    "theme_bw() +\n",
    "theme(\n",
    "text = element_text(size=15))\n",
    "\n",
    "print(p)\n",
    "\n",
    "ggsave('/home/FILESERVER5/proteomics/tss38/WT/Lysine_mod/plots.dir/modification_ranks_in_cadherin_interactome.png',\n",
    "      width=8, height=2)"
   ]
  },
  {
   "cell_type": "code",
   "execution_count": 57,
   "metadata": {
    "collapsed": false
   },
   "outputs": [
    {
     "data": {
      "image/png": "[encoded data removed]"
     },
     "metadata": {},
     "output_type": "display_data"
    }
   ],
   "source": [
    "%%R\n",
    "library(ggplot2)\n",
    "\n",
    "plot_cdf <- function(geneset, background, plot_title){\n",
    "sample1 <- geneset\n",
    "sample2 <- background\n",
    "group <- c(rep(\"sample1\", length(sample1)), rep(\"sample2\", length(sample2)))\n",
    "dat <- data.frame(KSD = c(sample1,sample2), group = group)\n",
    "\n",
    "cdf1 <- ecdf(sample1) \n",
    "cdf2 <- ecdf(sample2) \n",
    "\n",
    "minMax <- seq(min(sample1, sample2), max(sample1, sample2), length.out=length(sample1)) \n",
    "x0 <- minMax[which( abs(cdf1(minMax) - cdf2(minMax)) == max(abs(cdf1(minMax) - cdf2(minMax))) )] \n",
    "y0 <- cdf1(x0) \n",
    "y1 <- cdf2(x0) \n",
    "\n",
    "p = ggplot(dat, aes(x = KSD, group = group, color = group))+\n",
    "  stat_ecdf(size=1) +\n",
    "    theme_bw(base_size = 28) +\n",
    "    theme(legend.position =\"top\") +\n",
    "    xlab(\"Sample\") +\n",
    "    ylab(\"ECDF\") +\n",
    "    #geom_line(size=1) +\n",
    "    geom_segment(aes(x = x0[1], y = y0[1], xend = x0[1], yend = y1[1]),\n",
    "        linetype = \"dashed\", color = \"black\") +\n",
    "    geom_point(aes(x = x0[1] , y= y0[1]), color=\"black\", size=2) +\n",
    "    geom_point(aes(x = x0[1] , y= y1[1]), color=\"black\", size=2) +\n",
    "    ggtitle(\"K-S Test\") +\n",
    "    theme(legend.title=element_blank())\n",
    "\n",
    "plot(p)\n",
    "\n",
    "}\n",
    "\n",
    "plot_cdf(sets_succ[[1]], sets_succ[[2]], '')"
   ]
  },
  {
   "cell_type": "code",
   "execution_count": 58,
   "metadata": {
    "collapsed": false
   },
   "outputs": [
    {
     "name": "stdout",
     "output_type": "stream",
     "text": [
      "  Gene name               protein name  \\\n",
      "0     ACTN1            Alpha-actinin-1   \n",
      "1     ACTN4           actinin, alpha 4   \n",
      "2      ADD1              Alpha-Adducin   \n",
      "3     AKAP5  A kinase anchor protein 5   \n",
      "4    CTNNA1           Catenin alpha 1    \n",
      "\n",
      "                                     alternate names UniProt ID  \\\n",
      "0  Alpha-actinin cytoskeletal isoform\\nF-actin cr...     P12814   \n",
      "1                       alpha-actinin-4, FSGS1, FSGS     O43707   \n",
      "2                  Erythrocyte adducin subunit alpha     P35611   \n",
      "3      A-kinase anchor protein 5\\n    AKAP-5\\n   ...     P24588   \n",
      "4  Alpha E catenin; Cadherin associated protein; ...     P35221   \n",
      "\n",
      "                                            sequence  Length (AA)  \\\n",
      "0  MDHYDSQQTNDYMQPEEDWDRDLLLDPAWEKQQRKTFTAWCNSHLR...        892.0   \n",
      "1  MVDYHAANQSYQYGPSSAGNGAGGGGSMGDYMAQEDDWDRDLLLDP...        911.0   \n",
      "2  MNGDSRAAVVTSPPPTTAPHKERYFDRVDENNPEYLRERNMAPDLR...        737.0   \n",
      "3  METTISEIHVENKDEKRSAEGSPGAERQKEKASMLCFKRRKKAAKA...        427.0   \n",
      "4  MTAVHAGNINFKWDPKSLEIRTLAVERLLEPLVTQVTTLVNTNSKG...        906.0   \n",
      "\n",
      "                                protein domains              category   \\\n",
      "0  Calponin homology, spectrin repeats, EF hand  actin binding adaptor   \n",
      "1                         CH, Spectrin, EF-hand  actin binding adaptor   \n",
      "2                                           NaN  actin binding adaptor   \n",
      "3                                           WSK  actin binding adaptor   \n",
      "4                              Vinculin family;  actin binding adaptor   \n",
      "\n",
      "                                           Pubmed ID  \\\n",
      "0  18413140, 9671492, 9152027, 7790378, 7622593, ...   \n",
      "1                                           22232703   \n",
      "2                                           20810786   \n",
      "3                                           15930126   \n",
      "4      15366705,     16325573,     18363554,     ...   \n",
      "\n",
      "                                      Full Reference Mouse_uniprot_IDs  \n",
      "0  1: Hansen MD, Beckerle MC. alpha-Actinin links...            Q7TPR4  \n",
      "1  1: Tang VW, Brieher WM. α-Actinin-4/FSGS1 is r...            P57780  \n",
      "2  1: Naydenov NG, Ivanov AI. Adducins regulate r...            Q9QYC0  \n",
      "3  1: Gorski JA, Gomez LL, Scott JD, Dell'Acqua M...                    \n",
      "4  1: Yonemura S. A mechanism of mechanotransduct...            P26231  \n",
      "0      Q7TPR4\n",
      "1      P57780\n",
      "2      Q9QYC0\n",
      "3            \n",
      "4      P26231\n",
      "5            \n",
      "6            \n",
      "7            \n",
      "8            \n",
      "9      P26040\n",
      "10     Q80X90\n",
      "11     Q61553\n",
      "12           \n",
      "13     Q9ERG0\n",
      "14           \n",
      "15     P26041\n",
      "16     P26043\n",
      "17           \n",
      "18     Q8K4L3\n",
      "19     P39447\n",
      "20     P26039\n",
      "21           \n",
      "22     Q64727\n",
      "23           \n",
      "24     P62484\n",
      "25           \n",
      "26           \n",
      "27     Q9JLQ0\n",
      "28           \n",
      "29           \n",
      "        ...  \n",
      "143          \n",
      "144          \n",
      "145          \n",
      "146    P41241\n",
      "147          \n",
      "148    P39688\n",
      "149          \n",
      "150          \n",
      "151    P48025\n",
      "152    Q9D358\n",
      "153    P35821\n",
      "154          \n",
      "155    P35831\n",
      "156          \n",
      "157    P29351\n",
      "158    A2A8L5\n",
      "159          \n",
      "160    P35822\n",
      "161          \n",
      "162          \n",
      "163          \n",
      "164    O35598\n",
      "165    Q61072\n",
      "166    O35350\n",
      "167    P70677\n",
      "168    P49769\n",
      "169          \n",
      "170    P27600\n",
      "171    Q6KAR6\n",
      "172    P15532\n",
      "Name: Mouse_uniprot_IDs, dtype: object\n"
     ]
    }
   ],
   "source": [
    "cadherin_adhesome_df = pd.read_table(\"../raw/Cadherin_adhesome.csv\", sep=\"\\t\")\n",
    "\n",
    "\n",
    "mm_uniprot_ids = []\n",
    "\n",
    "for protein in cadherin_adhesome_df['UniProt ID']:\n",
    "    protein = protein.replace(\" \", \"\")\n",
    "    if protein in mm2hg:\n",
    "        mm_uniprot_ids.append(mm2hg[protein])\n",
    "    else:\n",
    "        mm_uniprot_ids.append(\"\")\n",
    "\n",
    "cadherin_adhesome_df['Mouse_uniprot_IDs'] = mm_uniprot_ids\n",
    "\n",
    "print(cadherin_adhesome_df.head())\n",
    "print(cadherin_adhesome_df['Mouse_uniprot_IDs'])"
   ]
  },
  {
   "cell_type": "code",
   "execution_count": 59,
   "metadata": {
    "collapsed": false
   },
   "outputs": [
    {
     "name": "stdout",
     "output_type": "stream",
     "text": [
      "76\n"
     ]
    }
   ],
   "source": [
    "print(sum(cadherin_adhesome_df['Mouse_uniprot_IDs']!=\"\"))"
   ]
  },
  {
   "cell_type": "code",
   "execution_count": 60,
   "metadata": {
    "collapsed": false
   },
   "outputs": [],
   "source": [
    "from bioservices import UniProt\n",
    "u = UniProt()\n",
    "\n",
    "u_results = u.search(\"organism:10090+and+reviewed:yes\", columns=\"id,entry name\", limit=-1)"
   ]
  },
  {
   "cell_type": "code",
   "execution_count": 61,
   "metadata": {
    "collapsed": false
   },
   "outputs": [
    {
     "name": "stdout",
     "output_type": "stream",
     "text": [
      "  uniprot_id         name\n",
      "0     Q02248  CTNB1_MOUSE\n",
      "1     Q62226    SHH_MOUSE\n",
      "2     Q01705  NOTC1_MOUSE\n",
      "3     P22725  WNT5A_MOUSE\n",
      "4     P10417   BCL2_MOUSE\n",
      "(16853, 2)\n"
     ]
    }
   ],
   "source": [
    "uniprot_ids_df = pd.DataFrame.from_records(\n",
    "        [x.split() for x in u_results.strip().split(\"\\n\")[1:]],\n",
    "        columns=[\"uniprot_id\", \"name\"])\n",
    "\n",
    "print(uniprot_ids_df.head())\n",
    "print(uniprot_ids_df.shape)"
   ]
  },
  {
   "cell_type": "code",
   "execution_count": 62,
   "metadata": {
    "collapsed": false
   },
   "outputs": [
    {
     "name": "stdout",
     "output_type": "stream",
     "text": [
      "(16853, 10)\n",
      "(831, 10)\n",
      "1588\n",
      "831\n",
      "172\n",
      "1243\n",
      "['A2A791', 'A2A8Z1', 'A2AJL3', 'A2AJT4', 'A2AKK5', 'A2AN08', 'A2AQ19', 'A2AS89', 'A2ASZ8', 'A2ATU0']\n",
      "['A2AKK5', 'A2AS89', 'A2ATU0', 'A6H5Y3', 'B1AR13', 'B1AXP6', 'B2RQC6', 'D3Z4S3', 'D3Z7P3', 'G3X982']\n",
      "['A2ATU0', 'E9Q816', 'O08756', 'O08997', 'O35459', 'O35490', 'O35943', 'O88986', 'P00329', 'P01942']\n",
      "['A0JNU3', 'A1EGX6', 'A2A432', 'A2A791', 'A2A8U2', 'A2A8Z1', 'A2AJL3', 'A2AJT4', 'A2AKK5', 'A2ALK8']\n",
      "{<class 'str'>}\n"
     ]
    }
   ],
   "source": [
    "lysine_df_pivot['ID'] = lysine_df_pivot.index\n",
    "all_uniprot_id_df = pd.merge(lysine_df_pivot, uniprot_ids_df,\n",
    "         left_on='ID', right_on='uniprot_id', how='right')\n",
    "\n",
    "print(all_uniprot_id_df.shape)\n",
    "print(all_uniprot_id_df[all_uniprot_id_df['succinylation']==1].shape)\n",
    "acet_prot = all_uniprot_id_df[all_uniprot_id_df['acetylation']==1]['uniprot_id'].tolist()\n",
    "succ_prot = all_uniprot_id_df[all_uniprot_id_df['succinylation']==1]['uniprot_id'].tolist()\n",
    "glut_prot = all_uniprot_id_df[all_uniprot_id_df['glutarylation']==1]['uniprot_id'].tolist()\n",
    "malon_prot = all_uniprot_id_df[all_uniprot_id_df['malonylation']==1]['uniprot_id'].tolist()\n",
    "all_prot = all_uniprot_id_df['uniprot_id'].tolist()\n",
    "\n",
    "print(len(acet_prot))\n",
    "\n",
    "print(len(succ_prot))\n",
    "\n",
    "print(len(glut_prot))\n",
    "\n",
    "print(len(malon_prot))\n",
    "\n",
    "print(acet_prot[0:10])\n",
    "print(succ_prot[0:10])\n",
    "print(glut_prot[0:10])\n",
    "print(all_prot[0:10])\n",
    "print(set(map(type, all_prot)))\n",
    "for x in all_prot:\n",
    "    if type(x) == float:\n",
    "        print(x)"
   ]
  },
  {
   "cell_type": "code",
   "execution_count": 63,
   "metadata": {
    "collapsed": false
   },
   "outputs": [],
   "source": [
    "with IOTools.openFile(os.path.join(results, \"malon_prot.tsv\"), \"w\") as outf:\n",
    "    outf.write(\"\\n\".join(malon_prot))\n",
    "    \n",
    "with IOTools.openFile(os.path.join(results, \"succ_prot.tsv\"), \"w\") as outf:\n",
    "    outf.write(\"\\n\".join(succ_prot))\n",
    "    \n",
    "with IOTools.openFile(os.path.join(results, \"glut_prot.tsv\"), \"w\") as outf:\n",
    "    outf.write(\"\\n\".join(glut_prot))\n",
    "    \n",
    "with IOTools.openFile(os.path.join(results, \"acet_prot.tsv\"), \"w\") as outf:\n",
    "    outf.write(\"\\n\".join(acet_prot))\n",
    "\n",
    "with IOTools.openFile(os.path.join(results, \"all_prot.tsv\"), \"w\") as outf:\n",
    "    outf.write(\"\\n\".join(all_prot))\n",
    "    \n",
    "    "
   ]
  },
  {
   "cell_type": "code",
   "execution_count": 64,
   "metadata": {
    "collapsed": false
   },
   "outputs": [
    {
     "name": "stdout",
     "output_type": "stream",
     "text": [
      "(4367, 8)\n",
      "(16853, 2)\n",
      "(16853, 10)\n",
      "16853\n",
      "(16853, 13)\n",
      "76\n",
      "(76, 13)\n",
      "(16777, 13)\n",
      "Modification  acetylation  glutarylation  malonylation  succinylation  \\\n",
      "0                     0.0            0.0           1.0            0.0   \n",
      "1                     0.0            0.0           0.0            0.0   \n",
      "2                     0.0            0.0           1.0            0.0   \n",
      "3                     1.0            0.0           1.0            0.0   \n",
      "4                     0.0            0.0           1.0            0.0   \n",
      "\n",
      "Modification  succinylation_SIRT5_KO  all_modifications  \\\n",
      "0                                0.0                0.0   \n",
      "1                                1.0                0.0   \n",
      "2                                0.0                0.0   \n",
      "3                                0.0                0.0   \n",
      "4                                0.0                0.0   \n",
      "\n",
      "Modification  competitive_modifications      ID uniprot_id         name  \\\n",
      "0                                   0.0  A0JNU3     A0JNU3  LPP60_MOUSE   \n",
      "1                                   0.0  A1EGX6     A1EGX6   FSCB_MOUSE   \n",
      "2                                   0.0  A2A432     A2A432  CUL4B_MOUSE   \n",
      "3                                   0.0  A2A791     A2A791  ZMYM4_MOUSE   \n",
      "4                                   0.0  A2A8U2     A2A8U2  TM201_MOUSE   \n",
      "\n",
      "Modification UniProt ID Mouse_uniprot_IDs  cadherin_adhesome  \n",
      "0                     0                 0                0.0  \n",
      "1                     0                 0                0.0  \n",
      "2                     0                 0                0.0  \n",
      "3                     0                 0                0.0  \n",
      "4                     0                 0                0.0  \n"
     ]
    }
   ],
   "source": [
    "cadherin_adhesome_df = cadherin_adhesome_df[['UniProt ID', 'Mouse_uniprot_IDs']]\n",
    "cadherin_adhesome_df['cadherin_adhesome'] = 1\n",
    "lysine_df_pivot['ID'] = lysine_df_pivot.index\n",
    "print(lysine_df_pivot.shape)\n",
    "print(uniprot_ids_df.shape)\n",
    "merged_adhesome_mod_df = pd.merge(lysine_df_pivot, uniprot_ids_df,\n",
    "                                  left_on='ID', right_on='uniprot_id', how='right')\n",
    "print(merged_adhesome_mod_df.shape)\n",
    "merged_adhesome_mod_df = pd.merge(merged_adhesome_mod_df, cadherin_adhesome_df,\n",
    "                                  left_on='uniprot_id', right_on=\"Mouse_uniprot_IDs\", how='left')\n",
    "print(sum(merged_adhesome_mod_df['Mouse_uniprot_IDs']!=\"\"))\n",
    "\n",
    "print(merged_adhesome_mod_df.shape)\n",
    "merged_adhesome_mod_df = merged_adhesome_mod_df.fillna(0)\n",
    "print(sum(merged_adhesome_mod_df['Mouse_uniprot_IDs']!=0))\n",
    "print(merged_adhesome_mod_df[merged_adhesome_mod_df['cadherin_adhesome']==1].shape)\n",
    "print(merged_adhesome_mod_df[merged_adhesome_mod_df['cadherin_adhesome']==0].shape)\n",
    "print(merged_adhesome_mod_df.head())\n",
    "\n",
    "\n"
   ]
  },
  {
   "cell_type": "code",
   "execution_count": 65,
   "metadata": {
    "collapsed": true
   },
   "outputs": [],
   "source": [
    "%%R -i merged_adhesome_mod_df\n",
    "final_df <- merged_adhesome_mod_df"
   ]
  },
  {
   "cell_type": "code",
   "execution_count": 66,
   "metadata": {
    "collapsed": false
   },
   "outputs": [
    {
     "data": {
      "text/plain": [
       "   \n",
       "        0     1\n",
       "  0 15217    48\n",
       "  1  1560    28\n",
       "   \n",
       "        0     1\n",
       "  0 15961    61\n",
       "  1   816    15\n",
       "   \n",
       "        0     1\n",
       "  0 15552    58\n",
       "  1  1225    18\n",
       "   \n",
       "        0     1\n",
       "  0 16605    76\n",
       "  1   172     0\n",
       "   \n",
       "        0     1\n",
       "  0 16536    73\n",
       "  1   241     3\n",
       "\n",
       "\tFisher's Exact Test for Count Data\n",
       "\n",
       "data:  table(final_df$acetylation, final_df$cadherin_adhesome)\n",
       "p-value = 8.481e-11\n",
       "alternative hypothesis: true odds ratio is not equal to 1\n",
       "95 percent confidence interval:\n",
       " 3.426061 9.283100\n",
       "sample estimates:\n",
       "odds ratio \n",
       "  5.688872 \n",
       "\n",
       "\n",
       "\tFisher's Exact Test for Count Data\n",
       "\n",
       "data:  table(final_df$succinylation, final_df$cadherin_adhesome)\n",
       "p-value = 3.705e-06\n",
       "alternative hypothesis: true odds ratio is not equal to 1\n",
       "95 percent confidence interval:\n",
       " 2.527008 8.608510\n",
       "sample estimates:\n",
       "odds ratio \n",
       "  4.808379 \n",
       "\n",
       "\n",
       "\tFisher's Exact Test for Count Data\n",
       "\n",
       "data:  table(final_df$malonylation, final_df$cadherin_adhesome)\n",
       "p-value = 7.565e-06\n",
       "alternative hypothesis: true odds ratio is not equal to 1\n",
       "95 percent confidence interval:\n",
       " 2.177085 6.808800\n",
       "sample estimates:\n",
       "odds ratio \n",
       "  3.938955 \n",
       "\n",
       "\n",
       "\tFisher's Exact Test for Count Data\n",
       "\n",
       "data:  table(final_df$glutarylation, final_df$cadherin_adhesome)\n",
       "p-value = 1\n",
       "alternative hypothesis: true odds ratio is not equal to 1\n",
       "95 percent confidence interval:\n",
       " 0.000000 4.852465\n",
       "sample estimates:\n",
       "odds ratio \n",
       "         0 \n",
       "\n",
       "\n",
       "\tFisher's Exact Test for Count Data\n",
       "\n",
       "data:  table(final_df$competitive_modifications, final_df$cadherin_adhesome)\n",
       "p-value = 0.09791\n",
       "alternative hypothesis: true odds ratio is not equal to 1\n",
       "95 percent confidence interval:\n",
       " 0.5644067 8.6688237\n",
       "sample estimates:\n",
       "odds ratio \n",
       "  2.819424 \n",
       "\n"
      ]
     },
     "metadata": {},
     "output_type": "display_data"
    }
   ],
   "source": [
    "%%R\n",
    "print(table(final_df$acetylation, final_df$cadherin_adhesome))\n",
    "print(table(final_df$succinylation, final_df$cadherin_adhesome))\n",
    "print(table(final_df$malonylation, final_df$cadherin_adhesome))\n",
    "print(table(final_df$glutarylation, final_df$cadherin_adhesome))\n",
    "print(table(final_df$competitive_modifications, final_df$cadherin_adhesome))\n",
    "\n",
    "print(fisher.test(table(final_df$acetylation, final_df$cadherin_adhesome)))\n",
    "print(fisher.test(table(final_df$succinylation, final_df$cadherin_adhesome)))\n",
    "print(fisher.test(table(final_df$malonylation, final_df$cadherin_adhesome)))\n",
    "print(fisher.test(table(final_df$glutarylation, final_df$cadherin_adhesome)))\n",
    "print(fisher.test(table(final_df$competitive_modifications, final_df$cadherin_adhesome)))"
   ]
  },
  {
   "cell_type": "code",
   "execution_count": 67,
   "metadata": {
    "collapsed": false
   },
   "outputs": [
    {
     "data": {
      "text/plain": [
       "[1] 4413    9\n",
       "       uniprot.accession Final.Localization.Assignment acetylation\n",
       "A2A432            A2A432                  unclassified           0\n",
       "A2A4P0            A2A4P0       Nucleus - Non-chromatin           0\n",
       "A2A5R2            A2A5R2                  unclassified           0\n",
       "A2A791            A2A791           Nucleus - Chromatin           1\n",
       "A2A8L5            A2A8L5               Plasma membrane           0\n",
       "A2A8Z1            A2A8Z1                  unclassified           1\n",
       "       glutarylation malonylation succinylation succinylation_SIRT5_KO\n",
       "A2A432             0            1             0                      0\n",
       "A2A4P0             0            0             0                      0\n",
       "A2A5R2             0            0             0                      0\n",
       "A2A791             0            1             0                      0\n",
       "A2A8L5             0            0             0                      0\n",
       "A2A8Z1             0            0             0                      0\n",
       "       all_modifications competitive_modifications\n",
       "A2A432                 0                         0\n",
       "A2A4P0                 0                         0\n",
       "A2A5R2                 0                         0\n",
       "A2A791                 0                         0\n",
       "A2A8L5                 0                         0\n",
       "A2A8Z1                 0                         0\n",
       "  UniProt.ID              category cadherin_adhesome\n",
       "1     P12814 actin binding adaptor                 1\n",
       "2     O43707 actin binding adaptor                 1\n",
       "3     P35611 actin binding adaptor                 1\n",
       "4     P24588 actin binding adaptor                 1\n",
       "5     P35221 actin binding adaptor                 1\n",
       "6     P26232 actin binding adaptor                 1\n",
       "[1] 4413   11\n",
       "  uniprot.accession Final.Localization.Assignment acetylation glutarylation\n",
       "1            A2A432                  unclassified           0             0\n",
       "2            A2A4P0       Nucleus - Non-chromatin           0             0\n",
       "3            A2A5R2                  unclassified           0             0\n",
       "4            A2A791           Nucleus - Chromatin           1             0\n",
       "5            A2A8L5               Plasma membrane           0             0\n",
       "6            A2A8Z1                  unclassified           1             0\n",
       "  malonylation succinylation succinylation_SIRT5_KO all_modifications\n",
       "1            1             0                      0                 0\n",
       "2            0             0                      0                 0\n",
       "3            0             0                      0                 0\n",
       "4            1             0                      0                 0\n",
       "5            0             0                      0                 0\n",
       "6            0             0                      0                 0\n",
       "  competitive_modifications category cadherin_adhesome\n",
       "1                         0     <NA>                NA\n",
       "2                         0     <NA>                NA\n",
       "3                         0     <NA>                NA\n",
       "4                         0     <NA>                NA\n",
       "5                         0     <NA>                NA\n",
       "6                         0     <NA>                NA\n",
       "[1] 4413   11\n",
       "[1] 4413   11\n",
       "[1]  0 11\n"
      ]
     },
     "metadata": {},
     "output_type": "display_data"
    }
   ],
   "source": [
    "%%R\n",
    "cadherin_adhesome_df = read.table(\"../raw/Cadherin_adhesome.csv\", header=T, sep=\"\\t\")\n",
    "cadherin_adhesome_df = cadherin_adhesome_df[,c('UniProt.ID', 'category')]\n",
    "cadherin_adhesome_df['cadherin_adhesome'] = 1\n",
    "\n",
    "print(dim(merged_df))\n",
    "print(head(merged_df))\n",
    "print(head(cadherin_adhesome_df))\n",
    "final_df = merge(merged_df, cadherin_adhesome_df,\n",
    "                 by.x='uniprot.accession', by.y='UniProt.ID',\n",
    "                 all.x=TRUE)\n",
    "print(dim(final_df))\n",
    "print(head(final_df))\n",
    "\n",
    "\n",
    "print(dim(final_df[final_df$cadherin_adhesome==1,]))\n",
    "print(dim(final_df[is.na(final_df$cadherin_adhesome),]))\n",
    "print(dim(final_df[!is.na(final_df$cadherin_adhesome),]))\n",
    "\n",
    "\n"
   ]
  },
  {
   "cell_type": "code",
   "execution_count": 68,
   "metadata": {
    "collapsed": false
   },
   "outputs": [
    {
     "name": "stdout",
     "output_type": "stream",
     "text": [
      "Modification      acetylation  malonylation  succinylation  \\\n",
      "Protein Position                                             \n",
      "A0AUV1  5.0                 1             0              0   \n",
      "        9.0                 1             0              0   \n",
      "        95.0                1             0              0   \n",
      "        118.0               1             0              0   \n",
      "A0JLP6  335.0               1             0              0   \n",
      "\n",
      "Modification      succinylation_SIRT5_KO  \n",
      "Protein Position                          \n",
      "A0AUV1  5.0                            0  \n",
      "        9.0                            0  \n",
      "        95.0                           0  \n",
      "        118.0                          0  \n",
      "A0JLP6  335.0                          0  \n",
      "1\n"
     ]
    }
   ],
   "source": [
    "print(lysine_df_pivot2.head())\n",
    "print(max(lysine_df_pivot2['succinylation']))"
   ]
  }
 ],
 "metadata": {
  "anaconda-cloud": {},
  "kernelspec": {
   "display_name": "Python [conda root]",
   "language": "python",
   "name": "conda-root-py"
  },
  "language_info": {
   "codemirror_mode": {
    "name": "ipython",
    "version": 3
   },
   "file_extension": ".py",
   "mimetype": "text/x-python",
   "name": "python",
   "nbconvert_exporter": "python",
   "pygments_lexer": "ipython3",
   "version": "3.5.2"
  }
 },
 "nbformat": 4,
 "nbformat_minor": 1
}
